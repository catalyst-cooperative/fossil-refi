{
 "cells": [
  {
   "cell_type": "code",
   "execution_count": 1,
   "metadata": {},
   "outputs": [],
   "source": [
    "%load_ext autoreload\n",
    "%autoreload 2"
   ]
  },
  {
   "cell_type": "code",
   "execution_count": 2,
   "metadata": {},
   "outputs": [],
   "source": [
    "import sys\n",
    "import os\n",
    "import re\n",
    "import time\n",
    "import numpy as np\n",
    "import pandas as pd\n",
    "import sqlalchemy as sa\n",
    "\n",
    "from sklearn.feature_extraction.text import TfidfVectorizer\n",
    "from sklearn.feature_extraction import DictVectorizer\n",
    "\n",
    "from sklearn.metrics.pairwise import cosine_similarity\n",
    "\n",
    "sys.path.append(os.path.abspath(os.path.join('..','..','..')))\n",
    "from pudl import init, mcoe, analysis, constants, settings, outputs\n",
    "import pudl.extract.ferc1\n",
    "import pudl.transform.pudl\n",
    "\n",
    "import matplotlib.pyplot as plt\n",
    "import matplotlib as mpl\n",
    "%matplotlib inline\n",
    "plt.style.use('ggplot')\n",
    "mpl.rcParams['figure.figsize'] = (10,6)\n",
    "mpl.rcParams['figure.dpi'] = 150\n",
    "pd.options.display.max_columns = 56"
   ]
  },
  {
   "cell_type": "code",
   "execution_count": 3,
   "metadata": {
    "scrolled": false
   },
   "outputs": [
    {
     "name": "stdout",
     "output_type": "stream",
     "text": [
      "FERC plants that need checking: 1.03%\n"
     ]
    }
   ],
   "source": [
    "ferc1_engine = pudl.extract.ferc1.connect_db()\n",
    "ferc1_steam = pd.read_sql('SELECT * FROM f1_steam;', ferc1_engine)\n",
    "ferc1_steam = ferc1_steam.drop(['row_seq', 'row_prvlg','report_prd'], axis=1)\n",
    "\n",
    "# If there's no generation, no fuel expenses, and no total expenses... probably this is bunk.\n",
    "ferc1_steam['filter_1'] = ((ferc1_steam.net_generation==0) | (ferc1_steam.net_generation.isnull())) & \\\n",
    "                          ((ferc1_steam.expns_fuel==0) | (ferc1_steam.expns_fuel.isnull())) & \\\n",
    "                          ((ferc1_steam.tot_prdctn_expns==0) | (ferc1_steam.tot_prdctn_expns.isnull()))\n",
    "        \n",
    "# If we have values in any of the generation, fuel, or total expenses, but there's no plant name or kind,\n",
    "# we need to check the record -- it might be a summary from other lines that we want to capture.\n",
    "ferc1_steam['check_1'] = ~ferc1_steam.filter_1 & ((ferc1_steam.plant_name=='') | (ferc1_steam.plant_kind==''))\n",
    "ferc1_steam['expns_nonfuel'] = ferc1_steam.tot_prdctn_expns - ferc1_steam.expns_fuel\n",
    "print(\"FERC plants that need checking: {:.2%}\".format(len(ferc1_steam[ferc1_steam['check_1']])/len(ferc1_steam)))"
   ]
  },
  {
   "cell_type": "code",
   "execution_count": 4,
   "metadata": {},
   "outputs": [],
   "source": [
    "# Utility & Fuel Consumer Price Index from FRED. Should pull via their API in the long run.\n",
    "util_inflation = pd.DataFrame({\n",
    "    'report_year': np.arange(2003,2017),\n",
    "    'util_cpi':  [228.86, 230.13, 234.59, 225.21, 218.99, 220.37, 214.19,\n",
    "                  210.70, 220.02, 200.63, 194.70, 179.04, 161.89, 154.54]\n",
    "})\n",
    "util_inflation.set_index('report_year', inplace=True)\n",
    "util_inflation['usd_2016_ratio'] = util_inflation.util_cpi / util_inflation.at[(2016,'util_cpi')]\n",
    "util_inflation.reset_index(inplace=True)\n",
    "ferc1_steam = pd.merge(ferc1_steam, util_inflation[['report_year','usd_2016_ratio']], on='report_year')\n",
    "ferc1_steam['expns_nonfuel_usd2016'] = ferc1_steam.expns_nonfuel * ferc1_steam.usd_2016_ratio"
   ]
  },
  {
   "cell_type": "code",
   "execution_count": 5,
   "metadata": {},
   "outputs": [],
   "source": [
    "diesel_strings = [\n",
    "    'DIESEL',\n",
    "    'Diesel Engine',\n",
    "    'Diesel Turbine',\n",
    "]\n",
    "\n",
    "geothermal_strings = [\n",
    "    'Steam - Geothermal',\n",
    "]\n",
    "natural_gas_strings = [\n",
    "    'Combined Cycle',\n",
    "    'Combustion Turbine',\n",
    "    'GT',\n",
    "    'GAS TURBINE',\n",
    "    'Comb. Turbine',\n",
    "    'Gas Turbine #1',\n",
    "    'Combine Cycle Oper',\n",
    "    'Combustion',\n",
    "    'Combined',\n",
    "    'Gas Turbine/Steam',\n",
    "    'Gas Turbine Peaker',\n",
    "    'Gas Turbine - Note 1',\n",
    "    'Resp Share Gas Note3',\n",
    "    'Gas Turbines',\n",
    "    'Simple Cycle',\n",
    "    'Gas / Steam',\n",
    "    'GasTurbine',\n",
    "    'Combine Cycle',\n",
    "    'CTG/Steam-Gas',\n",
    "    'GTG/Gas',\n",
    "    'CTG/Steam -Gas',\n",
    "    'Steam/Gas Turbine',\n",
    "    'CombustionTurbine',\n",
    "    'Gas Turbine-Simple',\n",
    "    'STEAM & GAS TURBINE',\n",
    "    'Gas & Steam Turbine',\n",
    "    'Gas',\n",
    "    'Gas Turbine (2)',\n",
    "    'COMBUSTION AND GAS',\n",
    "    'Com Turbine Peaking',\n",
    "    'Gas Turbine Peaking',\n",
    "    'Comb Turb Peaking',\n",
    "    'JET ENGINE',\n",
    "    'Comb. Cyc',\n",
    "    'Com. Cyc',\n",
    "    'Com. Cycle',\n",
    "    'GAS TURB-COMBINED CY',\n",
    "    'Gas Turb',\n",
    "    'Combined Cycle - 40%',\n",
    "    'IGCC/Gas Turbine',\n",
    "    'CC',\n",
    "    'Combined Cycle Oper',\n",
    "    'Simple Cycle Turbine',\n",
    "    'Steam and CC',\n",
    "    'Com Cycle Gas Turb',\n",
    "    'I.C.E/  Gas Turbine',\n",
    "    'Combined Cycle CTG',\n",
    "    'GAS-TURBINE',\n",
    "    'Gas Expander Turbine',\n",
    "    'Gas Turbine (Leased)',\n",
    "    'Gas Turbine # 1',\n",
    "    'Gas Turbine (Note 1)',\n",
    "    'COMBUSTINE TURBINE',\n",
    "    'Gas Turb, Int. Comb.',\n",
    "    'Combined Turbine',\n",
    "    'Comb Turb Peak Units',\n",
    "    'Combustion Tubine',\n",
    "    'Comb. Cycle',\n",
    "    'COMB.TURB.PEAK.UNITS',\n",
    "    'Steam  and  CC',\n",
    "    'I.C.E. /Gas Turbine',\n",
    "    'Conbustion Turbine',\n",
    "    'Gas Turbine/Int Comb',\n",
    "    'Steam & CC',\n",
    "    'GAS TURB. & HEAT REC',\n",
    "    'Gas Turb/Comb. Cyc',\n",
    "    'Comb. Turine',\n",
    "]\n",
    "nuclear_strings = [\n",
    "    'Nuclear',\n",
    "    'Nuclear (3)',\n",
    "]\n",
    "other_strings = [\n",
    "    'IC',\n",
    "    'Internal Combustion',\n",
    "    'Int Combust - Note 1',\n",
    "    'Resp. Share - Note 2',\n",
    "    'Int. Combust - Note1',\n",
    "    'Resp. Share - Note 4',\n",
    "    'Resp Share - Note 5',\n",
    "    'Resp. Share - Note 7',\n",
    "    'Internal Comb Recip',\n",
    "    'Reciprocating Engine',\n",
    "    'Internal Comb',\n",
    "    'Resp. Share - Note 8',\n",
    "    'Resp. Share - Note 9',\n",
    "    'Resp Share - Note 11',\n",
    "    'Resp. Share - Note 6',\n",
    "    'INT.COMBUSTINE',\n",
    "    'Steam (Incl I.C.)',\n",
    "    'Other',\n",
    "    'Int Combust (Note 1)',\n",
    "    'Resp. Share (Note 2)',\n",
    "    'Int. Combust (Note1)',\n",
    "    'Resp. Share (Note 8)',\n",
    "    'Resp. Share (Note 9)',\n",
    "    'Resp Share (Note 11)',\n",
    "    'Resp. Share (Note 4)',\n",
    "    'Resp. Share (Note 6)',\n",
    "    'Plant retired- 2013',\n",
    "    'Retired - 2013',\n",
    "]\n",
    "steam_strings = [\n",
    "    'Steam',\n",
    "    'Steam Units 1, 2, 3',\n",
    "    'Resp Share St Note 3',\n",
    "    'Steam Turbine',\n",
    "    'Steam-Internal Comb',\n",
    "    'IGCC',\n",
    "    'Steam- 72%',\n",
    "    'Steam (1)',\n",
    "    '\u0002Steam (1)',\n",
    "    'Steam Units 1,2,3',\n",
    "    'Steam/Fossil',\n",
    "    'Steams',\n",
    "    'Steam - 72%',\n",
    "    'Steam - 100%',\n",
    "    'Stream',\n",
    "    'Steam Units 4, 5',\n",
    "    'Steam - 64%',\n",
    "    'Common',\n",
    "    'Steam (A)',\n",
    "    'Coal',\n",
    "    'Steam;Retired - 2013',\n",
    "    'Steam Units 4 & 6',\n",
    "]\n",
    "wind_strings = [\n",
    "    'Wind',\n",
    "    'Wind Turbine',\n",
    "    'Wind - Turbine',\n",
    "    'Wind Energy',\n",
    "]\n",
    "solar_strings = [\n",
    "    'Solar Photovoltaic',\n",
    "    'Solar Thermal',\n",
    "    'SOLAR PROJECT',\n",
    "    'Solar',\n",
    "    'Photovoltaic',\n",
    "]\n",
    "cpi_plant_kind_map = {\n",
    "    'natural_gas': natural_gas_strings,\n",
    "    'diesel': diesel_strings,\n",
    "    'geothermal': geothermal_strings,\n",
    "    'nuclear': nuclear_strings,\n",
    "    'steam': steam_strings,\n",
    "    'wind': wind_strings,\n",
    "    'solar': solar_strings,\n",
    "    'other': other_strings,\n",
    "}\n",
    "\n",
    "ferc1_steam['plant_kind_cpi'] = pudl.transform.pudl.cleanstrings(ferc1_steam.plant_kind,\n",
    "                                                                 cpi_plant_kind_map,\n",
    "                                                                 unmapped='')\n",
    "ferc1_tmp = ferc1_steam[~ferc1_steam.filter_1].copy()\n",
    "ferc1_steam = pd.merge(ferc1_steam, ferc1_tmp, how='left')"
   ]
  },
  {
   "cell_type": "code",
   "execution_count": 6,
   "metadata": {},
   "outputs": [],
   "source": [
    "matching_cols = [\n",
    "    'report_year',\n",
    "    'spplmnt_num',\n",
    "    'row_number',\n",
    "    'respondent_id',\n",
    "    'plant_name',\n",
    "    'plant_kind_cpi',\n",
    "    'yr_const',\n",
    "    'filter_1',\n",
    "    'check_1',\n",
    "]"
   ]
  },
  {
   "cell_type": "code",
   "execution_count": 7,
   "metadata": {},
   "outputs": [],
   "source": [
    "ferc1_tomatch = ferc1_steam[matching_cols][(~ferc1_steam.filter_1) & (~ferc1_steam.check_1)]\n",
    "ferc1_tomatch.drop(['filter_1','check_1'], axis=1, inplace=True)"
   ]
  },
  {
   "cell_type": "code",
   "execution_count": 8,
   "metadata": {},
   "outputs": [],
   "source": [
    "#plant_names = ferc1_tomatch.plant_name.unique()\n",
    "vectorizer = TfidfVectorizer(analyzer='char', ngram_range=(5,5))\n",
    "tf_idf_matrix = vectorizer.fit_transform(ferc1_tomatch.plant_name)"
   ]
  },
  {
   "cell_type": "markdown",
   "metadata": {},
   "source": [
    "## Outline\n",
    "* TF-IDF matrix is L2 normalized. It's a vectorization of just the string feature (plant_name)\n",
    "* Need to combine it with three other vectorized categorical features: plant kind, construction year, and respondent ID.\n",
    "* Each of these components can be multiplied by a weighting factor as needed before being combined into a single composite vector.\n",
    "* Once the vectors have been combined, we calculate the cosine similarity between each record, and all the other records to see which ones match best.\n",
    "* For each record, we need to select up to one record from each year of data, to stitch together a continuous time series for each plant.\n",
    "* We can't use any record in more than one time series."
   ]
  },
  {
   "cell_type": "code",
   "execution_count": 9,
   "metadata": {},
   "outputs": [],
   "source": [
    "def get_matches_df(sparse_matrix, name_vector):\n",
    "    non_zeros = sparse_matrix.nonzero()\n",
    "    \n",
    "    sparserows = non_zeros[0]\n",
    "    sparsecols = non_zeros[1]\n",
    "    \n",
    "    nr_matches = sparsecols.size\n",
    "    \n",
    "    left_side = np.empty([nr_matches], dtype=object)\n",
    "    right_side = np.empty([nr_matches], dtype=object)\n",
    "    cossim = np.zeros(nr_matches)\n",
    "    \n",
    "    for index in range(0, nr_matches):\n",
    "        left_side[index] = name_vector[sparserows[index]]\n",
    "        right_side[index] = name_vector[sparsecols[index]]\n",
    "        cossim[index] = sparse_matrix.data[index]\n",
    "    \n",
    "    return pd.DataFrame({'left_side': left_side,\n",
    "                         'right_side': right_side,\n",
    "                         'cossim': cossim})"
   ]
  },
  {
   "cell_type": "code",
   "execution_count": 10,
   "metadata": {},
   "outputs": [
    {
     "ename": "KeyError",
     "evalue": "10120",
     "output_type": "error",
     "traceback": [
      "\u001b[0;31m---------------------------------------------------------------------------\u001b[0m",
      "\u001b[0;31mKeyError\u001b[0m                                  Traceback (most recent call last)",
      "\u001b[0;32m<ipython-input-10-6bac390238b2>\u001b[0m in \u001b[0;36m<module>\u001b[0;34m()\u001b[0m\n\u001b[1;32m      1\u001b[0m \u001b[0mmatches\u001b[0m \u001b[0;34m=\u001b[0m \u001b[0mcosine_similarity\u001b[0m\u001b[0;34m(\u001b[0m\u001b[0mtf_idf_matrix\u001b[0m\u001b[0;34m,\u001b[0m \u001b[0mdense_output\u001b[0m\u001b[0;34m=\u001b[0m\u001b[0;32mFalse\u001b[0m\u001b[0;34m)\u001b[0m\u001b[0;34m\u001b[0m\u001b[0m\n\u001b[0;32m----> 2\u001b[0;31m \u001b[0mmatches_df\u001b[0m \u001b[0;34m=\u001b[0m \u001b[0mget_matches_df\u001b[0m\u001b[0;34m(\u001b[0m\u001b[0mmatches\u001b[0m\u001b[0;34m,\u001b[0m \u001b[0mferc1_tomatch\u001b[0m\u001b[0;34m.\u001b[0m\u001b[0mplant_name\u001b[0m\u001b[0;34m)\u001b[0m\u001b[0;34m\u001b[0m\u001b[0m\n\u001b[0m\u001b[1;32m      3\u001b[0m \u001b[0;31m#plt.hist(matches_df.cossim, bins=100, range=(0.4,1.0));\u001b[0m\u001b[0;34m\u001b[0m\u001b[0;34m\u001b[0m\u001b[0m\n",
      "\u001b[0;32m<ipython-input-9-1a729f37c359>\u001b[0m in \u001b[0;36mget_matches_df\u001b[0;34m(sparse_matrix, name_vector)\u001b[0m\n\u001b[1;32m     13\u001b[0m     \u001b[0;32mfor\u001b[0m \u001b[0mindex\u001b[0m \u001b[0;32min\u001b[0m \u001b[0mrange\u001b[0m\u001b[0;34m(\u001b[0m\u001b[0;36m0\u001b[0m\u001b[0;34m,\u001b[0m \u001b[0mnr_matches\u001b[0m\u001b[0;34m)\u001b[0m\u001b[0;34m:\u001b[0m\u001b[0;34m\u001b[0m\u001b[0m\n\u001b[1;32m     14\u001b[0m         \u001b[0mleft_side\u001b[0m\u001b[0;34m[\u001b[0m\u001b[0mindex\u001b[0m\u001b[0;34m]\u001b[0m \u001b[0;34m=\u001b[0m \u001b[0mname_vector\u001b[0m\u001b[0;34m[\u001b[0m\u001b[0msparserows\u001b[0m\u001b[0;34m[\u001b[0m\u001b[0mindex\u001b[0m\u001b[0;34m]\u001b[0m\u001b[0;34m]\u001b[0m\u001b[0;34m\u001b[0m\u001b[0m\n\u001b[0;32m---> 15\u001b[0;31m         \u001b[0mright_side\u001b[0m\u001b[0;34m[\u001b[0m\u001b[0mindex\u001b[0m\u001b[0;34m]\u001b[0m \u001b[0;34m=\u001b[0m \u001b[0mname_vector\u001b[0m\u001b[0;34m[\u001b[0m\u001b[0msparsecols\u001b[0m\u001b[0;34m[\u001b[0m\u001b[0mindex\u001b[0m\u001b[0;34m]\u001b[0m\u001b[0;34m]\u001b[0m\u001b[0;34m\u001b[0m\u001b[0m\n\u001b[0m\u001b[1;32m     16\u001b[0m         \u001b[0mcossim\u001b[0m\u001b[0;34m[\u001b[0m\u001b[0mindex\u001b[0m\u001b[0;34m]\u001b[0m \u001b[0;34m=\u001b[0m \u001b[0msparse_matrix\u001b[0m\u001b[0;34m.\u001b[0m\u001b[0mdata\u001b[0m\u001b[0;34m[\u001b[0m\u001b[0mindex\u001b[0m\u001b[0;34m]\u001b[0m\u001b[0;34m\u001b[0m\u001b[0m\n\u001b[1;32m     17\u001b[0m \u001b[0;34m\u001b[0m\u001b[0m\n",
      "\u001b[0;32m~/anaconda/lib/python3.6/site-packages/pandas/core/series.py\u001b[0m in \u001b[0;36m__getitem__\u001b[0;34m(self, key)\u001b[0m\n\u001b[1;32m    621\u001b[0m         \u001b[0mkey\u001b[0m \u001b[0;34m=\u001b[0m \u001b[0mcom\u001b[0m\u001b[0;34m.\u001b[0m\u001b[0m_apply_if_callable\u001b[0m\u001b[0;34m(\u001b[0m\u001b[0mkey\u001b[0m\u001b[0;34m,\u001b[0m \u001b[0mself\u001b[0m\u001b[0;34m)\u001b[0m\u001b[0;34m\u001b[0m\u001b[0m\n\u001b[1;32m    622\u001b[0m         \u001b[0;32mtry\u001b[0m\u001b[0;34m:\u001b[0m\u001b[0;34m\u001b[0m\u001b[0m\n\u001b[0;32m--> 623\u001b[0;31m             \u001b[0mresult\u001b[0m \u001b[0;34m=\u001b[0m \u001b[0mself\u001b[0m\u001b[0;34m.\u001b[0m\u001b[0mindex\u001b[0m\u001b[0;34m.\u001b[0m\u001b[0mget_value\u001b[0m\u001b[0;34m(\u001b[0m\u001b[0mself\u001b[0m\u001b[0;34m,\u001b[0m \u001b[0mkey\u001b[0m\u001b[0;34m)\u001b[0m\u001b[0;34m\u001b[0m\u001b[0m\n\u001b[0m\u001b[1;32m    624\u001b[0m \u001b[0;34m\u001b[0m\u001b[0m\n\u001b[1;32m    625\u001b[0m             \u001b[0;32mif\u001b[0m \u001b[0;32mnot\u001b[0m \u001b[0mis_scalar\u001b[0m\u001b[0;34m(\u001b[0m\u001b[0mresult\u001b[0m\u001b[0;34m)\u001b[0m\u001b[0;34m:\u001b[0m\u001b[0;34m\u001b[0m\u001b[0m\n",
      "\u001b[0;32m~/anaconda/lib/python3.6/site-packages/pandas/core/indexes/base.py\u001b[0m in \u001b[0;36mget_value\u001b[0;34m(self, series, key)\u001b[0m\n\u001b[1;32m   2558\u001b[0m         \u001b[0;32mtry\u001b[0m\u001b[0;34m:\u001b[0m\u001b[0;34m\u001b[0m\u001b[0m\n\u001b[1;32m   2559\u001b[0m             return self._engine.get_value(s, k,\n\u001b[0;32m-> 2560\u001b[0;31m                                           tz=getattr(series.dtype, 'tz', None))\n\u001b[0m\u001b[1;32m   2561\u001b[0m         \u001b[0;32mexcept\u001b[0m \u001b[0mKeyError\u001b[0m \u001b[0;32mas\u001b[0m \u001b[0me1\u001b[0m\u001b[0;34m:\u001b[0m\u001b[0;34m\u001b[0m\u001b[0m\n\u001b[1;32m   2562\u001b[0m             \u001b[0;32mif\u001b[0m \u001b[0mlen\u001b[0m\u001b[0;34m(\u001b[0m\u001b[0mself\u001b[0m\u001b[0;34m)\u001b[0m \u001b[0;34m>\u001b[0m \u001b[0;36m0\u001b[0m \u001b[0;32mand\u001b[0m \u001b[0mself\u001b[0m\u001b[0;34m.\u001b[0m\u001b[0minferred_type\u001b[0m \u001b[0;32min\u001b[0m \u001b[0;34m[\u001b[0m\u001b[0;34m'integer'\u001b[0m\u001b[0;34m,\u001b[0m \u001b[0;34m'boolean'\u001b[0m\u001b[0;34m]\u001b[0m\u001b[0;34m:\u001b[0m\u001b[0;34m\u001b[0m\u001b[0m\n",
      "\u001b[0;32mpandas/_libs/index.pyx\u001b[0m in \u001b[0;36mpandas._libs.index.IndexEngine.get_value\u001b[0;34m()\u001b[0m\n",
      "\u001b[0;32mpandas/_libs/index.pyx\u001b[0m in \u001b[0;36mpandas._libs.index.IndexEngine.get_value\u001b[0;34m()\u001b[0m\n",
      "\u001b[0;32mpandas/_libs/index.pyx\u001b[0m in \u001b[0;36mpandas._libs.index.IndexEngine.get_loc\u001b[0;34m()\u001b[0m\n",
      "\u001b[0;32mpandas/_libs/hashtable_class_helper.pxi\u001b[0m in \u001b[0;36mpandas._libs.hashtable.Int64HashTable.get_item\u001b[0;34m()\u001b[0m\n",
      "\u001b[0;32mpandas/_libs/hashtable_class_helper.pxi\u001b[0m in \u001b[0;36mpandas._libs.hashtable.Int64HashTable.get_item\u001b[0;34m()\u001b[0m\n",
      "\u001b[0;31mKeyError\u001b[0m: 10120"
     ]
    }
   ],
   "source": [
    "matches = cosine_similarity(tf_idf_matrix, dense_output=False)\n",
    "matches_df = get_matches_df(matches, ferc1_tomatch.plant_name)\n",
    "#plt.hist(matches_df.cossim, bins=100, range=(0.4,1.0));"
   ]
  },
  {
   "cell_type": "code",
   "execution_count": null,
   "metadata": {
    "scrolled": true
   },
   "outputs": [],
   "source": [
    "good_matches = matches_df[(matches_df['cossim'] < 0.99999) &\n",
    "                          (matches_df['cossim'] > 0.5)]\n",
    "good_matches.sort_values(['cossim'], ascending=False).head(10)"
   ]
  },
  {
   "cell_type": "code",
   "execution_count": null,
   "metadata": {
    "scrolled": true
   },
   "outputs": [],
   "source": [
    "good_matches.sample(10)"
   ]
  },
  {
   "cell_type": "markdown",
   "metadata": {},
   "source": [
    "## A simple set of one-hot dictionary features..."
   ]
  },
  {
   "cell_type": "code",
   "execution_count": null,
   "metadata": {},
   "outputs": [],
   "source": [
    "plant_kind_onehot = pd.get_dummies(ferc1_steam, columns=['plant_kind_cpi']).filter(regex='^plant_kind_cpi_.*')\n",
    "#respondent_onehot = pd.get_dummies(ferc1_steam, columns=['respondent_id'])\n",
    "#yr_const_onehot = pd.get_dummies(ferc1_steam, columns=['yr_const'])"
   ]
  },
  {
   "cell_type": "code",
   "execution_count": null,
   "metadata": {},
   "outputs": [],
   "source": [
    "sklearn.preprocessing.normalize(plant_kind_onehot, norm='l2')*3"
   ]
  },
  {
   "cell_type": "code",
   "execution_count": null,
   "metadata": {},
   "outputs": [],
   "source": [
    "plant_kind_onehot[['plant_kind', 'plant_kind_cpi', 'plant_kind_cpi_natural_gas']]"
   ]
  }
 ],
 "metadata": {
  "anaconda-cloud": {},
  "kernelspec": {
   "display_name": "Python 3",
   "language": "python",
   "name": "python3"
  },
  "language_info": {
   "codemirror_mode": {
    "name": "ipython",
    "version": 3
   },
   "file_extension": ".py",
   "mimetype": "text/x-python",
   "name": "python",
   "nbconvert_exporter": "python",
   "pygments_lexer": "ipython3",
   "version": "3.6.4"
  }
 },
 "nbformat": 4,
 "nbformat_minor": 1
}
