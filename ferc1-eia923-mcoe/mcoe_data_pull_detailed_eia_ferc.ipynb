{
 "cells": [
  {
   "cell_type": "code",
   "execution_count": 1,
   "metadata": {
    "collapsed": true
   },
   "outputs": [],
   "source": [
    "%load_ext autoreload\n",
    "%autoreload 2\n",
    "%matplotlib inline\n",
    "import sys\n",
    "import os\n",
    "import numpy as np\n",
    "import pandas as pd\n",
    "import sqlalchemy as sa\n",
    "sys.path.append(os.path.abspath(os.path.join('..','..','..')))\n",
    "from pudl import pudl, ferc1, eia923, settings, constants, analysis\n",
    "from pudl import models, models_ferc1, models_eia923, outputs\n",
    "from pudl import clean_eia923, clean_ferc1, clean_pudl, mcoe\n",
    "import matplotlib.pyplot as plt\n",
    "import matplotlib as mpl\n",
    "pd.options.mode.chained_assignment = None\n",
    "plt.style.use('ggplot')\n",
    "mpl.rcParams['figure.figsize'] = (10,6)\n",
    "mpl.rcParams['figure.dpi'] = 150\n",
    "pd.options.display.max_columns = 56\n",
    "pd.options.display.max_rows = 100"
   ]
  },
  {
   "cell_type": "code",
   "execution_count": 4,
   "metadata": {
    "collapsed": true
   },
   "outputs": [],
   "source": [
    "pudl_engine  = pudl.connect_db()"
   ]
  },
  {
   "cell_type": "markdown",
   "metadata": {},
   "source": [
    "# Pulling the required tables"
   ]
  },
  {
   "cell_type": "code",
   "execution_count": 5,
   "metadata": {},
   "outputs": [],
   "source": [
    "g9_summed = mcoe.generation_pull_eia923(pudl_engine)\n",
    "g8, g8_es = mcoe.generators_pull_eia860(pudl_engine)\n",
    "frc9_summed, frc9_summed_plant = mcoe.fuel_reciepts_costs_pull_eia923(pudl_engine)\n",
    "bga8 = mcoe.boiler_generator_pull_eia860(pudl_engine)\n",
    "bf9_summed, bf9_plant_summed = mcoe.boiler_fuel_pull_eia923(pudl_engine)"
   ]
  },
  {
   "cell_type": "markdown",
   "metadata": {},
   "source": [
    "### Calculate a generator's proportion of plant capacity"
   ]
  },
  {
   "cell_type": "code",
   "execution_count": null,
   "metadata": {
    "collapsed": true
   },
   "outputs": [],
   "source": [
    "# capacity_eia = analysis.capacity_proportion_eia923(g8, id_col='plant_id_eia')\n",
    "# capacity_pudl = analysis.capacity_proportion_eia923(g8, id_col='plant_id_pudl')"
   ]
  },
  {
   "cell_type": "markdown",
   "metadata": {},
   "source": [
    "## Generating Capacity Factor"
   ]
  },
  {
   "cell_type": "code",
   "execution_count": 11,
   "metadata": {
    "collapsed": true,
    "scrolled": false
   },
   "outputs": [],
   "source": [
    "capacity_factor = analysis.capacity_factor(g9_summed,g8, id_col='plant_id_eia')"
   ]
  },
  {
   "cell_type": "code",
   "execution_count": 12,
   "metadata": {},
   "outputs": [
    {
     "data": {
      "text/html": [
       "<div>\n",
       "<style>\n",
       "    .dataframe thead tr:only-child th {\n",
       "        text-align: right;\n",
       "    }\n",
       "\n",
       "    .dataframe thead th {\n",
       "        text-align: left;\n",
       "    }\n",
       "\n",
       "    .dataframe tbody tr th {\n",
       "        vertical-align: top;\n",
       "    }\n",
       "</style>\n",
       "<table border=\"1\" class=\"dataframe\">\n",
       "  <thead>\n",
       "    <tr style=\"text-align: right;\">\n",
       "      <th></th>\n",
       "      <th>report_year</th>\n",
       "      <th>plant_id_eia</th>\n",
       "      <th>plant_id_pudl</th>\n",
       "      <th>generator_id</th>\n",
       "      <th>net_generation_mwh</th>\n",
       "      <th>plant_name</th>\n",
       "      <th>operator_name</th>\n",
       "      <th>state</th>\n",
       "      <th>nameplate_capacity_mw</th>\n",
       "      <th>summer_capacity_mw</th>\n",
       "      <th>winter_capacity_mw</th>\n",
       "      <th>capacity_factor</th>\n",
       "    </tr>\n",
       "  </thead>\n",
       "  <tbody>\n",
       "    <tr>\n",
       "      <th>0</th>\n",
       "      <td>2011</td>\n",
       "      <td>3</td>\n",
       "      <td>32</td>\n",
       "      <td>1</td>\n",
       "      <td>312130.0</td>\n",
       "      <td>Barry</td>\n",
       "      <td>Alabama Power Co</td>\n",
       "      <td>AL</td>\n",
       "      <td>153.1</td>\n",
       "      <td>138.0</td>\n",
       "      <td>138.0</td>\n",
       "      <td>0.232732</td>\n",
       "    </tr>\n",
       "    <tr>\n",
       "      <th>1</th>\n",
       "      <td>2011</td>\n",
       "      <td>3</td>\n",
       "      <td>32</td>\n",
       "      <td>2</td>\n",
       "      <td>191475.0</td>\n",
       "      <td>Barry</td>\n",
       "      <td>Alabama Power Co</td>\n",
       "      <td>AL</td>\n",
       "      <td>153.1</td>\n",
       "      <td>137.0</td>\n",
       "      <td>137.0</td>\n",
       "      <td>0.142769</td>\n",
       "    </tr>\n",
       "  </tbody>\n",
       "</table>\n",
       "</div>"
      ],
      "text/plain": [
       "   report_year  plant_id_eia  plant_id_pudl generator_id  net_generation_mwh  \\\n",
       "0         2011             3             32            1            312130.0   \n",
       "1         2011             3             32            2            191475.0   \n",
       "\n",
       "  plant_name     operator_name state  nameplate_capacity_mw  \\\n",
       "0      Barry  Alabama Power Co    AL                  153.1   \n",
       "1      Barry  Alabama Power Co    AL                  153.1   \n",
       "\n",
       "   summer_capacity_mw  winter_capacity_mw  capacity_factor  \n",
       "0               138.0               138.0         0.232732  \n",
       "1               137.0               137.0         0.142769  "
      ]
     },
     "execution_count": 12,
     "metadata": {},
     "output_type": "execute_result"
    }
   ],
   "source": [
    "capacity_factor.head(2)"
   ]
  },
  {
   "cell_type": "markdown",
   "metadata": {},
   "source": [
    "## Generating Heat Rate"
   ]
  },
  {
   "cell_type": "code",
   "execution_count": 16,
   "metadata": {},
   "outputs": [
    {
     "data": {
      "text/html": [
       "<div>\n",
       "<style>\n",
       "    .dataframe thead tr:only-child th {\n",
       "        text-align: right;\n",
       "    }\n",
       "\n",
       "    .dataframe thead th {\n",
       "        text-align: left;\n",
       "    }\n",
       "\n",
       "    .dataframe tbody tr th {\n",
       "        vertical-align: top;\n",
       "    }\n",
       "</style>\n",
       "<table border=\"1\" class=\"dataframe\">\n",
       "  <thead>\n",
       "    <tr style=\"text-align: right;\">\n",
       "      <th></th>\n",
       "      <th>report_year</th>\n",
       "      <th>plant_id_eia</th>\n",
       "      <th>plant_id_pudl</th>\n",
       "      <th>generator_id</th>\n",
       "      <th>net_generation_mwh</th>\n",
       "    </tr>\n",
       "  </thead>\n",
       "  <tbody>\n",
       "    <tr>\n",
       "      <th>0</th>\n",
       "      <td>2009</td>\n",
       "      <td>3</td>\n",
       "      <td>32</td>\n",
       "      <td>1</td>\n",
       "      <td>221908.0</td>\n",
       "    </tr>\n",
       "    <tr>\n",
       "      <th>1</th>\n",
       "      <td>2009</td>\n",
       "      <td>3</td>\n",
       "      <td>32</td>\n",
       "      <td>2</td>\n",
       "      <td>394031.0</td>\n",
       "    </tr>\n",
       "  </tbody>\n",
       "</table>\n",
       "</div>"
      ],
      "text/plain": [
       "   report_year  plant_id_eia  plant_id_pudl generator_id  net_generation_mwh\n",
       "0         2009             3             32            1            221908.0\n",
       "1         2009             3             32            2            394031.0"
      ]
     },
     "execution_count": 16,
     "metadata": {},
     "output_type": "execute_result"
    }
   ],
   "source": [
    "g9_summed.head(2)"
   ]
  },
  {
   "cell_type": "code",
   "execution_count": 22,
   "metadata": {
    "collapsed": true,
    "scrolled": false
   },
   "outputs": [],
   "source": [
    "heat_rate = mcoe.heat_rate(bga8, g9_summed, bf9_summed, bf9_plant_summed, pudl_engine, id_col='plant_id_eia')"
   ]
  },
  {
   "cell_type": "code",
   "execution_count": 23,
   "metadata": {},
   "outputs": [
    {
     "data": {
      "text/html": [
       "<div>\n",
       "<style>\n",
       "    .dataframe thead tr:only-child th {\n",
       "        text-align: right;\n",
       "    }\n",
       "\n",
       "    .dataframe thead th {\n",
       "        text-align: left;\n",
       "    }\n",
       "\n",
       "    .dataframe tbody tr th {\n",
       "        vertical-align: top;\n",
       "    }\n",
       "</style>\n",
       "<table border=\"1\" class=\"dataframe\">\n",
       "  <thead>\n",
       "    <tr style=\"text-align: right;\">\n",
       "      <th></th>\n",
       "      <th>complete_assn</th>\n",
       "      <th>fuel_consumed_mmbtu_per_gen</th>\n",
       "      <th>generator_id</th>\n",
       "      <th>heat_rate_mmbtu_mwh</th>\n",
       "      <th>net_generation_mwh</th>\n",
       "      <th>plant_assn</th>\n",
       "      <th>plant_id_eia</th>\n",
       "      <th>plant_id_pudl</th>\n",
       "      <th>report_year</th>\n",
       "    </tr>\n",
       "  </thead>\n",
       "  <tbody>\n",
       "    <tr>\n",
       "      <th>0</th>\n",
       "      <td>True</td>\n",
       "      <td>2.282135e+06</td>\n",
       "      <td>1</td>\n",
       "      <td>10.284149</td>\n",
       "      <td>221908.0</td>\n",
       "      <td>True</td>\n",
       "      <td>3</td>\n",
       "      <td>32</td>\n",
       "      <td>2009</td>\n",
       "    </tr>\n",
       "    <tr>\n",
       "      <th>1</th>\n",
       "      <td>True</td>\n",
       "      <td>4.047126e+06</td>\n",
       "      <td>2</td>\n",
       "      <td>10.271086</td>\n",
       "      <td>394031.0</td>\n",
       "      <td>True</td>\n",
       "      <td>3</td>\n",
       "      <td>32</td>\n",
       "      <td>2009</td>\n",
       "    </tr>\n",
       "    <tr>\n",
       "      <th>2</th>\n",
       "      <td>True</td>\n",
       "      <td>1.306599e+07</td>\n",
       "      <td>3</td>\n",
       "      <td>10.157073</td>\n",
       "      <td>1286393.0</td>\n",
       "      <td>True</td>\n",
       "      <td>3</td>\n",
       "      <td>32</td>\n",
       "      <td>2009</td>\n",
       "    </tr>\n",
       "    <tr>\n",
       "      <th>3</th>\n",
       "      <td>True</td>\n",
       "      <td>1.616073e+07</td>\n",
       "      <td>4</td>\n",
       "      <td>9.935606</td>\n",
       "      <td>1626547.0</td>\n",
       "      <td>True</td>\n",
       "      <td>3</td>\n",
       "      <td>32</td>\n",
       "      <td>2009</td>\n",
       "    </tr>\n",
       "    <tr>\n",
       "      <th>4</th>\n",
       "      <td>True</td>\n",
       "      <td>4.470910e+07</td>\n",
       "      <td>5</td>\n",
       "      <td>9.906513</td>\n",
       "      <td>4513101.0</td>\n",
       "      <td>True</td>\n",
       "      <td>3</td>\n",
       "      <td>32</td>\n",
       "      <td>2009</td>\n",
       "    </tr>\n",
       "  </tbody>\n",
       "</table>\n",
       "</div>"
      ],
      "text/plain": [
       "   complete_assn  fuel_consumed_mmbtu_per_gen generator_id  \\\n",
       "0           True                 2.282135e+06            1   \n",
       "1           True                 4.047126e+06            2   \n",
       "2           True                 1.306599e+07            3   \n",
       "3           True                 1.616073e+07            4   \n",
       "4           True                 4.470910e+07            5   \n",
       "\n",
       "   heat_rate_mmbtu_mwh  net_generation_mwh  plant_assn  plant_id_eia  \\\n",
       "0            10.284149            221908.0        True             3   \n",
       "1            10.271086            394031.0        True             3   \n",
       "2            10.157073           1286393.0        True             3   \n",
       "3             9.935606           1626547.0        True             3   \n",
       "4             9.906513           4513101.0        True             3   \n",
       "\n",
       "   plant_id_pudl  report_year  \n",
       "0             32         2009  \n",
       "1             32         2009  \n",
       "2             32         2009  \n",
       "3             32         2009  \n",
       "4             32         2009  "
      ]
     },
     "execution_count": 23,
     "metadata": {},
     "output_type": "execute_result"
    }
   ],
   "source": [
    "heat_rate.head()"
   ]
  },
  {
   "cell_type": "markdown",
   "metadata": {},
   "source": [
    "## Calculating proportions of generation & capacity"
   ]
  },
  {
   "cell_type": "code",
   "execution_count": null,
   "metadata": {
    "collapsed": true
   },
   "outputs": [],
   "source": [
    "# proportion_gen_eia = analysis.generator_proportion_eia923(g9, id_col='plant_id_eia')\n",
    "# proportion_gen_pudl = analysis.generator_proportion_eia923(g9, id_col='plant_id_pudl')"
   ]
  },
  {
   "cell_type": "code",
   "execution_count": null,
   "metadata": {
    "collapsed": true
   },
   "outputs": [],
   "source": [
    "# convert Y-M-D to year\n",
    "# proportion_gen_eia.report_date = proportion_gen_eia.report_date.dt.year\n",
    "# proportion_gen_pudl.report_date = proportion_gen_pudl.report_date.dt.year"
   ]
  },
  {
   "cell_type": "code",
   "execution_count": null,
   "metadata": {
    "collapsed": true
   },
   "outputs": [],
   "source": [
    "# testplant = proportion[proportion['plant_id_pudl']==217]\n",
    "# testplant = proportion[proportion['plant_id_eia']==7343]\n",
    "# testplant = proportion[proportion['plant_id_eia']==1091]"
   ]
  },
  {
   "cell_type": "code",
   "execution_count": null,
   "metadata": {
    "collapsed": true
   },
   "outputs": [],
   "source": [
    "# g9[g9[\"plant_id_eia\"]==1091] #this is plant_id_pudl 217\n",
    "# g9[g9[\"plant_id_eia\"]==7343] #this is also plant_id_pudl 217"
   ]
  },
  {
   "cell_type": "markdown",
   "metadata": {},
   "source": [
    "## Generating Fuel Cost"
   ]
  },
  {
   "cell_type": "code",
   "execution_count": 26,
   "metadata": {
    "collapsed": true,
    "scrolled": false
   },
   "outputs": [],
   "source": [
    "fuel_cost = mcoe.fuel_cost(g8_es, g9_summed, frc9_summed, frc9_summed_plant, heat_rate)"
   ]
  },
  {
   "cell_type": "code",
   "execution_count": 30,
   "metadata": {
    "scrolled": true
   },
   "outputs": [
    {
     "data": {
      "text/html": [
       "<div>\n",
       "<style>\n",
       "    .dataframe thead tr:only-child th {\n",
       "        text-align: right;\n",
       "    }\n",
       "\n",
       "    .dataframe thead th {\n",
       "        text-align: left;\n",
       "    }\n",
       "\n",
       "    .dataframe tbody tr th {\n",
       "        vertical-align: top;\n",
       "    }\n",
       "</style>\n",
       "<table border=\"1\" class=\"dataframe\">\n",
       "  <thead>\n",
       "    <tr style=\"text-align: right;\">\n",
       "      <th></th>\n",
       "      <th>energy_source</th>\n",
       "      <th>energy_source_cons</th>\n",
       "      <th>energy_source_count</th>\n",
       "      <th>fuel_cost_es</th>\n",
       "      <th>fuel_cost_per_mmbtu_average</th>\n",
       "      <th>fuel_cost_per_mwh</th>\n",
       "      <th>fuel_cost_plant</th>\n",
       "      <th>generator_id</th>\n",
       "      <th>heat_rate_mmbtu_mwh</th>\n",
       "      <th>mmbtu_es</th>\n",
       "      <th>mmbtu_plant</th>\n",
       "      <th>nameplate_capacity_mw</th>\n",
       "      <th>net_generation_mwh</th>\n",
       "      <th>operator_name</th>\n",
       "      <th>plant_id_eia</th>\n",
       "      <th>plant_id_pudl</th>\n",
       "      <th>plant_name</th>\n",
       "      <th>report_year</th>\n",
       "      <th>state</th>\n",
       "    </tr>\n",
       "  </thead>\n",
       "  <tbody>\n",
       "    <tr>\n",
       "      <th>13646</th>\n",
       "      <td>BLQ</td>\n",
       "      <td>biomass_solid</td>\n",
       "      <td>1.0</td>\n",
       "      <td>NaN</td>\n",
       "      <td>NaN</td>\n",
       "      <td>NaN</td>\n",
       "      <td>NaN</td>\n",
       "      <td>TG1</td>\n",
       "      <td>29.015609</td>\n",
       "      <td>NaN</td>\n",
       "      <td>NaN</td>\n",
       "      <td>64.0</td>\n",
       "      <td>420186.000</td>\n",
       "      <td>Weyerhaeuser Co</td>\n",
       "      <td>50184</td>\n",
       "      <td>3549</td>\n",
       "      <td>Weyerhaeuser Columbus MS</td>\n",
       "      <td>2016</td>\n",
       "      <td>MS</td>\n",
       "    </tr>\n",
       "    <tr>\n",
       "      <th>11948</th>\n",
       "      <td>MSW</td>\n",
       "      <td>solid_renewable</td>\n",
       "      <td>1.0</td>\n",
       "      <td>NaN</td>\n",
       "      <td>NaN</td>\n",
       "      <td>NaN</td>\n",
       "      <td>NaN</td>\n",
       "      <td>WFI1</td>\n",
       "      <td>16.499929</td>\n",
       "      <td>NaN</td>\n",
       "      <td>NaN</td>\n",
       "      <td>53.3</td>\n",
       "      <td>321533.000</td>\n",
       "      <td>Wheelabrator Environmental Systems</td>\n",
       "      <td>54746</td>\n",
       "      <td>4248</td>\n",
       "      <td>Wheelabrator Falls</td>\n",
       "      <td>2015</td>\n",
       "      <td>PA</td>\n",
       "    </tr>\n",
       "    <tr>\n",
       "      <th>11035</th>\n",
       "      <td>SUB</td>\n",
       "      <td>coal</td>\n",
       "      <td>1.0</td>\n",
       "      <td>NaN</td>\n",
       "      <td>2.509452</td>\n",
       "      <td>27.227871</td>\n",
       "      <td>1.760362e+08</td>\n",
       "      <td>1</td>\n",
       "      <td>10.850125</td>\n",
       "      <td>NaN</td>\n",
       "      <td>7.014925e+07</td>\n",
       "      <td>900.0</td>\n",
       "      <td>2779145.000</td>\n",
       "      <td>Entergy Arkansas Inc</td>\n",
       "      <td>6641</td>\n",
       "      <td>280</td>\n",
       "      <td>Independence Steam Electric Station</td>\n",
       "      <td>2015</td>\n",
       "      <td>AR</td>\n",
       "    </tr>\n",
       "    <tr>\n",
       "      <th>5501</th>\n",
       "      <td>SUB</td>\n",
       "      <td>coal</td>\n",
       "      <td>2.0</td>\n",
       "      <td>3.890436e+07</td>\n",
       "      <td>2.061973</td>\n",
       "      <td>25.311509</td>\n",
       "      <td>NaN</td>\n",
       "      <td>1</td>\n",
       "      <td>12.275381</td>\n",
       "      <td>1.886754e+07</td>\n",
       "      <td>NaN</td>\n",
       "      <td>540.0</td>\n",
       "      <td>1672822.000</td>\n",
       "      <td>Grand River Dam Authority</td>\n",
       "      <td>165</td>\n",
       "      <td>1355</td>\n",
       "      <td>GREC</td>\n",
       "      <td>2016</td>\n",
       "      <td>OK</td>\n",
       "    </tr>\n",
       "    <tr>\n",
       "      <th>10587</th>\n",
       "      <td>SUB</td>\n",
       "      <td>coal</td>\n",
       "      <td>1.0</td>\n",
       "      <td>NaN</td>\n",
       "      <td>NaN</td>\n",
       "      <td>NaN</td>\n",
       "      <td>NaN</td>\n",
       "      <td>6</td>\n",
       "      <td>21.787314</td>\n",
       "      <td>NaN</td>\n",
       "      <td>NaN</td>\n",
       "      <td>6.4</td>\n",
       "      <td>6120.952</td>\n",
       "      <td>Hibbing Public Utilities Comm</td>\n",
       "      <td>1979</td>\n",
       "      <td>1938</td>\n",
       "      <td>Hibbing</td>\n",
       "      <td>2015</td>\n",
       "      <td>MN</td>\n",
       "    </tr>\n",
       "    <tr>\n",
       "      <th>1240</th>\n",
       "      <td>BIT</td>\n",
       "      <td>coal</td>\n",
       "      <td>1.0</td>\n",
       "      <td>NaN</td>\n",
       "      <td>NaN</td>\n",
       "      <td>NaN</td>\n",
       "      <td>NaN</td>\n",
       "      <td>TG22</td>\n",
       "      <td>36.243376</td>\n",
       "      <td>NaN</td>\n",
       "      <td>3.684006e+07</td>\n",
       "      <td>15.4</td>\n",
       "      <td>84261.879</td>\n",
       "      <td>Eastman Chemical Co-TN Ops</td>\n",
       "      <td>50481</td>\n",
       "      <td>3695</td>\n",
       "      <td>Tennessee Eastman Operations</td>\n",
       "      <td>2009</td>\n",
       "      <td>TN</td>\n",
       "    </tr>\n",
       "    <tr>\n",
       "      <th>6601</th>\n",
       "      <td>BIT</td>\n",
       "      <td>coal</td>\n",
       "      <td>1.0</td>\n",
       "      <td>NaN</td>\n",
       "      <td>NaN</td>\n",
       "      <td>NaN</td>\n",
       "      <td>NaN</td>\n",
       "      <td>1</td>\n",
       "      <td>10.607907</td>\n",
       "      <td>NaN</td>\n",
       "      <td>7.395654e+07</td>\n",
       "      <td>576.0</td>\n",
       "      <td>2546110.000</td>\n",
       "      <td>Allegheny Energy Supply Co LLC</td>\n",
       "      <td>3179</td>\n",
       "      <td>1145</td>\n",
       "      <td>Hatfields Ferry Power Station</td>\n",
       "      <td>2013</td>\n",
       "      <td>PA</td>\n",
       "    </tr>\n",
       "    <tr>\n",
       "      <th>337</th>\n",
       "      <td>RFO</td>\n",
       "      <td>oil</td>\n",
       "      <td>1.0</td>\n",
       "      <td>NaN</td>\n",
       "      <td>NaN</td>\n",
       "      <td>NaN</td>\n",
       "      <td>NaN</td>\n",
       "      <td>1</td>\n",
       "      <td>25.521792</td>\n",
       "      <td>NaN</td>\n",
       "      <td>2.483199e+06</td>\n",
       "      <td>50.0</td>\n",
       "      <td>4195.000</td>\n",
       "      <td>FPL Energy Wyman LLC</td>\n",
       "      <td>1507</td>\n",
       "      <td>654</td>\n",
       "      <td>William F Wyman</td>\n",
       "      <td>2009</td>\n",
       "      <td>ME</td>\n",
       "    </tr>\n",
       "    <tr>\n",
       "      <th>3255</th>\n",
       "      <td>SUB</td>\n",
       "      <td>coal</td>\n",
       "      <td>2.0</td>\n",
       "      <td>5.257574e+07</td>\n",
       "      <td>2.838123</td>\n",
       "      <td>42.919818</td>\n",
       "      <td>NaN</td>\n",
       "      <td>8</td>\n",
       "      <td>15.122607</td>\n",
       "      <td>1.852483e+07</td>\n",
       "      <td>NaN</td>\n",
       "      <td>156.3</td>\n",
       "      <td>860941.000</td>\n",
       "      <td>Consumers Energy Co</td>\n",
       "      <td>1720</td>\n",
       "      <td>666</td>\n",
       "      <td>J C Weadock</td>\n",
       "      <td>2013</td>\n",
       "      <td>MI</td>\n",
       "    </tr>\n",
       "    <tr>\n",
       "      <th>1698</th>\n",
       "      <td>BIT</td>\n",
       "      <td>coal</td>\n",
       "      <td>1.0</td>\n",
       "      <td>NaN</td>\n",
       "      <td>4.117757</td>\n",
       "      <td>49.214837</td>\n",
       "      <td>2.219089e+08</td>\n",
       "      <td>3</td>\n",
       "      <td>11.951855</td>\n",
       "      <td>NaN</td>\n",
       "      <td>5.389073e+07</td>\n",
       "      <td>122.5</td>\n",
       "      <td>388721.000</td>\n",
       "      <td>Georgia Power Co</td>\n",
       "      <td>728</td>\n",
       "      <td>658</td>\n",
       "      <td>Yates</td>\n",
       "      <td>2010</td>\n",
       "      <td>GA</td>\n",
       "    </tr>\n",
       "  </tbody>\n",
       "</table>\n",
       "</div>"
      ],
      "text/plain": [
       "      energy_source energy_source_cons  energy_source_count  fuel_cost_es  \\\n",
       "13646           BLQ      biomass_solid                  1.0           NaN   \n",
       "11948           MSW    solid_renewable                  1.0           NaN   \n",
       "11035           SUB               coal                  1.0           NaN   \n",
       "5501            SUB               coal                  2.0  3.890436e+07   \n",
       "10587           SUB               coal                  1.0           NaN   \n",
       "1240            BIT               coal                  1.0           NaN   \n",
       "6601            BIT               coal                  1.0           NaN   \n",
       "337             RFO                oil                  1.0           NaN   \n",
       "3255            SUB               coal                  2.0  5.257574e+07   \n",
       "1698            BIT               coal                  1.0           NaN   \n",
       "\n",
       "       fuel_cost_per_mmbtu_average  fuel_cost_per_mwh  fuel_cost_plant  \\\n",
       "13646                          NaN                NaN              NaN   \n",
       "11948                          NaN                NaN              NaN   \n",
       "11035                     2.509452          27.227871     1.760362e+08   \n",
       "5501                      2.061973          25.311509              NaN   \n",
       "10587                          NaN                NaN              NaN   \n",
       "1240                           NaN                NaN              NaN   \n",
       "6601                           NaN                NaN              NaN   \n",
       "337                            NaN                NaN              NaN   \n",
       "3255                      2.838123          42.919818              NaN   \n",
       "1698                      4.117757          49.214837     2.219089e+08   \n",
       "\n",
       "      generator_id  heat_rate_mmbtu_mwh      mmbtu_es   mmbtu_plant  \\\n",
       "13646          TG1            29.015609           NaN           NaN   \n",
       "11948         WFI1            16.499929           NaN           NaN   \n",
       "11035            1            10.850125           NaN  7.014925e+07   \n",
       "5501             1            12.275381  1.886754e+07           NaN   \n",
       "10587            6            21.787314           NaN           NaN   \n",
       "1240          TG22            36.243376           NaN  3.684006e+07   \n",
       "6601             1            10.607907           NaN  7.395654e+07   \n",
       "337              1            25.521792           NaN  2.483199e+06   \n",
       "3255             8            15.122607  1.852483e+07           NaN   \n",
       "1698             3            11.951855           NaN  5.389073e+07   \n",
       "\n",
       "       nameplate_capacity_mw  net_generation_mwh  \\\n",
       "13646                   64.0          420186.000   \n",
       "11948                   53.3          321533.000   \n",
       "11035                  900.0         2779145.000   \n",
       "5501                   540.0         1672822.000   \n",
       "10587                    6.4            6120.952   \n",
       "1240                    15.4           84261.879   \n",
       "6601                   576.0         2546110.000   \n",
       "337                     50.0            4195.000   \n",
       "3255                   156.3          860941.000   \n",
       "1698                   122.5          388721.000   \n",
       "\n",
       "                            operator_name  plant_id_eia  plant_id_pudl  \\\n",
       "13646                     Weyerhaeuser Co         50184           3549   \n",
       "11948  Wheelabrator Environmental Systems         54746           4248   \n",
       "11035                Entergy Arkansas Inc          6641            280   \n",
       "5501            Grand River Dam Authority           165           1355   \n",
       "10587       Hibbing Public Utilities Comm          1979           1938   \n",
       "1240           Eastman Chemical Co-TN Ops         50481           3695   \n",
       "6601       Allegheny Energy Supply Co LLC          3179           1145   \n",
       "337                  FPL Energy Wyman LLC          1507            654   \n",
       "3255                  Consumers Energy Co          1720            666   \n",
       "1698                     Georgia Power Co           728            658   \n",
       "\n",
       "                                plant_name  report_year state  \n",
       "13646             Weyerhaeuser Columbus MS         2016    MS  \n",
       "11948                   Wheelabrator Falls         2015    PA  \n",
       "11035  Independence Steam Electric Station         2015    AR  \n",
       "5501                                  GREC         2016    OK  \n",
       "10587                              Hibbing         2015    MN  \n",
       "1240          Tennessee Eastman Operations         2009    TN  \n",
       "6601         Hatfields Ferry Power Station         2013    PA  \n",
       "337                        William F Wyman         2009    ME  \n",
       "3255                           J C Weadock         2013    MI  \n",
       "1698                                 Yates         2010    GA  "
      ]
     },
     "execution_count": 30,
     "metadata": {},
     "output_type": "execute_result"
    }
   ],
   "source": [
    "fuel_cost.sample(10)"
   ]
  },
  {
   "cell_type": "markdown",
   "metadata": {},
   "source": [
    "### Merge fields together"
   ]
  },
  {
   "cell_type": "code",
   "execution_count": 69,
   "metadata": {
    "collapsed": true
   },
   "outputs": [],
   "source": [
    "# Merge relevant fuel cost fields with heat rate\n",
    "mcoe_by_generator = fuel_cost[['plant_id_eia',\n",
    "                               'plant_id_pudl',\n",
    "                               'report_year',\n",
    "                               'generator_id',\n",
    "                               'energy_source',\n",
    "                               'energy_source_cons',\n",
    "                               'mmbtu_es',\n",
    "                               'mmbtu_plant',\n",
    "                               'fuel_cost_es',\n",
    "                               'fuel_cost_plant',\n",
    "                               'fuel_cost_per_mmbtu_average',\n",
    "                               'fuel_cost_per_mwh']].merge(heat_rate,\n",
    "                                                           on=['plant_id_eia',\n",
    "                                                               'plant_id_pudl',\n",
    "                                                               'report_year',\n",
    "                                                               'generator_id'])\n",
    "\n",
    "# Merge in capacity facotr\n",
    "mcoe_by_generator = mcoe_by_generator.drop('net_generation_mwh', \n",
    "                                           axis=1).merge(capacity_factor,\n",
    "                                                         on=['plant_id_eia',\n",
    "                                                             'plant_id_pudl',\n",
    "                                                             'report_year',\n",
    "                                                             'generator_id'])\n",
    "\n",
    "# Merge in plant level fuel consumption from bf9_plant_summed, rename field\n",
    "mcoe_by_generator = mcoe_by_generator.merge(bf9_plant_summed,\n",
    "                                            on=['plant_id_eia',\n",
    "                                                'plant_id_pudl',\n",
    "                                                'report_year'])\n",
    "mcoe_by_generator.rename(columns={'fuel_consumed_mmbtu':'fuel_consumed_mmbtu_plant'},\n",
    "                         inplace=True)"
   ]
  },
  {
   "cell_type": "markdown",
   "metadata": {},
   "source": [
    "### Filter to include only plants >= 10 MW"
   ]
  },
  {
   "cell_type": "code",
   "execution_count": 70,
   "metadata": {
    "collapsed": true
   },
   "outputs": [],
   "source": [
    "# Now, let's grab only those plants larger than 10MW\n",
    "mcoe_by_generator = mcoe_by_generator[mcoe_by_generator['nameplate_capacity_mw']>=10]"
   ]
  },
  {
   "cell_type": "markdown",
   "metadata": {},
   "source": [
    "## Aggregate at fuel cost and net gen at plant level for comparison with FERC"
   ]
  },
  {
   "cell_type": "code",
   "execution_count": 71,
   "metadata": {
    "collapsed": true,
    "scrolled": true
   },
   "outputs": [],
   "source": [
    "frc9 = analysis.simple_select('fuel_receipts_costs_eia923', pudl_engine)\n",
    "frc9['fuel_cost'] = (frc9['fuel_quantity'] *\n",
    "                     frc9['average_heat_content'] *\n",
    "                     frc9['fuel_cost_per_mmbtu'])"
   ]
  },
  {
   "cell_type": "code",
   "execution_count": 72,
   "metadata": {
    "collapsed": true
   },
   "outputs": [],
   "source": [
    "fuel_summed = analysis.yearly_sum_eia(frc9, 'fuel_cost', columns=['plant_id_pudl',\n",
    "                                           'report_year'])\n",
    "fuel_summed = fuel_summed.reset_index()\n",
    "fuel_summed.rename(columns={'fuel_cost': 'fuel_cost_annual_eia'}, inplace=True)\n",
    "fuel_summed = fuel_summed.reset_index()"
   ]
  },
  {
   "cell_type": "code",
   "execution_count": 73,
   "metadata": {
    "collapsed": true,
    "scrolled": false
   },
   "outputs": [],
   "source": [
    "eia_netgen = mcoe_by_generator.groupby(by=['plant_id_eia', 'plant_id_pudl','report_year'])\n",
    "netgen_summed = eia_netgen.agg({'net_generation_mwh':np.sum})\n",
    "netgen_summed.rename(columns={'net_generation_mwh': 'net_generation_mwh_plant_eia'}, inplace=True)\n",
    "netgen_summed = netgen_summed.reset_index()"
   ]
  },
  {
   "cell_type": "code",
   "execution_count": 74,
   "metadata": {
    "collapsed": true
   },
   "outputs": [],
   "source": [
    "mcoe_by_generator = mcoe_by_generator.merge(fuel_summed, how=\"left\", left_on=['plant_id_pudl', 'report_year'], \n",
    "                                             right_on=['plant_id_pudl', 'report_year'])"
   ]
  },
  {
   "cell_type": "code",
   "execution_count": 75,
   "metadata": {
    "collapsed": true
   },
   "outputs": [],
   "source": [
    "mcoe_by_generator = mcoe_by_generator.merge(netgen_summed, how=\"left\", on=['plant_id_eia', 'plant_id_pudl', 'report_year'])"
   ]
  },
  {
   "cell_type": "code",
   "execution_count": 76,
   "metadata": {},
   "outputs": [
    {
     "data": {
      "text/html": [
       "<div>\n",
       "<style>\n",
       "    .dataframe thead tr:only-child th {\n",
       "        text-align: right;\n",
       "    }\n",
       "\n",
       "    .dataframe thead th {\n",
       "        text-align: left;\n",
       "    }\n",
       "\n",
       "    .dataframe tbody tr th {\n",
       "        vertical-align: top;\n",
       "    }\n",
       "</style>\n",
       "<table border=\"1\" class=\"dataframe\">\n",
       "  <thead>\n",
       "    <tr style=\"text-align: right;\">\n",
       "      <th></th>\n",
       "      <th>plant_id_eia</th>\n",
       "      <th>plant_id_pudl</th>\n",
       "      <th>report_year</th>\n",
       "      <th>generator_id</th>\n",
       "      <th>energy_source</th>\n",
       "      <th>energy_source_cons</th>\n",
       "      <th>mmbtu_es</th>\n",
       "      <th>mmbtu_plant</th>\n",
       "      <th>fuel_cost_es</th>\n",
       "      <th>fuel_cost_plant</th>\n",
       "      <th>fuel_cost_per_mmbtu_average</th>\n",
       "      <th>fuel_cost_per_mwh</th>\n",
       "      <th>complete_assn</th>\n",
       "      <th>fuel_consumed_mmbtu_per_gen</th>\n",
       "      <th>heat_rate_mmbtu_mwh</th>\n",
       "      <th>plant_assn</th>\n",
       "      <th>net_generation_mwh</th>\n",
       "      <th>plant_name</th>\n",
       "      <th>operator_name</th>\n",
       "      <th>state</th>\n",
       "      <th>nameplate_capacity_mw</th>\n",
       "      <th>summer_capacity_mw</th>\n",
       "      <th>winter_capacity_mw</th>\n",
       "      <th>capacity_factor</th>\n",
       "      <th>fuel_consumed_mmbtu_plant</th>\n",
       "      <th>index</th>\n",
       "      <th>fuel_cost_annual_eia</th>\n",
       "      <th>net_generation_mwh_plant_eia</th>\n",
       "    </tr>\n",
       "  </thead>\n",
       "  <tbody>\n",
       "    <tr>\n",
       "      <th>0</th>\n",
       "      <td>7</td>\n",
       "      <td>204</td>\n",
       "      <td>2011</td>\n",
       "      <td>1</td>\n",
       "      <td>BIT</td>\n",
       "      <td>coal</td>\n",
       "      <td>NaN</td>\n",
       "      <td>1508074.416</td>\n",
       "      <td>NaN</td>\n",
       "      <td>5.985504e+06</td>\n",
       "      <td>3.968971</td>\n",
       "      <td>63.964246</td>\n",
       "      <td>True</td>\n",
       "      <td>2976913.306</td>\n",
       "      <td>16.116077</td>\n",
       "      <td>True</td>\n",
       "      <td>184717.0</td>\n",
       "      <td>Gadsden</td>\n",
       "      <td>Alabama Power Co</td>\n",
       "      <td>AL</td>\n",
       "      <td>69.0</td>\n",
       "      <td>64.0</td>\n",
       "      <td>64.0</td>\n",
       "      <td>0.305600</td>\n",
       "      <td>3632852.861</td>\n",
       "      <td>960.0</td>\n",
       "      <td>5.985504e+06</td>\n",
       "      <td>230200.0</td>\n",
       "    </tr>\n",
       "    <tr>\n",
       "      <th>1</th>\n",
       "      <td>7</td>\n",
       "      <td>204</td>\n",
       "      <td>2011</td>\n",
       "      <td>2</td>\n",
       "      <td>BIT</td>\n",
       "      <td>coal</td>\n",
       "      <td>NaN</td>\n",
       "      <td>1508074.416</td>\n",
       "      <td>NaN</td>\n",
       "      <td>5.985504e+06</td>\n",
       "      <td>3.968971</td>\n",
       "      <td>57.239085</td>\n",
       "      <td>True</td>\n",
       "      <td>655939.555</td>\n",
       "      <td>14.421642</td>\n",
       "      <td>True</td>\n",
       "      <td>45483.0</td>\n",
       "      <td>Gadsden</td>\n",
       "      <td>Alabama Power Co</td>\n",
       "      <td>AL</td>\n",
       "      <td>69.0</td>\n",
       "      <td>66.0</td>\n",
       "      <td>66.0</td>\n",
       "      <td>0.075248</td>\n",
       "      <td>3632852.861</td>\n",
       "      <td>960.0</td>\n",
       "      <td>5.985504e+06</td>\n",
       "      <td>230200.0</td>\n",
       "    </tr>\n",
       "  </tbody>\n",
       "</table>\n",
       "</div>"
      ],
      "text/plain": [
       "   plant_id_eia  plant_id_pudl  report_year generator_id energy_source  \\\n",
       "0             7            204         2011            1           BIT   \n",
       "1             7            204         2011            2           BIT   \n",
       "\n",
       "  energy_source_cons  mmbtu_es  mmbtu_plant  fuel_cost_es  fuel_cost_plant  \\\n",
       "0               coal       NaN  1508074.416           NaN     5.985504e+06   \n",
       "1               coal       NaN  1508074.416           NaN     5.985504e+06   \n",
       "\n",
       "   fuel_cost_per_mmbtu_average  fuel_cost_per_mwh  complete_assn  \\\n",
       "0                     3.968971          63.964246           True   \n",
       "1                     3.968971          57.239085           True   \n",
       "\n",
       "   fuel_consumed_mmbtu_per_gen  heat_rate_mmbtu_mwh  plant_assn  \\\n",
       "0                  2976913.306            16.116077        True   \n",
       "1                   655939.555            14.421642        True   \n",
       "\n",
       "   net_generation_mwh plant_name     operator_name state  \\\n",
       "0            184717.0    Gadsden  Alabama Power Co    AL   \n",
       "1             45483.0    Gadsden  Alabama Power Co    AL   \n",
       "\n",
       "   nameplate_capacity_mw  summer_capacity_mw  winter_capacity_mw  \\\n",
       "0                   69.0                64.0                64.0   \n",
       "1                   69.0                66.0                66.0   \n",
       "\n",
       "   capacity_factor  fuel_consumed_mmbtu_plant  index  fuel_cost_annual_eia  \\\n",
       "0         0.305600                3632852.861  960.0          5.985504e+06   \n",
       "1         0.075248                3632852.861  960.0          5.985504e+06   \n",
       "\n",
       "   net_generation_mwh_plant_eia  \n",
       "0                      230200.0  \n",
       "1                      230200.0  "
      ]
     },
     "execution_count": 76,
     "metadata": {},
     "output_type": "execute_result"
    }
   ],
   "source": [
    "mcoe_by_generator.head(2)"
   ]
  },
  {
   "cell_type": "code",
   "execution_count": 64,
   "metadata": {
    "collapsed": true
   },
   "outputs": [],
   "source": [
    "mcoe_by_generator = mcoe_by_generator3"
   ]
  },
  {
   "cell_type": "markdown",
   "metadata": {},
   "source": [
    "## Export the data frame"
   ]
  },
  {
   "cell_type": "code",
   "execution_count": null,
   "metadata": {
    "collapsed": true
   },
   "outputs": [],
   "source": [
    "# rearrange columns\n",
    "mcoe_by_generator = mcoe_by_generator3[[\n",
    "    'plant_id_eia', \n",
    "    'plant_id_pudl',\n",
    "    'plant_name',\n",
    "    'operator_name', \n",
    "    'state', \n",
    "    'report_year', \n",
    "    'generator_id', \n",
    "    'energy_source',\n",
    "    'mmbtu_es',\n",
    "    'mmbtu_plant',\n",
    "    'fuel_cost_es',\n",
    "    'fuel_cost_plant',\n",
    "    'fuel_cost_per_mmbtu_average',\n",
    "    'fuel_consumed_mmbtu',\n",
    "    'fuel_consumed_mmbtu_per_gen',\n",
    "    'fuel_cost_annual_eia',\n",
    "    'heat_rate_mmbtu_mwh', \n",
    "    'plant_assn', \n",
    "    'net_generation_mwh', \n",
    "    'net_generation_mwh_plant_eia',\n",
    "    'fuel_cost_per_mwh',\n",
    "    'nameplate_capacity_mw', \n",
    "    'capacity_factor']]"
   ]
  },
  {
   "cell_type": "code",
   "execution_count": null,
   "metadata": {
    "collapsed": true
   },
   "outputs": [],
   "source": [
    "mcoe_by_generator.head(2)"
   ]
  },
  {
   "cell_type": "markdown",
   "metadata": {},
   "source": [
    "# Pull in FERC data & identify plants with simple"
   ]
  },
  {
   "cell_type": "code",
   "execution_count": null,
   "metadata": {
    "collapsed": true
   },
   "outputs": [],
   "source": [
    "simple_ferc = analysis.simple_ferc1_plant_ids(pudl_engine)"
   ]
  },
  {
   "cell_type": "code",
   "execution_count": null,
   "metadata": {
    "collapsed": true
   },
   "outputs": [],
   "source": [
    "# convert simple ferc list into a pandas series for import to analysis.ferc_expenses() function\n",
    "simple_ferc = simple_ferc.iloc[:,0]"
   ]
  },
  {
   "cell_type": "code",
   "execution_count": null,
   "metadata": {
    "collapsed": true,
    "scrolled": false
   },
   "outputs": [],
   "source": [
    "pd.options.display.max_rows = 999"
   ]
  },
  {
   "cell_type": "code",
   "execution_count": null,
   "metadata": {
    "collapsed": true
   },
   "outputs": [],
   "source": [
    "fp = outputs.plants_steam_ferc1(pudl_engine)\n",
    "# fp = analysis.get_steam_ferc1_df(pudl_engine)"
   ]
  },
  {
   "cell_type": "code",
   "execution_count": null,
   "metadata": {
    "collapsed": true
   },
   "outputs": [],
   "source": [
    "# ferc_expenses returns:\n",
    "# ferc1_expns_corr: A dictionary of expense categories\n",
    "#             and their correlations to the plant's net electricity generation.\n",
    "# steam_df: a dataframe with all the operating expenses broken out for each simple FERC PUDL plant."
   ]
  },
  {
   "cell_type": "code",
   "execution_count": null,
   "metadata": {
    "collapsed": true
   },
   "outputs": [],
   "source": [
    "ferc_expenses = analysis.ferc_expenses(pudl_engine, simple_ferc)\n",
    "ferc_expenses_df = ferc_expenses[1]"
   ]
  },
  {
   "cell_type": "code",
   "execution_count": null,
   "metadata": {
    "collapsed": true,
    "scrolled": false
   },
   "outputs": [],
   "source": [
    "ferc_expenses_df.head()"
   ]
  },
  {
   "cell_type": "code",
   "execution_count": null,
   "metadata": {
    "collapsed": true
   },
   "outputs": [],
   "source": [
    "# create a correlation table to export\n",
    "corr = pd.DataFrame.from_dict(ferc_expenses[0], orient='index')\n",
    "corr.index.names = ['expense_variable']\n",
    "corr = corr.reset_index()\n",
    "corr = corr.rename(columns={0: 'correlation_with_net_generation_mwh_plant'})"
   ]
  },
  {
   "cell_type": "code",
   "execution_count": null,
   "metadata": {
    "collapsed": true
   },
   "outputs": [],
   "source": [
    "# create a ferc_expenses data frame to merge with EIA data\n",
    "ferc_expenses_df = ferc_expenses[1]"
   ]
  },
  {
   "cell_type": "code",
   "execution_count": null,
   "metadata": {
    "collapsed": true
   },
   "outputs": [],
   "source": [
    "ferc_expenses_df.rename(columns={'net_generation_mwh': 'net_generation_mwh_plant',\n",
    "                                 'plant_name': 'plant_name_ferc',\n",
    "                                 'respondent_id': 'respondent_id_ferc',\n",
    "                                 'respondent_name': 'respondent_name_ferc',\n",
    "                                 'total_capacity_mw': 'total_capacity_mw_plant'}, inplace=True)"
   ]
  },
  {
   "cell_type": "code",
   "execution_count": null,
   "metadata": {
    "collapsed": true
   },
   "outputs": [],
   "source": [
    "mcoe_by_generator.rename(columns={'net_generation_mwh': 'net_generation_mwh_generator',\n",
    "                                  'plant_name': 'plant_name_eia',\n",
    "                                  'operator_name': 'operator_name_eia',\n",
    "                                  'nameplate_capacity_mw': 'nameplate_capacity_mw_generator',\n",
    "                                  'summer_capacity_mw': 'summer_capacity_mw_generator',\n",
    "                                  'winter_capacity_mw': 'winter_capacity_mw_generator'}, inplace=True)"
   ]
  },
  {
   "cell_type": "code",
   "execution_count": null,
   "metadata": {
    "collapsed": true
   },
   "outputs": [],
   "source": [
    "mcoe_by_generator.head(2)"
   ]
  },
  {
   "cell_type": "code",
   "execution_count": null,
   "metadata": {
    "collapsed": true
   },
   "outputs": [],
   "source": [
    "# mcoe_by_generator.drop('plant_id_pudl', axis=1, inplace=True)"
   ]
  },
  {
   "cell_type": "code",
   "execution_count": null,
   "metadata": {
    "collapsed": true
   },
   "outputs": [],
   "source": [
    "# Left merge keeps all rows of mcoe_by_generator and duplicates values of ferc_expenses_df \n",
    "# for each combination of plant_id_pudl and report_date\n",
    "merged = mcoe_by_generator.merge(ferc_expenses_df, how=\"left\", left_on=['plant_id_pudl', 'report_year'], right_on=['plant_id_pudl', 'report_year'])"
   ]
  },
  {
   "cell_type": "code",
   "execution_count": null,
   "metadata": {
    "collapsed": true
   },
   "outputs": [],
   "source": [
    "# remove the non-simple plants by dropping rows where plant_name_ferc = NA\n",
    "merged = merged.dropna(subset=['plant_name_ferc'])"
   ]
  },
  {
   "cell_type": "code",
   "execution_count": null,
   "metadata": {
    "collapsed": true
   },
   "outputs": [],
   "source": [
    "merged.head()"
   ]
  },
  {
   "cell_type": "code",
   "execution_count": null,
   "metadata": {
    "collapsed": true
   },
   "outputs": [],
   "source": [
    "# rearrange columns\n",
    "merged = merged[[\n",
    "    'plant_id_pudl', 'plant_id_eia', 'plant_name_eia',\n",
    "    'operator_name_eia', 'state', 'report_year', \n",
    "    'generator_id', \n",
    "    'energy_source', 'mmbtu_es', 'mmbtu_plant',\n",
    "    'fuel_cost_es', 'fuel_cost_plant',\n",
    "    'fuel_cost_per_mmbtu_average',\n",
    "    'fuel_consumed_mmbtu', \n",
    "    'fuel_consumed_mmbtu_per_gen', 'fuel_cost_annual_eia',\n",
    "    'heat_rate_mmbtu_mwh', 'plant_assn', \n",
    "    'net_generation_mwh_generator', 'net_generation_mwh_plant_eia',\n",
    "    'fuel_cost_per_mwh', 'nameplate_capacity_mw_generator', \n",
    "    'capacity_factor',\n",
    "    'report_year', 'respondent_id_ferc', 'util_id_pudl', \n",
    "    'respondent_name_ferc', 'plant_name_ferc',\n",
    "    'total_capacity_mw_plant', 'year_constructed', 'year_installed',\n",
    "    'peak_demand_mw', 'water_limited_mw', 'not_water_limited_mw',\n",
    "    'plant_hours', 'net_generation_mwh_plant', 'expns_operations',\n",
    "    'expns_fuel', 'expns_coolants', 'expns_steam', 'expns_steam_other',\n",
    "    'expns_transfer', 'expns_electric', 'expns_misc_power', 'expns_rents',\n",
    "    'expns_allowances', 'expns_engineering', 'expns_structures',\n",
    "    'expns_boiler', 'expns_plants', 'expns_misc_steam',\n",
    "    'expns_production_total', 'expns_per_mwh',\n",
    "    'expns_total_nonfuel_production', 'expns_total_nonproduction']]"
   ]
  },
  {
   "cell_type": "code",
   "execution_count": null,
   "metadata": {
    "collapsed": true
   },
   "outputs": [],
   "source": [
    "# number of plants in this data set\n",
    "len(merged.plant_id_pudl.unique())"
   ]
  },
  {
   "cell_type": "code",
   "execution_count": null,
   "metadata": {
    "collapsed": true
   },
   "outputs": [],
   "source": [
    "mcoe_annotations = pd.read_csv('mcoe_field_annotations_detailed.csv')\n",
    "mcoe_notes = pd.read_csv('mcoe_notes.csv')"
   ]
  },
  {
   "cell_type": "code",
   "execution_count": null,
   "metadata": {
    "collapsed": true
   },
   "outputs": [],
   "source": [
    "# # to export all the data\n",
    "# xlsx_writer = pd.ExcelWriter('coal_plants_detailed_MCOE_by_generator_2011-2016.xlsx')\n",
    "# merged.to_excel(xlsx_writer, sheet_name='MCOE by Generator', index=False, na_rep='NA')\n",
    "# corr.to_excel(xlsx_writer, sheet_name='Expense Correlations', index=False, na_rep='NA')\n",
    "# mcoe_annotations.to_excel(xlsx_writer, sheet_name='MCOE Annotations', index=False)\n",
    "# mcoe_notes.to_excel(xlsx_writer, sheet_name='MCOE Notes', index=False)\n",
    "\n",
    "# xlsx_writer.save()"
   ]
  },
  {
   "cell_type": "code",
   "execution_count": null,
   "metadata": {
    "collapsed": true
   },
   "outputs": [],
   "source": [
    "# to export all the data\n",
    "# xlsx_writer = pd.ExcelWriter('test_primary_fuel_cost_attribution.xlsx')\n",
    "# xlsx_writer = pd.ExcelWriter('test_plant_category_cost_attribution.xlsx')\n",
    "# xlsx_writer = pd.ExcelWriter('coal_plants_NSPC&MPI_detailed_MCOE_by_generator_2011-2016.xlsx')\n",
    "\n",
    "# test.to_excel(xlsx_writer, sheet_name='MCOE by Generator', index=False, na_rep='NA')\n",
    "# corr.to_excel(xlsx_writer, sheet_name='Expense Correlations', index=False, na_rep='NA')\n",
    "# mcoe_annotations.to_excel(xlsx_writer, sheet_name='MCOE Annotations', index=False)\n",
    "# mcoe_notes.to_excel(xlsx_writer, sheet_name='MCOE Notes', index=False)\n",
    "\n",
    "# xlsx_writer.save()"
   ]
  },
  {
   "cell_type": "code",
   "execution_count": null,
   "metadata": {
    "collapsed": true
   },
   "outputs": [],
   "source": [
    "merged.head(3)"
   ]
  },
  {
   "cell_type": "code",
   "execution_count": null,
   "metadata": {
    "collapsed": true
   },
   "outputs": [],
   "source": [
    "merged2 = merged.dropna(subset=['net_generation_mwh_plant_eia', 'net_generation_mwh_plant'])"
   ]
  },
  {
   "cell_type": "code",
   "execution_count": null,
   "metadata": {
    "collapsed": true,
    "scrolled": false
   },
   "outputs": [],
   "source": [
    "fuels = ['gas','oil','coal']\n",
    "fig, (ax) = plt.subplots(ncols=1, nrows=1)\n",
    "fig.set_figwidth(10)\n",
    "fig.set_figheight(10)\n",
    "fig.set_dpi(150)\n",
    "ax.loglog()\n",
    "plt.grid(b=True)\n",
    "R2 = np.corrcoef(merged2.net_generation_mwh_plant_eia, merged2.net_generation_mwh_plant)[0,1]**2\n",
    "ax.scatter(merged2.net_generation_mwh_plant_eia, merged2.net_generation_mwh_plant, s=10, color='blue')\n",
    "ax.legend(loc='upper left')\n",
    "plt.title(\"Annual net generation by plant, EIA 923 vs. FERC Form 1 ($r^2$={:.2f})\".format(R2))\n",
    "plt.xlabel(\"Net generation by PUDL plant from EIA923 (MWh)\")\n",
    "plt.ylabel(\"Net generation by PUDL plant from FERC1 (MWh)\")\n",
    "plt.show();"
   ]
  },
  {
   "cell_type": "code",
   "execution_count": null,
   "metadata": {
    "collapsed": true
   },
   "outputs": [],
   "source": [
    "merged3 = merged.dropna(subset=['fuel_cost_annual_eia', 'expns_fuel'])"
   ]
  },
  {
   "cell_type": "code",
   "execution_count": null,
   "metadata": {
    "collapsed": true
   },
   "outputs": [],
   "source": [
    "fuels = ['gas','oil','coal']\n",
    "fig, (ax) = plt.subplots(ncols=1, nrows=1)\n",
    "fig.set_figwidth(10)\n",
    "fig.set_figheight(10)\n",
    "fig.set_dpi(150)\n",
    "ax.loglog()\n",
    "plt.grid(b=True)\n",
    "R2 = np.corrcoef(merged3.fuel_cost_annual_eia, merged3.expns_fuel)[0,1]**2\n",
    "ax.scatter(merged3.fuel_cost_annual_eia, merged3.expns_fuel, s=10, color='green')\n",
    "ax.legend(loc='upper left')\n",
    "plt.title(\"Fuel cost per year, EIA 923 vs. FERC Form 1, ($r^2$={:.2f})\".format(R2))\n",
    "plt.xlabel(\"Fuel cost per year, by PUDL plant from EIA923 ($)\")\n",
    "plt.ylabel(\"Fuel cost per year, by PUDL plant from FERC1 ($)\")\n",
    "plt.show();"
   ]
  },
  {
   "cell_type": "code",
   "execution_count": null,
   "metadata": {
    "collapsed": true
   },
   "outputs": [],
   "source": [
    "plt.hist(merged.net_generation_mwh_plant_eia, range=(0,500000), bins=100, alpha=0.5, color='green', label=\"EIA\")\n",
    "plt.hist(merged.net_generation_mwh_plant, range=(0,500000), bins=100, alpha=0.5, color='blue', label='FERC')\n",
    "plt.xlabel(\"Total net generation per plant (MWh)\")\n",
    "plt.ylabel(\"Number of records\")\n",
    "plt.title(\"Net generation (MWh)\")\n",
    "plt.legend()"
   ]
  },
  {
   "cell_type": "code",
   "execution_count": null,
   "metadata": {
    "collapsed": true
   },
   "outputs": [],
   "source": [
    "#quick look at spread in fuel_cost_per_mwh for these plants\n",
    "plt.hist(merged.fuel_cost_per_mwh, range=(0,200), bins=200, alpha=0.5, color='green')\n",
    "ferc_fuel_cost_per_mwh = merged.expns_fuel / merged.net_generation_mwh_plant\n",
    "plt.hist(ferc_fuel_cost_per_mwh, range=(0,200), bins=200, alpha=0.5, color='blue')\n",
    "plt.xlabel(\"Fuel Cost ($/mwh)\")\n",
    "plt.ylabel(\"Number of records\")\n",
    "plt.title(\"Cost of fuel\")\n"
   ]
  },
  {
   "cell_type": "markdown",
   "metadata": {},
   "source": [
    "## A few plots"
   ]
  },
  {
   "cell_type": "code",
   "execution_count": null,
   "metadata": {
    "collapsed": true
   },
   "outputs": [],
   "source": [
    "# Take a look at heat rates from EIA\n",
    "plt.hist(heat_rate.heat_rate_mmbtu_mwh, range=[0,50],bins=100,weights=heat_rate.net_generation_mwh, alpha=0.5)\n",
    "#heat_rate['heat_rate_mmbtu_mwh'].plot(kind='hist', bins=100, range=[-20,70])\n",
    "plt.xlabel('Generator heat rate (MMBtu/MWh)')\n",
    "plt.ylabel(\"Generator records (weighted by net generation)\")\n",
    "plt.title(\"Heat rates\")\n",
    "plt.show()"
   ]
  },
  {
   "cell_type": "code",
   "execution_count": null,
   "metadata": {
    "collapsed": true
   },
   "outputs": [],
   "source": [
    "#quick look at spread in fuel_cost_per_mmbtu\n",
    "plt.hist(mcoe_by_generator.fuel_cost_per_mmbtu_average, range=(-5,50), bins=200, alpha=0.5, color='green')\n",
    "plt.xlabel(\"Fuel Cost ($/mmBTU)\")\n",
    "plt.ylabel(\"Number of generator records\")\n",
    "plt.title(\"Cost of fuel\")\n",
    "plt.legend()"
   ]
  },
  {
   "cell_type": "code",
   "execution_count": null,
   "metadata": {
    "collapsed": true
   },
   "outputs": [],
   "source": [
    "#quick look at capacity factors\n",
    "plt.hist(mcoe_by_generator.capacity_factor, range=(0,1.5), bins=200, alpha=0.5, color='blue')\n",
    "plt.xlabel(\"Capacity factor (Net generation/Nameplate capacity)\")\n",
    "plt.ylabel(\"Number of generator records\")\n",
    "plt.title(\"Capacity factors\")\n",
    "plt.legend()"
   ]
  },
  {
   "cell_type": "code",
   "execution_count": null,
   "metadata": {
    "collapsed": true
   },
   "outputs": [],
   "source": [
    "#quick look at spread in fuel_cost_per_mwh for these plants\n",
    "plt.hist(merged.fuel_cost_per_mwh, range=(0,200), bins=200, alpha=0.5, color='green')\n",
    "plt.xlabel(\"Fuel Cost ($/mwh)\")\n",
    "plt.ylabel(\"Number of generator records\")\n",
    "plt.title(\"Cost of fuel\")\n",
    "plt.legend()"
   ]
  },
  {
   "cell_type": "code",
   "execution_count": null,
   "metadata": {
    "collapsed": true
   },
   "outputs": [],
   "source": []
  },
  {
   "cell_type": "code",
   "execution_count": null,
   "metadata": {
    "collapsed": true
   },
   "outputs": [],
   "source": []
  },
  {
   "cell_type": "code",
   "execution_count": null,
   "metadata": {
    "collapsed": true
   },
   "outputs": [],
   "source": []
  },
  {
   "cell_type": "code",
   "execution_count": null,
   "metadata": {
    "collapsed": true
   },
   "outputs": [],
   "source": []
  }
 ],
 "metadata": {
  "kernelspec": {
   "display_name": "Python 3",
   "language": "python",
   "name": "python3"
  },
  "language_info": {
   "codemirror_mode": {
    "name": "ipython",
    "version": 3
   },
   "file_extension": ".py",
   "mimetype": "text/x-python",
   "name": "python",
   "nbconvert_exporter": "python",
   "pygments_lexer": "ipython3",
   "version": "3.6.1"
  }
 },
 "nbformat": 4,
 "nbformat_minor": 2
}
