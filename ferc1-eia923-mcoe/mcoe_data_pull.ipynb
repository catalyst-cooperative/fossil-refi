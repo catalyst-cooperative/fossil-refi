{
 "cells": [
  {
   "cell_type": "code",
   "execution_count": 1,
   "metadata": {
    "collapsed": true
   },
   "outputs": [],
   "source": [
    "import sys\n",
    "import os\n",
    "import numpy as np\n",
    "import pandas as pd\n",
    "import sqlalchemy as sa\n",
    "from pudl import pudl, ferc1, eia923, settings, constants, analysis\n",
    "from pudl import models, models_ferc1, models_eia923\n",
    "from pudl import clean_eia923, clean_ferc1, clean_pudl, mcoe\n",
    "import matplotlib.pyplot as plt\n",
    "import matplotlib as mpl\n",
    "pd.options.mode.chained_assignment = None\n",
    "%matplotlib inline\n",
    "plt.style.use('ggplot')\n",
    "mpl.rcParams['figure.figsize'] = (10,6)\n",
    "mpl.rcParams['figure.dpi'] = 150\n",
    "pd.options.display.max_columns = 56"
   ]
  },
  {
   "cell_type": "code",
   "execution_count": 2,
   "metadata": {
    "collapsed": true
   },
   "outputs": [],
   "source": [
    "pudl_engine  = pudl.connect_db()"
   ]
  },
  {
   "cell_type": "markdown",
   "metadata": {},
   "source": [
    "### Pulling the required tables"
   ]
  },
  {
   "cell_type": "code",
   "execution_count": 3,
   "metadata": {
    "collapsed": true
   },
   "outputs": [],
   "source": [
    "g9_summed = mcoe.generation_pull_eia923(pudl_engine)\n",
    "g8, g8_es = mcoe.generators_pull_eia860(pudl_engine)\n",
    "frc9_summed, frc9_summed_plant = mcoe.fuel_reciepts_costs_pull_eia923(pudl_engine)\n",
    "bga8 = mcoe.boiler_generator_pull_eia860(pudl_engine)\n",
    "bf9_summed, bf9_plant_summed = mcoe.boiler_fuel_pull_eia923(pudl_engine)"
   ]
  },
  {
   "cell_type": "markdown",
   "metadata": {},
   "source": [
    "## Generating Capacity Factor"
   ]
  },
  {
   "cell_type": "code",
   "execution_count": 4,
   "metadata": {
    "collapsed": true,
    "scrolled": false
   },
   "outputs": [],
   "source": [
    "capacity_factor = analysis.capacity_factor(g9_summed,g8)"
   ]
  },
  {
   "cell_type": "markdown",
   "metadata": {},
   "source": [
    "## Generating Heat Rate"
   ]
  },
  {
   "cell_type": "code",
   "execution_count": 5,
   "metadata": {
    "collapsed": true
   },
   "outputs": [],
   "source": [
    "heat_rate = mcoe.heat_rate(bga8, g9_summed, bf9_summed, bf9_plant_summed, pudl_engine)"
   ]
  },
  {
   "cell_type": "markdown",
   "metadata": {},
   "source": [
    "## Generating Fuel Cost"
   ]
  },
  {
   "cell_type": "code",
   "execution_count": 6,
   "metadata": {
    "collapsed": true
   },
   "outputs": [],
   "source": [
    "fuel_cost = mcoe.fuel_cost(g8_es, g9_summed, frc9_summed, frc9_summed_plant, heat_rate)"
   ]
  },
  {
   "cell_type": "markdown",
   "metadata": {},
   "source": [
    "### Merge fields together"
   ]
  },
  {
   "cell_type": "code",
   "execution_count": 7,
   "metadata": {
    "collapsed": true
   },
   "outputs": [],
   "source": [
    "mcoe_by_generator = fuel_cost[['plant_id_eia',\n",
    "                               'plant_id_pudl',\n",
    "                               'report_year',\n",
    "                               'generator_id',\n",
    "                               'energy_source',\n",
    "                               'fuel_cost_per_mmbtu_average',\n",
    "                               'fuel_cost_per_mwh']].merge(heat_rate,\n",
    "                                                           on=['plant_id_eia',\n",
    "                                                               'plant_id_pudl',\n",
    "                                                               'report_year',\n",
    "                                                               'generator_id'])"
   ]
  },
  {
   "cell_type": "code",
   "execution_count": 9,
   "metadata": {
    "collapsed": true
   },
   "outputs": [],
   "source": [
    "mcoe_by_generator = mcoe_by_generator.merge(capacity_factor.drop('net_generation_mwh', axis=1),\n",
    "                                            on=['plant_id_eia','plant_id_pudl','report_year','generator_id'])"
   ]
  },
  {
   "cell_type": "markdown",
   "metadata": {},
   "source": [
    "### Filter to include only plants >= 10 MW"
   ]
  },
  {
   "cell_type": "code",
   "execution_count": 11,
   "metadata": {
    "collapsed": true
   },
   "outputs": [],
   "source": [
    "# Now, let's grab only those plants larger than 10MW\n",
    "mcoe_by_generator = mcoe_by_generator[mcoe_by_generator['nameplate_capacity_mw']>=10]"
   ]
  },
  {
   "cell_type": "code",
   "execution_count": 12,
   "metadata": {},
   "outputs": [
    {
     "data": {
      "text/html": [
       "<div>\n",
       "<style>\n",
       "    .dataframe thead tr:only-child th {\n",
       "        text-align: right;\n",
       "    }\n",
       "\n",
       "    .dataframe thead th {\n",
       "        text-align: left;\n",
       "    }\n",
       "\n",
       "    .dataframe tbody tr th {\n",
       "        vertical-align: top;\n",
       "    }\n",
       "</style>\n",
       "<table border=\"1\" class=\"dataframe\">\n",
       "  <thead>\n",
       "    <tr style=\"text-align: right;\">\n",
       "      <th></th>\n",
       "      <th>plant_id_eia</th>\n",
       "      <th>plant_id_pudl</th>\n",
       "      <th>report_year</th>\n",
       "      <th>generator_id</th>\n",
       "      <th>energy_source</th>\n",
       "      <th>fuel_cost_per_mmbtu_average</th>\n",
       "      <th>fuel_cost_per_mwh</th>\n",
       "      <th>complete_assn</th>\n",
       "      <th>fuel_consumed_mmbtu_per_gen</th>\n",
       "      <th>heat_rate_mmbtu_mwh</th>\n",
       "      <th>net_generation_mwh</th>\n",
       "      <th>plant_assn</th>\n",
       "      <th>plant_name</th>\n",
       "      <th>operator_name</th>\n",
       "      <th>state</th>\n",
       "      <th>nameplate_capacity_mw</th>\n",
       "      <th>summer_capacity_mw</th>\n",
       "      <th>winter_capacity_mw</th>\n",
       "      <th>capacity_factor</th>\n",
       "    </tr>\n",
       "  </thead>\n",
       "  <tbody>\n",
       "    <tr>\n",
       "      <th>0</th>\n",
       "      <td>7</td>\n",
       "      <td>204</td>\n",
       "      <td>2011</td>\n",
       "      <td>1</td>\n",
       "      <td>BIT</td>\n",
       "      <td>3.968971</td>\n",
       "      <td>63.964246</td>\n",
       "      <td>True</td>\n",
       "      <td>2.976913e+06</td>\n",
       "      <td>16.116077</td>\n",
       "      <td>184717.0</td>\n",
       "      <td>True</td>\n",
       "      <td>Gadsden</td>\n",
       "      <td>Alabama Power Co</td>\n",
       "      <td>AL</td>\n",
       "      <td>69.0</td>\n",
       "      <td>64.0</td>\n",
       "      <td>64.0</td>\n",
       "      <td>0.305600</td>\n",
       "    </tr>\n",
       "    <tr>\n",
       "      <th>1</th>\n",
       "      <td>7</td>\n",
       "      <td>204</td>\n",
       "      <td>2011</td>\n",
       "      <td>2</td>\n",
       "      <td>BIT</td>\n",
       "      <td>3.968971</td>\n",
       "      <td>57.239085</td>\n",
       "      <td>True</td>\n",
       "      <td>6.559396e+05</td>\n",
       "      <td>14.421642</td>\n",
       "      <td>45483.0</td>\n",
       "      <td>True</td>\n",
       "      <td>Gadsden</td>\n",
       "      <td>Alabama Power Co</td>\n",
       "      <td>AL</td>\n",
       "      <td>69.0</td>\n",
       "      <td>66.0</td>\n",
       "      <td>66.0</td>\n",
       "      <td>0.075248</td>\n",
       "    </tr>\n",
       "    <tr>\n",
       "      <th>2</th>\n",
       "      <td>8</td>\n",
       "      <td>227</td>\n",
       "      <td>2011</td>\n",
       "      <td>10</td>\n",
       "      <td>BIT</td>\n",
       "      <td>4.139720</td>\n",
       "      <td>40.567746</td>\n",
       "      <td>True</td>\n",
       "      <td>3.281658e+07</td>\n",
       "      <td>9.799634</td>\n",
       "      <td>3348756.0</td>\n",
       "      <td>True</td>\n",
       "      <td>Gorgas</td>\n",
       "      <td>Alabama Power Co</td>\n",
       "      <td>AL</td>\n",
       "      <td>788.8</td>\n",
       "      <td>703.0</td>\n",
       "      <td>703.0</td>\n",
       "      <td>0.484632</td>\n",
       "    </tr>\n",
       "    <tr>\n",
       "      <th>3</th>\n",
       "      <td>8</td>\n",
       "      <td>227</td>\n",
       "      <td>2011</td>\n",
       "      <td>6</td>\n",
       "      <td>BIT</td>\n",
       "      <td>4.139720</td>\n",
       "      <td>51.881910</td>\n",
       "      <td>True</td>\n",
       "      <td>3.018039e+06</td>\n",
       "      <td>12.532709</td>\n",
       "      <td>240813.0</td>\n",
       "      <td>True</td>\n",
       "      <td>Gorgas</td>\n",
       "      <td>Alabama Power Co</td>\n",
       "      <td>AL</td>\n",
       "      <td>125.0</td>\n",
       "      <td>103.0</td>\n",
       "      <td>103.0</td>\n",
       "      <td>0.219921</td>\n",
       "    </tr>\n",
       "    <tr>\n",
       "      <th>4</th>\n",
       "      <td>8</td>\n",
       "      <td>227</td>\n",
       "      <td>2011</td>\n",
       "      <td>7</td>\n",
       "      <td>BIT</td>\n",
       "      <td>4.139720</td>\n",
       "      <td>47.555815</td>\n",
       "      <td>True</td>\n",
       "      <td>3.142376e+06</td>\n",
       "      <td>11.487687</td>\n",
       "      <td>273543.0</td>\n",
       "      <td>True</td>\n",
       "      <td>Gorgas</td>\n",
       "      <td>Alabama Power Co</td>\n",
       "      <td>AL</td>\n",
       "      <td>125.0</td>\n",
       "      <td>104.0</td>\n",
       "      <td>104.0</td>\n",
       "      <td>0.249811</td>\n",
       "    </tr>\n",
       "  </tbody>\n",
       "</table>\n",
       "</div>"
      ],
      "text/plain": [
       "   plant_id_eia  plant_id_pudl  report_year generator_id energy_source  \\\n",
       "0             7            204         2011            1           BIT   \n",
       "1             7            204         2011            2           BIT   \n",
       "2             8            227         2011           10           BIT   \n",
       "3             8            227         2011            6           BIT   \n",
       "4             8            227         2011            7           BIT   \n",
       "\n",
       "   fuel_cost_per_mmbtu_average  fuel_cost_per_mwh  complete_assn  \\\n",
       "0                     3.968971          63.964246           True   \n",
       "1                     3.968971          57.239085           True   \n",
       "2                     4.139720          40.567746           True   \n",
       "3                     4.139720          51.881910           True   \n",
       "4                     4.139720          47.555815           True   \n",
       "\n",
       "   fuel_consumed_mmbtu_per_gen  heat_rate_mmbtu_mwh  net_generation_mwh  \\\n",
       "0                 2.976913e+06            16.116077            184717.0   \n",
       "1                 6.559396e+05            14.421642             45483.0   \n",
       "2                 3.281658e+07             9.799634           3348756.0   \n",
       "3                 3.018039e+06            12.532709            240813.0   \n",
       "4                 3.142376e+06            11.487687            273543.0   \n",
       "\n",
       "   plant_assn plant_name     operator_name state  nameplate_capacity_mw  \\\n",
       "0        True    Gadsden  Alabama Power Co    AL                   69.0   \n",
       "1        True    Gadsden  Alabama Power Co    AL                   69.0   \n",
       "2        True     Gorgas  Alabama Power Co    AL                  788.8   \n",
       "3        True     Gorgas  Alabama Power Co    AL                  125.0   \n",
       "4        True     Gorgas  Alabama Power Co    AL                  125.0   \n",
       "\n",
       "   summer_capacity_mw  winter_capacity_mw  capacity_factor  \n",
       "0                64.0                64.0         0.305600  \n",
       "1                66.0                66.0         0.075248  \n",
       "2               703.0               703.0         0.484632  \n",
       "3               103.0               103.0         0.219921  \n",
       "4               104.0               104.0         0.249811  "
      ]
     },
     "execution_count": 12,
     "metadata": {},
     "output_type": "execute_result"
    }
   ],
   "source": [
    "mcoe_by_generator.head()"
   ]
  },
  {
   "cell_type": "markdown",
   "metadata": {},
   "source": [
    "## Aggregate at fuel cost and net gen at plant level for comparison with FERC"
   ]
  },
  {
   "cell_type": "code",
   "execution_count": 19,
   "metadata": {
    "collapsed": true
   },
   "outputs": [],
   "source": [
    "frc9 = analysis.simple_select('fuel_receipts_costs_eia923', pudl_engine)"
   ]
  },
  {
   "cell_type": "code",
   "execution_count": 13,
   "metadata": {},
   "outputs": [
    {
     "ename": "NameError",
     "evalue": "name 'frc9' is not defined",
     "output_type": "error",
     "traceback": [
      "\u001b[0;31m---------------------------------------------------------------------------\u001b[0m",
      "\u001b[0;31mNameError\u001b[0m                                 Traceback (most recent call last)",
      "\u001b[0;32m<ipython-input-13-4f2db0f7ef47>\u001b[0m in \u001b[0;36m<module>\u001b[0;34m()\u001b[0m\n\u001b[0;32m----> 1\u001b[0;31m \u001b[0meia_fuel\u001b[0m \u001b[0;34m=\u001b[0m \u001b[0manalysis\u001b[0m\u001b[0;34m.\u001b[0m\u001b[0myearly_sum_eia\u001b[0m\u001b[0;34m(\u001b[0m\u001b[0mfrc9\u001b[0m \u001b[0;34m,\u001b[0m \u001b[0;34m'fuel_cost'\u001b[0m\u001b[0;34m,\u001b[0m \u001b[0mcolumns\u001b[0m\u001b[0;34m=\u001b[0m\u001b[0;34m[\u001b[0m\u001b[0;34m'plant_id_eia'\u001b[0m\u001b[0;34m,\u001b[0m\u001b[0;34m'report_year'\u001b[0m\u001b[0;34m]\u001b[0m\u001b[0;34m)\u001b[0m\u001b[0;34m\u001b[0m\u001b[0m\n\u001b[0m\u001b[1;32m      2\u001b[0m \u001b[0mfuel_summed\u001b[0m \u001b[0;34m=\u001b[0m \u001b[0meia_fuel\u001b[0m\u001b[0;34m.\u001b[0m\u001b[0mreset_index\u001b[0m\u001b[0;34m(\u001b[0m\u001b[0;34m)\u001b[0m\u001b[0;34m\u001b[0m\u001b[0m\n\u001b[1;32m      3\u001b[0m \u001b[0mfuel_summed\u001b[0m\u001b[0;34m.\u001b[0m\u001b[0mrename\u001b[0m\u001b[0;34m(\u001b[0m\u001b[0mcolumns\u001b[0m\u001b[0;34m=\u001b[0m\u001b[0;34m{\u001b[0m\u001b[0;34m'fuel_cost'\u001b[0m\u001b[0;34m:\u001b[0m \u001b[0;34m'fuel_cost_annual_eia'\u001b[0m\u001b[0;34m}\u001b[0m\u001b[0;34m,\u001b[0m \u001b[0minplace\u001b[0m\u001b[0;34m=\u001b[0m\u001b[0;32mTrue\u001b[0m\u001b[0;34m)\u001b[0m\u001b[0;34m\u001b[0m\u001b[0m\n\u001b[1;32m      4\u001b[0m \u001b[0mfuel_summed\u001b[0m \u001b[0;34m=\u001b[0m \u001b[0mfuel_summed\u001b[0m\u001b[0;34m.\u001b[0m\u001b[0mreset_index\u001b[0m\u001b[0;34m(\u001b[0m\u001b[0;34m)\u001b[0m\u001b[0;34m\u001b[0m\u001b[0m\n",
      "\u001b[0;31mNameError\u001b[0m: name 'frc9' is not defined"
     ]
    }
   ],
   "source": [
    "eia_fuel = analysis.yearly_sum_eia(frc9 , 'fuel_cost', columns=['plant_id_eia','report_year'])\n",
    "fuel_summed = eia_fuel.reset_index()\n",
    "fuel_summed.rename(columns={'fuel_cost': 'fuel_cost_annual_eia'}, inplace=True)\n",
    "fuel_summed = fuel_summed.reset_index()"
   ]
  },
  {
   "cell_type": "code",
   "execution_count": 15,
   "metadata": {
    "scrolled": false
   },
   "outputs": [],
   "source": [
    "eia_netgen = mcoe_by_generator.groupby(by=['plant_id_eia','report_year'])\n",
    "netgen_summed = eia_netgen.agg({'net_generation_mwh':np.sum})\n",
    "netgen_summed.rename(columns={'net_generation_mwh': 'net_generation_mwh_plant_eia'}, inplace=True)\n",
    "netgen_summed = netgen_summed.reset_index()"
   ]
  },
  {
   "cell_type": "code",
   "execution_count": null,
   "metadata": {
    "collapsed": true
   },
   "outputs": [],
   "source": [
    "mcoe_by_generator2 = mcoe_by_generator.merge(fuel_summed, how=\"left\", left_on=['plant_id_eia', 'report_date'], right_on=['plant_id', 'report_date'])"
   ]
  },
  {
   "cell_type": "code",
   "execution_count": null,
   "metadata": {
    "collapsed": true
   },
   "outputs": [],
   "source": [
    "mcoe_by_generator3 = mcoe_by_generator2.merge(netgen_summed, how=\"left\", left_on=['plant_id_eia', 'report_date'], right_on=['plant_id_eia', 'report_date'])"
   ]
  },
  {
   "cell_type": "code",
   "execution_count": null,
   "metadata": {
    "collapsed": true
   },
   "outputs": [],
   "source": [
    "#mcoe_by_generator3.drop('heat_rate_mmbtu_mwh_x', axis=1, inplace=True)\n",
    "#mcoe_by_generator3.drop('heat_rate_mmbtu_mwh_y', axis=1, inplace=True)"
   ]
  },
  {
   "cell_type": "code",
   "execution_count": null,
   "metadata": {
    "collapsed": true
   },
   "outputs": [],
   "source": [
    "mcoe_by_generator = mcoe_by_generator3"
   ]
  },
  {
   "cell_type": "markdown",
   "metadata": {},
   "source": [
    "## Export the data frame"
   ]
  },
  {
   "cell_type": "code",
   "execution_count": null,
   "metadata": {
    "collapsed": true
   },
   "outputs": [],
   "source": [
    "# rearrange columns\n",
    "mcoe_by_generator = mcoe_by_generator3[[\n",
    "    'plant_id_eia', \n",
    "    'plant_id_pudl',\n",
    "    'plant_name',\n",
    "    'operator_name', \n",
    "    'state', \n",
    "    'report_date', \n",
    "    'generator_id', \n",
    "    'energy_source',\n",
    "    'fuel_cost_per_mmbtu_average',\n",
    "    'fuel_consumed_mmbtu_per_gen',\n",
    "    'fuel_cost_annual_eia',\n",
    "    'heat_rate_mmbtu_mwh', \n",
    "    'plant_assn', \n",
    "    'net_generation_mwh', \n",
    "    'net_generation_mwh_plant_eia',\n",
    "    'fuel_cost_per_mwh',\n",
    "    'nameplate_capacity_mw', \n",
    "    'summer_capacity_mw',\n",
    "    'winter_capacity_mw', \n",
    "    'capacity_factor']]"
   ]
  },
  {
   "cell_type": "markdown",
   "metadata": {},
   "source": [
    "# Pull in FERC data & identify plants with simple"
   ]
  },
  {
   "cell_type": "code",
   "execution_count": null,
   "metadata": {
    "collapsed": true
   },
   "outputs": [],
   "source": [
    "simple_ferc = analysis.simple_ferc1_plant_ids(pudl_engine)"
   ]
  },
  {
   "cell_type": "code",
   "execution_count": null,
   "metadata": {
    "collapsed": true
   },
   "outputs": [],
   "source": [
    "# convert simple ferc list into a pandas series for import to analysis.ferc_expenses() function\n",
    "simple_ferc = simple_ferc.iloc[:,0]"
   ]
  },
  {
   "cell_type": "code",
   "execution_count": null,
   "metadata": {
    "collapsed": true
   },
   "outputs": [],
   "source": [
    "# ferc_expenses returns:\n",
    "# ferc1_expns_corr: A dictionary of expense categories\n",
    "#             and their correlations to the plant's net electricity generation.\n",
    "# steam_df: a dataframe with all the operating expenses broken out for each simple FERC PUDL plant."
   ]
  },
  {
   "cell_type": "code",
   "execution_count": null,
   "metadata": {
    "collapsed": true
   },
   "outputs": [],
   "source": [
    "ferc_expenses = analysis.ferc_expenses(pudl_engine, simple_ferc)\n",
    "ferc_expenses_df = ferc_expenses[1]"
   ]
  },
  {
   "cell_type": "code",
   "execution_count": null,
   "metadata": {
    "collapsed": true
   },
   "outputs": [],
   "source": [
    "# create a correlation table to export\n",
    "corr = pd.DataFrame.from_dict(ferc_expenses[0], orient='index')\n",
    "corr.index.names = ['expense_variable']\n",
    "corr = corr.reset_index()\n",
    "corr = corr.rename(columns={0: 'correlation_with_net_generation_mwh_plant'})"
   ]
  },
  {
   "cell_type": "code",
   "execution_count": null,
   "metadata": {
    "collapsed": true
   },
   "outputs": [],
   "source": [
    "# create a ferc_expenses data frame to merge with EIA data\n",
    "ferc_expenses_df = ferc_expenses[1]"
   ]
  },
  {
   "cell_type": "code",
   "execution_count": null,
   "metadata": {
    "collapsed": true
   },
   "outputs": [],
   "source": [
    "ferc_expenses_df.rename(columns={'net_generation_mwh': 'net_generation_mwh_plant',\n",
    "                                 'plant_name': 'plant_name_ferc',\n",
    "                                 'respondent_id': 'respondent_id_ferc',\n",
    "                                 'respondent_name': 'respondent_name_ferc',\n",
    "                                 'total_capacity_mw': 'total_capacity_mw_plant'}, inplace=True)"
   ]
  },
  {
   "cell_type": "code",
   "execution_count": null,
   "metadata": {
    "collapsed": true
   },
   "outputs": [],
   "source": [
    "mcoe_by_generator.rename(columns={'net_generation_mwh': 'net_generation_mwh_generator',\n",
    "                                  'plant_name': 'plant_name_eia',\n",
    "                                  'operator_name': 'operator_name_eia',\n",
    "                                  'nameplate_capacity_mw': 'nameplate_capacity_mw_generator',\n",
    "                                  'summer_capacity_mw': 'summer_capacity_mw_generator',\n",
    "                                  'winter_capacity_mw': 'winter_capacity_mw_generator'}, inplace=True)"
   ]
  },
  {
   "cell_type": "code",
   "execution_count": null,
   "metadata": {
    "collapsed": true
   },
   "outputs": [],
   "source": [
    "# Left merge keeps all rows of mcoe_by_generator and duplicates values of ferc_expenses_df \n",
    "# for each combination of plant_id_pudl and report_date\n",
    "merged = mcoe_by_generator.merge(ferc_expenses_df, how=\"left\", left_on=['plant_id_pudl', 'report_date'], right_on=['plant_id_pudl', 'report_year'])"
   ]
  },
  {
   "cell_type": "code",
   "execution_count": null,
   "metadata": {
    "collapsed": true
   },
   "outputs": [],
   "source": [
    "# remove the non-simple plants by dropping rows where plant_name_ferc = NA\n",
    "merged = merged.dropna(subset=['plant_name_ferc'])"
   ]
  },
  {
   "cell_type": "code",
   "execution_count": null,
   "metadata": {
    "collapsed": true
   },
   "outputs": [],
   "source": [
    "# rearrange columns\n",
    "merged = merged[[\n",
    "    'plant_id_pudl', 'plant_id_eia', 'plant_name_eia',\n",
    "    'operator_name_eia', 'state', 'report_date', \n",
    "    'generator_id', 'energy_source', 'fuel_cost_per_mmbtu_average',\n",
    "    'fuel_consumed_mmbtu_per_gen', 'fuel_cost_annual_eia',\n",
    "    'heat_rate_mmbtu_mwh', 'plant_assn', \n",
    "    'net_generation_mwh_generator', 'net_generation_mwh_plant_eia',\n",
    "    'fuel_cost_per_mwh', 'nameplate_capacity_mw_generator', \n",
    "    'summer_capacity_mw_generator', 'winter_capacity_mw_generator', 'capacity_factor',\n",
    "    'report_year', 'respondent_id_ferc', 'util_id_pudl', \n",
    "    'respondent_name_ferc', 'plant_name_ferc',\n",
    "    'total_capacity_mw_plant', 'year_constructed', 'year_installed',\n",
    "    'peak_demand_mw', 'water_limited_mw', 'not_water_limited_mw',\n",
    "    'plant_hours', 'net_generation_mwh_plant', 'expns_operations',\n",
    "    'expns_fuel', 'expns_coolants', 'expns_steam', 'expns_steam_other',\n",
    "    'expns_transfer', 'expns_electric', 'expns_misc_power', 'expns_rents',\n",
    "    'expns_allowances', 'expns_engineering', 'expns_structures',\n",
    "    'expns_boiler', 'expns_plants', 'expns_misc_steam',\n",
    "    'expns_production_total', 'expns_per_mwh',\n",
    "    'expns_total_nonfuel_production', 'expns_total_nonproduction']]"
   ]
  },
  {
   "cell_type": "code",
   "execution_count": null,
   "metadata": {
    "collapsed": true
   },
   "outputs": [],
   "source": [
    "mcoe_annotations = pd.read_csv('mcoe_field_annotations.csv')\n",
    "mcoe_notes = pd.read_csv('mcoe_notes.csv')"
   ]
  },
  {
   "cell_type": "code",
   "execution_count": null,
   "metadata": {
    "collapsed": true
   },
   "outputs": [],
   "source": [
    "# to export all the data\n",
    "xlsx_writer = pd.ExcelWriter('MCOE_by_generator_FERC&EIA_simple_FERC_plants_2011-2016.xlsx')\n",
    "merged.to_excel(xlsx_writer, sheet_name='MCOE by Generator', index=False, na_rep='NA')\n",
    "corr.to_excel(xlsx_writer, sheet_name='Expense Correlations', index=False, na_rep='NA')\n",
    "mcoe_annotations.to_excel(xlsx_writer, sheet_name='MCOE Annotations', index=False)\n",
    "mcoe_notes.to_excel(xlsx_writer, sheet_name='MCOE Notes', index=False)\n",
    "\n",
    "xlsx_writer.save()"
   ]
  },
  {
   "cell_type": "code",
   "execution_count": null,
   "metadata": {
    "collapsed": true
   },
   "outputs": [],
   "source": [
    "merged2 = merged.dropna(subset=['net_generation_mwh_plant_eia', 'net_generation_mwh_plant'])"
   ]
  },
  {
   "cell_type": "code",
   "execution_count": null,
   "metadata": {
    "collapsed": true,
    "scrolled": false
   },
   "outputs": [],
   "source": [
    "fuels = ['gas','oil','coal']\n",
    "fig, (ax) = plt.subplots(ncols=1, nrows=1)\n",
    "fig.set_figwidth(10)\n",
    "fig.set_figheight(10)\n",
    "fig.set_dpi(150)\n",
    "ax.loglog()\n",
    "plt.grid(b=True)\n",
    "R2 = np.corrcoef(merged2.net_generation_mwh_plant_eia, merged2.net_generation_mwh_plant)[0,1]**2\n",
    "ax.scatter(merged2.net_generation_mwh_plant_eia, merged2.net_generation_mwh_plant, s=10, color='blue')\n",
    "ax.legend(loc='upper left')\n",
    "plt.title(\"Annual net generation by plant, EIA 923 vs. FERC Form 1 ($r^2$={:.2f})\".format(R2))\n",
    "plt.xlabel(\"Net generation by PUDL plant from EIA923 (MWh)\")\n",
    "plt.ylabel(\"Net generation by PUDL plant from FERC1 (MWh)\")\n",
    "plt.show();"
   ]
  },
  {
   "cell_type": "code",
   "execution_count": null,
   "metadata": {
    "collapsed": true
   },
   "outputs": [],
   "source": [
    "merged3 = merged.dropna(subset=['fuel_cost_annual_eia', 'expns_fuel'])"
   ]
  },
  {
   "cell_type": "code",
   "execution_count": null,
   "metadata": {
    "collapsed": true
   },
   "outputs": [],
   "source": [
    "fuels = ['gas','oil','coal']\n",
    "fig, (ax) = plt.subplots(ncols=1, nrows=1)\n",
    "fig.set_figwidth(10)\n",
    "fig.set_figheight(10)\n",
    "fig.set_dpi(150)\n",
    "ax.loglog()\n",
    "plt.grid(b=True)\n",
    "R2 = np.corrcoef(merged3.fuel_cost_annual_eia, merged3.expns_fuel)[0,1]**2\n",
    "ax.scatter(merged3.fuel_cost_annual_eia, merged3.expns_fuel, s=10, color='green')\n",
    "ax.legend(loc='upper left')\n",
    "plt.title(\"Fuel cost per year, EIA 923 vs. FERC Form 1, ($r^2$={:.2f})\".format(R2))\n",
    "plt.xlabel(\"Fuel cost per year, by PUDL plant from EIA923 ($)\")\n",
    "plt.ylabel(\"Fuel cost per year, by PUDL plant from FERC1 ($)\")\n",
    "plt.show();"
   ]
  },
  {
   "cell_type": "code",
   "execution_count": null,
   "metadata": {
    "collapsed": true
   },
   "outputs": [],
   "source": [
    "plt.hist(merged.net_generation_mwh_plant_eia, range=(0,500000), bins=100, alpha=0.5, color='green', label=\"EIA\")\n",
    "plt.hist(merged.net_generation_mwh_plant, range=(0,500000), bins=100, alpha=0.5, color='blue', label='FERC')\n",
    "plt.xlabel(\"Total net generation per plant (MWh)\")\n",
    "plt.ylabel(\"Number of records\")\n",
    "plt.title(\"Net generation (MWh)\")\n",
    "plt.legend()"
   ]
  },
  {
   "cell_type": "code",
   "execution_count": null,
   "metadata": {
    "collapsed": true
   },
   "outputs": [],
   "source": [
    "#quick look at spread in fuel_cost_per_mwh for these plants\n",
    "plt.hist(merged.fuel_cost_per_mwh, range=(0,200), bins=200, alpha=0.5, color='green')\n",
    "ferc_fuel_cost_per_mwh = merged.expns_fuel / merged.net_generation_mwh_plant\n",
    "plt.hist(ferc_fuel_cost_per_mwh, range=(0,200), bins=200, alpha=0.5, color='blue')\n",
    "plt.xlabel(\"Fuel Cost ($/mwh)\")\n",
    "plt.ylabel(\"Number of records\")\n",
    "plt.title(\"Cost of fuel\")\n",
    "plt.legend()"
   ]
  },
  {
   "cell_type": "markdown",
   "metadata": {},
   "source": [
    "## A few plots"
   ]
  },
  {
   "cell_type": "code",
   "execution_count": null,
   "metadata": {
    "collapsed": true
   },
   "outputs": [],
   "source": [
    "# Take a look at heat rates from EIA\n",
    "plt.hist(heat_rate.heat_rate_mmbtu_mwh, range=[0,50],bins=100,weights=heat_rate.net_generation_mwh, alpha=0.5)\n",
    "#heat_rate['heat_rate_mmbtu_mwh'].plot(kind='hist', bins=100, range=[-20,70])\n",
    "plt.xlabel('Generator heat rate (MMBtu/MWh)')\n",
    "plt.ylabel(\"Generator records (weighted by net generation)\")\n",
    "plt.title(\"Heat rates\")\n",
    "plt.show()"
   ]
  },
  {
   "cell_type": "code",
   "execution_count": null,
   "metadata": {
    "collapsed": true
   },
   "outputs": [],
   "source": [
    "#quick look at spread in fuel_cost_per_mmbtu\n",
    "plt.hist(mcoe_by_generator.fuel_cost_per_mmbtu_average, range=(-5,50), bins=200, alpha=0.5, color='green')\n",
    "plt.xlabel(\"Fuel Cost ($/mmBTU)\")\n",
    "plt.ylabel(\"Number of generator records\")\n",
    "plt.title(\"Cost of fuel\")\n",
    "plt.legend()"
   ]
  },
  {
   "cell_type": "code",
   "execution_count": null,
   "metadata": {
    "collapsed": true
   },
   "outputs": [],
   "source": [
    "#quick look at capacity factors\n",
    "plt.hist(mcoe_by_generator.capacity_factor, range=(0,1.5), bins=200, alpha=0.5, color='blue')\n",
    "plt.xlabel(\"Capacity factor (Net generation/Nameplate capacity)\")\n",
    "plt.ylabel(\"Number of generator records\")\n",
    "plt.title(\"Capacity factors\")\n",
    "plt.legend()"
   ]
  },
  {
   "cell_type": "code",
   "execution_count": null,
   "metadata": {
    "collapsed": true
   },
   "outputs": [],
   "source": [
    "#quick look at spread in fuel_cost_per_mwh for these plants\n",
    "plt.hist(merged.fuel_cost_per_mwh, range=(0,200), bins=200, alpha=0.5, color='green')\n",
    "plt.xlabel(\"Fuel Cost ($/mwh)\")\n",
    "plt.ylabel(\"Number of generator records\")\n",
    "plt.title(\"Cost of fuel\")\n",
    "plt.legend()"
   ]
  },
  {
   "cell_type": "code",
   "execution_count": null,
   "metadata": {
    "collapsed": true
   },
   "outputs": [],
   "source": []
  },
  {
   "cell_type": "code",
   "execution_count": null,
   "metadata": {
    "collapsed": true
   },
   "outputs": [],
   "source": []
  }
 ],
 "metadata": {
  "kernelspec": {
   "display_name": "Python 3",
   "language": "python",
   "name": "python3"
  },
  "language_info": {
   "codemirror_mode": {
    "name": "ipython",
    "version": 3
   },
   "file_extension": ".py",
   "mimetype": "text/x-python",
   "name": "python",
   "nbconvert_exporter": "python",
   "pygments_lexer": "ipython3",
   "version": "3.7.0"
  }
 },
 "nbformat": 4,
 "nbformat_minor": 2
}
