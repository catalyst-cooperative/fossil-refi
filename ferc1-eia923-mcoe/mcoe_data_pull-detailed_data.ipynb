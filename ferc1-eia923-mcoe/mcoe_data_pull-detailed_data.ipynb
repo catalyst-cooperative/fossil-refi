{
 "cells": [
  {
   "cell_type": "code",
   "execution_count": 1,
   "metadata": {
    "collapsed": true
   },
   "outputs": [],
   "source": [
    "import sys\n",
    "import os\n",
    "import numpy as np\n",
    "import pandas as pd\n",
    "import sqlalchemy as sa\n",
    "sys.path.append(os.path.abspath(os.path.join('..','..','..')))\n",
    "from pudl import pudl, ferc1, eia923, settings, constants, analysis\n",
    "from pudl import models, models_ferc1, models_eia923\n",
    "from pudl import clean_eia923, clean_ferc1, clean_pudl\n",
    "import matplotlib.pyplot as plt\n",
    "import matplotlib as mpl\n",
    "pd.options.mode.chained_assignment = None\n",
    "%matplotlib inline\n",
    "plt.style.use('ggplot')\n",
    "mpl.rcParams['figure.figsize'] = (10,6)\n",
    "mpl.rcParams['figure.dpi'] = 150\n",
    "pd.options.display.max_columns = 56\n",
    "pd.options.display.max_rows = 100"
   ]
  },
  {
   "cell_type": "code",
   "execution_count": 2,
   "metadata": {
    "collapsed": true
   },
   "outputs": [],
   "source": [
    "pudl_engine  = pudl.connect_db()"
   ]
  },
  {
   "cell_type": "markdown",
   "metadata": {},
   "source": [
    "### Pulling the required tables"
   ]
  },
  {
   "cell_type": "code",
   "execution_count": 3,
   "metadata": {
    "collapsed": true
   },
   "outputs": [],
   "source": [
    "# Bring in pudl IDs for all EIA plants\n",
    "pudl_ids = g9 = analysis.simple_select('plants_eia', pudl_engine)"
   ]
  },
  {
   "cell_type": "code",
   "execution_count": 4,
   "metadata": {},
   "outputs": [],
   "source": [
    "# Convert the fuel_receipts_costs_eia923 table into a dataframe\n",
    "frc9 = analysis.simple_select('fuel_receipts_costs_eia923', pudl_engine)"
   ]
  },
  {
   "cell_type": "code",
   "execution_count": 5,
   "metadata": {},
   "outputs": [],
   "source": [
    "frc9['fuel_cost'] = (frc9['fuel_quantity'] * frc9['average_heat_content'] * frc9['fuel_cost_per_mmbtu'])\n",
    "frc9['mmbtu'] =  (frc9['fuel_quantity'] * frc9['average_heat_content'])"
   ]
  },
  {
   "cell_type": "code",
   "execution_count": 6,
   "metadata": {},
   "outputs": [
    {
     "data": {
      "text/plain": [
       "402"
      ]
     },
     "execution_count": 6,
     "metadata": {},
     "output_type": "execute_result"
    }
   ],
   "source": [
    "# Identify the primary fuel for each plant; later assign all fuel costs to that category, so secondary fuels aren't lost\n",
    "frc9 = frc9.set_index(pd.DatetimeIndex(frc9['report_date']))\n",
    "frc_df = analysis.primary_fuel_frc_eia923(frc9, fuel_thresh = .99)\n",
    "frc_df_coal = frc_df[frc_df['primary_fuel']=='Coal']\n",
    "len(frc_df_coal.plant_id.unique())"
   ]
  },
  {
   "cell_type": "code",
   "execution_count": 7,
   "metadata": {},
   "outputs": [],
   "source": [
    "plants = frc_df_coal.plant_id.unique()"
   ]
  },
  {
   "cell_type": "code",
   "execution_count": 8,
   "metadata": {},
   "outputs": [],
   "source": [
    "frc9 = frc9[frc9['plant_id'].isin(plants)]"
   ]
  },
  {
   "cell_type": "code",
   "execution_count": 9,
   "metadata": {},
   "outputs": [],
   "source": [
    "# change energy source column to coal\n",
    "frc9['energy_source'] = 'Coal'"
   ]
  },
  {
   "cell_type": "code",
   "execution_count": 10,
   "metadata": {
    "collapsed": true
   },
   "outputs": [],
   "source": [
    "# Get yearly fuel cost by plant_id, year and energy_source\n",
    "frc9_summed = analysis.yearly_sum_eia(frc9 , 'fuel_cost', columns=['plant_id','report_date','energy_source']) #toggle\n",
    "frc9_summed = frc9_summed.reset_index()\n",
    "# frc9_summed = frc9_summed.rename(columns={'primary_fuel': 'energy_source'})"
   ]
  },
  {
   "cell_type": "code",
   "execution_count": 11,
   "metadata": {},
   "outputs": [
    {
     "data": {
      "text/html": [
       "<div>\n",
       "<style>\n",
       "    .dataframe thead tr:only-child th {\n",
       "        text-align: right;\n",
       "    }\n",
       "\n",
       "    .dataframe thead th {\n",
       "        text-align: left;\n",
       "    }\n",
       "\n",
       "    .dataframe tbody tr th {\n",
       "        vertical-align: top;\n",
       "    }\n",
       "</style>\n",
       "<table border=\"1\" class=\"dataframe\">\n",
       "  <thead>\n",
       "    <tr style=\"text-align: right;\">\n",
       "      <th></th>\n",
       "      <th>plant_id</th>\n",
       "      <th>report_date</th>\n",
       "      <th>energy_source</th>\n",
       "      <th>fuel_cost</th>\n",
       "    </tr>\n",
       "  </thead>\n",
       "  <tbody>\n",
       "    <tr>\n",
       "      <th>0</th>\n",
       "      <td>8</td>\n",
       "      <td>2009</td>\n",
       "      <td>Coal</td>\n",
       "      <td>2.192017e+08</td>\n",
       "    </tr>\n",
       "    <tr>\n",
       "      <th>1</th>\n",
       "      <td>8</td>\n",
       "      <td>2010</td>\n",
       "      <td>Coal</td>\n",
       "      <td>2.633077e+08</td>\n",
       "    </tr>\n",
       "    <tr>\n",
       "      <th>2</th>\n",
       "      <td>8</td>\n",
       "      <td>2011</td>\n",
       "      <td>Coal</td>\n",
       "      <td>2.132583e+08</td>\n",
       "    </tr>\n",
       "    <tr>\n",
       "      <th>3</th>\n",
       "      <td>8</td>\n",
       "      <td>2012</td>\n",
       "      <td>Coal</td>\n",
       "      <td>1.501188e+08</td>\n",
       "    </tr>\n",
       "    <tr>\n",
       "      <th>4</th>\n",
       "      <td>8</td>\n",
       "      <td>2013</td>\n",
       "      <td>Coal</td>\n",
       "      <td>1.247749e+08</td>\n",
       "    </tr>\n",
       "  </tbody>\n",
       "</table>\n",
       "</div>"
      ],
      "text/plain": [
       "   plant_id  report_date energy_source     fuel_cost\n",
       "0         8         2009          Coal  2.192017e+08\n",
       "1         8         2010          Coal  2.633077e+08\n",
       "2         8         2011          Coal  2.132583e+08\n",
       "3         8         2012          Coal  1.501188e+08\n",
       "4         8         2013          Coal  1.247749e+08"
      ]
     },
     "execution_count": 11,
     "metadata": {},
     "output_type": "execute_result"
    }
   ],
   "source": [
    "frc9_summed.head()"
   ]
  },
  {
   "cell_type": "code",
   "execution_count": 12,
   "metadata": {
    "scrolled": false
   },
   "outputs": [
    {
     "data": {
      "text/html": [
       "<div>\n",
       "<style>\n",
       "    .dataframe thead tr:only-child th {\n",
       "        text-align: right;\n",
       "    }\n",
       "\n",
       "    .dataframe thead th {\n",
       "        text-align: left;\n",
       "    }\n",
       "\n",
       "    .dataframe tbody tr th {\n",
       "        vertical-align: top;\n",
       "    }\n",
       "</style>\n",
       "<table border=\"1\" class=\"dataframe\">\n",
       "  <thead>\n",
       "    <tr style=\"text-align: right;\">\n",
       "      <th></th>\n",
       "      <th>plant_id</th>\n",
       "      <th>report_date</th>\n",
       "      <th>energy_source</th>\n",
       "      <th>mmbtu</th>\n",
       "    </tr>\n",
       "  </thead>\n",
       "  <tbody>\n",
       "    <tr>\n",
       "      <th>0</th>\n",
       "      <td>8</td>\n",
       "      <td>2009</td>\n",
       "      <td>Coal</td>\n",
       "      <td>5.691537e+07</td>\n",
       "    </tr>\n",
       "    <tr>\n",
       "      <th>1</th>\n",
       "      <td>8</td>\n",
       "      <td>2010</td>\n",
       "      <td>Coal</td>\n",
       "      <td>6.658290e+07</td>\n",
       "    </tr>\n",
       "  </tbody>\n",
       "</table>\n",
       "</div>"
      ],
      "text/plain": [
       "   plant_id  report_date energy_source         mmbtu\n",
       "0         8         2009          Coal  5.691537e+07\n",
       "1         8         2010          Coal  6.658290e+07"
      ]
     },
     "execution_count": 12,
     "metadata": {},
     "output_type": "execute_result"
    }
   ],
   "source": [
    "frc9_mmbtu_summed = analysis.yearly_sum_eia(frc9 , 'mmbtu', columns=['plant_id','report_date','energy_source']) #toggle\n",
    "# frc9_mmbtu_summed = frc9_mmbtu_summed.rename(columns={'primary_fuel': 'energy_source'})\n",
    "frc9_mmbtu_summed = frc9_mmbtu_summed.reset_index()\n",
    "frc9_mmbtu_summed.head(2)"
   ]
  },
  {
   "cell_type": "code",
   "execution_count": 13,
   "metadata": {},
   "outputs": [
    {
     "data": {
      "text/html": [
       "<div>\n",
       "<style>\n",
       "    .dataframe thead tr:only-child th {\n",
       "        text-align: right;\n",
       "    }\n",
       "\n",
       "    .dataframe thead th {\n",
       "        text-align: left;\n",
       "    }\n",
       "\n",
       "    .dataframe tbody tr th {\n",
       "        vertical-align: top;\n",
       "    }\n",
       "</style>\n",
       "<table border=\"1\" class=\"dataframe\">\n",
       "  <thead>\n",
       "    <tr style=\"text-align: right;\">\n",
       "      <th></th>\n",
       "      <th>plant_id</th>\n",
       "      <th>report_date</th>\n",
       "      <th>energy_source</th>\n",
       "      <th>mmbtu</th>\n",
       "      <th>fuel_cost</th>\n",
       "      <th>fuel_cost_per_mmbtu_average</th>\n",
       "    </tr>\n",
       "  </thead>\n",
       "  <tbody>\n",
       "    <tr>\n",
       "      <th>0</th>\n",
       "      <td>8</td>\n",
       "      <td>2009</td>\n",
       "      <td>Coal</td>\n",
       "      <td>5.691537e+07</td>\n",
       "      <td>2.192017e+08</td>\n",
       "      <td>3.851362</td>\n",
       "    </tr>\n",
       "    <tr>\n",
       "      <th>1</th>\n",
       "      <td>8</td>\n",
       "      <td>2010</td>\n",
       "      <td>Coal</td>\n",
       "      <td>6.658290e+07</td>\n",
       "      <td>2.633077e+08</td>\n",
       "      <td>3.954585</td>\n",
       "    </tr>\n",
       "    <tr>\n",
       "      <th>2</th>\n",
       "      <td>8</td>\n",
       "      <td>2011</td>\n",
       "      <td>Coal</td>\n",
       "      <td>5.151514e+07</td>\n",
       "      <td>2.132583e+08</td>\n",
       "      <td>4.139720</td>\n",
       "    </tr>\n",
       "    <tr>\n",
       "      <th>3</th>\n",
       "      <td>8</td>\n",
       "      <td>2012</td>\n",
       "      <td>Coal</td>\n",
       "      <td>3.659467e+07</td>\n",
       "      <td>1.501188e+08</td>\n",
       "      <td>4.102205</td>\n",
       "    </tr>\n",
       "    <tr>\n",
       "      <th>4</th>\n",
       "      <td>8</td>\n",
       "      <td>2013</td>\n",
       "      <td>Coal</td>\n",
       "      <td>3.061701e+07</td>\n",
       "      <td>1.247749e+08</td>\n",
       "      <td>4.075345</td>\n",
       "    </tr>\n",
       "  </tbody>\n",
       "</table>\n",
       "</div>"
      ],
      "text/plain": [
       "   plant_id  report_date energy_source         mmbtu     fuel_cost  \\\n",
       "0         8         2009          Coal  5.691537e+07  2.192017e+08   \n",
       "1         8         2010          Coal  6.658290e+07  2.633077e+08   \n",
       "2         8         2011          Coal  5.151514e+07  2.132583e+08   \n",
       "3         8         2012          Coal  3.659467e+07  1.501188e+08   \n",
       "4         8         2013          Coal  3.061701e+07  1.247749e+08   \n",
       "\n",
       "   fuel_cost_per_mmbtu_average  \n",
       "0                     3.851362  \n",
       "1                     3.954585  \n",
       "2                     4.139720  \n",
       "3                     4.102205  \n",
       "4                     4.075345  "
      ]
     },
     "execution_count": 13,
     "metadata": {},
     "output_type": "execute_result"
    }
   ],
   "source": [
    "frc9_summed = frc9_mmbtu_summed.merge(frc9_summed)\n",
    "frc9_summed['fuel_cost_per_mmbtu_average'] = (frc9_summed.fuel_cost/frc9_summed.mmbtu)\n",
    "frc9_summed.head()"
   ]
  },
  {
   "cell_type": "code",
   "execution_count": 14,
   "metadata": {
    "collapsed": true
   },
   "outputs": [],
   "source": [
    "# Convert the generation_eia923 table into a dataframe\n",
    "g9 = analysis.simple_select('generation_eia923', pudl_engine)\n",
    "#subset the g9 data frame to only coal plants\n",
    "g9 = g9[g9['plant_id'].isin(plants)]\n",
    "# Get yearly net generation by plant_id, year and generator_id\n",
    "g9_summed = analysis.yearly_sum_eia(g9, 'net_generation_mwh')\n",
    "g9_summed.reset_index(inplace=True)"
   ]
  },
  {
   "cell_type": "code",
   "execution_count": 15,
   "metadata": {
    "collapsed": true
   },
   "outputs": [],
   "source": [
    "# Convert the generators_eia860 table into a dataframe\n",
    "g8 = analysis.simple_select('generators_eia860', pudl_engine)"
   ]
  },
  {
   "cell_type": "code",
   "execution_count": 16,
   "metadata": {
    "collapsed": true
   },
   "outputs": [],
   "source": [
    "# In order to use the energy source associated with each generator\n",
    "g8_es = g8[['plant_id','generator_id', 'energy_source_1']]\n",
    "g8_es = g8_es.rename(columns={'energy_source_1': 'energy_source'})\n",
    "g8_es.drop_duplicates(['plant_id','generator_id'], inplace=True)\n",
    "g8_es['energy_source'] = 'Coal'\n",
    "\n",
    "#subset the g8 data frame to only coal plants\n",
    "g8 = g8[g8['plant_id'].isin(plants)]\n",
    "g8_es = g8_es[g8_es['plant_id'].isin(plants)]"
   ]
  },
  {
   "cell_type": "code",
   "execution_count": 17,
   "metadata": {
    "collapsed": true
   },
   "outputs": [],
   "source": [
    "# In order to use the capacity of each generator\n",
    "g8 = g8[['plant_id','plant_name', 'operator_name', 'state', 'generator_id','nameplate_capacity_mw','summer_capacity_mw','winter_capacity_mw','year']]\n",
    "g8.rename(columns={'year': 'report_date'},inplace=True)\n",
    "\n",
    "# # Cheating to duplicate 2015 EIA860 capacity factor data for 2016:\n",
    "g8_2016 = g8.loc[g8['report_date'] == 2015]\n",
    "g8_2016.report_date.replace([2015], [2016], inplace=True)\n",
    "g8 = g8_2016.append(g8)"
   ]
  },
  {
   "cell_type": "code",
   "execution_count": 18,
   "metadata": {
    "collapsed": true
   },
   "outputs": [],
   "source": [
    "# see which non-fuel coals exist for these coal plants\n",
    "non_coal_fuels = g8_es.loc[(g8_es['energy_source']!='BIT') & (g8_es['energy_source']!='SUB') & (g8_es['energy_source']!='LIG')]"
   ]
  },
  {
   "cell_type": "code",
   "execution_count": 19,
   "metadata": {},
   "outputs": [
    {
     "data": {
      "text/plain": [
       "array(['Coal'], dtype=object)"
      ]
     },
     "execution_count": 19,
     "metadata": {},
     "output_type": "execute_result"
    }
   ],
   "source": [
    "# Look at the variety of non-coal fuels used in coal plants\n",
    "non_coal_fuels.energy_source.unique()"
   ]
  },
  {
   "cell_type": "code",
   "execution_count": 20,
   "metadata": {
    "collapsed": true
   },
   "outputs": [],
   "source": [
    "# re-assign all energy source values to coal\n",
    "g8['energy_source'] = 'Coal'"
   ]
  },
  {
   "cell_type": "code",
   "execution_count": 21,
   "metadata": {
    "collapsed": true
   },
   "outputs": [],
   "source": [
    "# Convert the boiler_fuel_eia923 table into a dataframe\n",
    "bf9 = analysis.simple_select('boiler_fuel_eia923', pudl_engine)\n",
    "bf9['fuel_consumed_mmbtu'] = bf9['fuel_qty_consumed']*bf9['fuel_mmbtu_per_unit']"
   ]
  },
  {
   "cell_type": "code",
   "execution_count": 22,
   "metadata": {
    "collapsed": true
   },
   "outputs": [],
   "source": [
    "#subset the bf9 data frame to only coal plants\n",
    "bf9 = bf9[bf9['plant_id'].isin(plants)]\n",
    "\n",
    "# re-assign all energy source values to coal\n",
    "bf9['energy_source'] = 'Coal'"
   ]
  },
  {
   "cell_type": "code",
   "execution_count": 23,
   "metadata": {
    "collapsed": true
   },
   "outputs": [],
   "source": [
    "# Get yearly fuel consumed by plant_id, year and boiler_id\n",
    "bf9_summed = analysis.yearly_sum_eia(bf9 , 'fuel_consumed_mmbtu', columns=['plant_id','report_date','boiler_id'])\n",
    "bf9_summed.reset_index(inplace=True)\n",
    "# Get yearly fuel consumed by plant_id, year and boiler_id\n",
    "bf9_plant_summed = analysis.yearly_sum_eia(bf9 , 'fuel_consumed_mmbtu', columns=['plant_id','report_date'])\n",
    "bf9_plant_summed.reset_index(inplace=True)"
   ]
  },
  {
   "cell_type": "code",
   "execution_count": 24,
   "metadata": {
    "collapsed": true
   },
   "outputs": [],
   "source": [
    "# Convert the boiler_generator_assn_eia860 table into a dataframe\n",
    "bga8 = analysis.simple_select('boiler_generator_assn_eia860', pudl_engine)\n",
    "bga8.drop(['id','operator_id'],axis=1, inplace=True)\n",
    "bga8.drop_duplicates(['plant_id','boiler_id','generator_id'],inplace=True)"
   ]
  },
  {
   "cell_type": "code",
   "execution_count": 25,
   "metadata": {
    "collapsed": true
   },
   "outputs": [],
   "source": [
    "# get the primary fuel for each plant (to be used to combine plants that have unassociated generators)\n",
    "gf9 = analysis.simple_select('generation_fuel_eia923', pudl_engine)\n",
    "# primary_fuel = analysis.primary_fuel_gf_eia923(gf9).rename(columns={'year':'report_date'})"
   ]
  },
  {
   "cell_type": "code",
   "execution_count": 26,
   "metadata": {
    "collapsed": true
   },
   "outputs": [],
   "source": [
    "#subset the bf9 data frame to only coal plants\n",
    "gf9 = gf9[gf9['plant_id'].isin(plants)]"
   ]
  },
  {
   "cell_type": "markdown",
   "metadata": {},
   "source": [
    "## Generating Capacity Factor"
   ]
  },
  {
   "cell_type": "code",
   "execution_count": 27,
   "metadata": {
    "collapsed": true
   },
   "outputs": [],
   "source": [
    "capacity_factor = analysis.capacity_factor(g9_summed,g8)"
   ]
  },
  {
   "cell_type": "code",
   "execution_count": 28,
   "metadata": {},
   "outputs": [
    {
     "data": {
      "text/html": [
       "<div>\n",
       "<style>\n",
       "    .dataframe thead tr:only-child th {\n",
       "        text-align: right;\n",
       "    }\n",
       "\n",
       "    .dataframe thead th {\n",
       "        text-align: left;\n",
       "    }\n",
       "\n",
       "    .dataframe tbody tr th {\n",
       "        vertical-align: top;\n",
       "    }\n",
       "</style>\n",
       "<table border=\"1\" class=\"dataframe\">\n",
       "  <thead>\n",
       "    <tr style=\"text-align: right;\">\n",
       "      <th></th>\n",
       "      <th>plant_id</th>\n",
       "      <th>report_date</th>\n",
       "      <th>generator_id</th>\n",
       "      <th>net_generation_mwh</th>\n",
       "      <th>plant_name</th>\n",
       "      <th>operator_name</th>\n",
       "      <th>state</th>\n",
       "      <th>nameplate_capacity_mw</th>\n",
       "      <th>summer_capacity_mw</th>\n",
       "      <th>winter_capacity_mw</th>\n",
       "      <th>energy_source</th>\n",
       "      <th>capacity_factor</th>\n",
       "    </tr>\n",
       "  </thead>\n",
       "  <tbody>\n",
       "    <tr>\n",
       "      <th>0</th>\n",
       "      <td>8</td>\n",
       "      <td>2011</td>\n",
       "      <td>10</td>\n",
       "      <td>3348756.0</td>\n",
       "      <td>Gorgas</td>\n",
       "      <td>Alabama Power Co</td>\n",
       "      <td>AL</td>\n",
       "      <td>788.8</td>\n",
       "      <td>703.0</td>\n",
       "      <td>703.0</td>\n",
       "      <td>Coal</td>\n",
       "      <td>0.484632</td>\n",
       "    </tr>\n",
       "    <tr>\n",
       "      <th>1</th>\n",
       "      <td>8</td>\n",
       "      <td>2011</td>\n",
       "      <td>6</td>\n",
       "      <td>240813.0</td>\n",
       "      <td>Gorgas</td>\n",
       "      <td>Alabama Power Co</td>\n",
       "      <td>AL</td>\n",
       "      <td>125.0</td>\n",
       "      <td>103.0</td>\n",
       "      <td>103.0</td>\n",
       "      <td>Coal</td>\n",
       "      <td>0.219921</td>\n",
       "    </tr>\n",
       "  </tbody>\n",
       "</table>\n",
       "</div>"
      ],
      "text/plain": [
       "   plant_id  report_date generator_id  net_generation_mwh plant_name  \\\n",
       "0         8         2011           10           3348756.0     Gorgas   \n",
       "1         8         2011            6            240813.0     Gorgas   \n",
       "\n",
       "      operator_name state  nameplate_capacity_mw  summer_capacity_mw  \\\n",
       "0  Alabama Power Co    AL                  788.8               703.0   \n",
       "1  Alabama Power Co    AL                  125.0               103.0   \n",
       "\n",
       "   winter_capacity_mw energy_source  capacity_factor  \n",
       "0               703.0          Coal         0.484632  \n",
       "1               103.0          Coal         0.219921  "
      ]
     },
     "execution_count": 28,
     "metadata": {},
     "output_type": "execute_result"
    }
   ],
   "source": [
    "capacity_factor.head(2)"
   ]
  },
  {
   "cell_type": "markdown",
   "metadata": {},
   "source": [
    "## Generating Heat Rate"
   ]
  },
  {
   "cell_type": "code",
   "execution_count": 29,
   "metadata": {
    "collapsed": true,
    "scrolled": false
   },
   "outputs": [],
   "source": [
    "# heat_rate = analysis.heat_rate(bga8, g9_summed, bf9_summed, bf9_plant_summed, pudl_engine)"
   ]
  },
  {
   "cell_type": "code",
   "execution_count": 30,
   "metadata": {
    "collapsed": true
   },
   "outputs": [],
   "source": [
    "# Calculate heat rate here (instead of with function) to retain \n",
    "# some of the underlying fields used for calculations\n",
    "gens_with_bga = analysis.gens_with_bga(bga8, g9_summed)"
   ]
  },
  {
   "cell_type": "code",
   "execution_count": 31,
   "metadata": {
    "collapsed": true
   },
   "outputs": [],
   "source": [
    "# heat_rate(bga8, g9_summed, bf9_summed, bf9_plant_summed, pudl_engine):\n",
    "#     \"\"\"\n",
    "#     Generate hate rates for all EIA generators.\n",
    "#     \"\"\"\n",
    "# This section pulls the unassociated generators\n",
    "gens = gens_with_bga\n",
    "# Get a list of generators from plants with unassociated plants\n",
    "# gens_unassn_plants = gens[gens['plant_assn'] == False\n",
    "gens_unassn_plants = gens[gens['complete_assn'] == False]\n",
    "\n",
    "# Sum the yearly net generation for these plants\n",
    "gup_gb = gens_unassn_plants.groupby(by=['plant_id', 'report_date'])\n",
    "gens_unassn_plants_summed = gup_gb.agg({'net_generation_mwh': np.sum})\n",
    "gens_unassn_plants_summed.reset_index(inplace=True)\n",
    "\n",
    "# Pull in mmbtu\n",
    "unassn_plants = gens_unassn_plants_summed.merge(\n",
    "    bf9_plant_summed, on=['plant_id', 'report_date'])\n",
    "# calculate heat rate by plant\n",
    "unassn_plants['heat_rate_mmbtu_mwh'] = \\\n",
    "    unassn_plants['fuel_consumed_mmbtu'] / \\\n",
    "    unassn_plants['net_generation_mwh']\n",
    "\n",
    "# Merge these plant level heat heat rates with the unassociated generators\n",
    "# Assign heat rates to generators across the plants with unassociated\n",
    "# generators\n",
    "heat_rate_unassn = gens_unassn_plants.merge(unassn_plants[[\n",
    "                                            'plant_id',\n",
    "                                            'report_date',\n",
    "                                            'heat_rate_mmbtu_mwh']],\n",
    "                                            on=['plant_id',\n",
    "                                                'report_date'],\n",
    "                                            how='left')\n",
    "heat_rate_unassn.drop(\n",
    "    ['boiler_id', 'boiler_generator_assn'], axis=1, inplace=True)\n",
    "\n",
    "# This section generates heat rate from the generators of\n",
    "# the plants that have any generators that are included in\n",
    "# the boiler generator association table (860)\n",
    "generation_w_boilers = g9_summed.merge(\n",
    "    bga8, how='left', on=['plant_id', 'generator_id'])\n",
    "\n",
    "# get net generation per boiler\n",
    "gb1 = generation_w_boilers.groupby(\n",
    "    by=['plant_id', 'report_date', 'boiler_id'])\n",
    "generation_w_boilers_summed = gb1.agg({'net_generation_mwh': np.sum})\n",
    "generation_w_boilers_summed.reset_index(inplace=True)\n",
    "generation_w_boilers_summed.rename(\n",
    "    columns={'net_generation_mwh': 'net_generation_mwh_boiler'},\n",
    "    inplace=True)\n",
    "\n",
    "# get the generation per boiler/generator combo\n",
    "gb2 = generation_w_boilers.groupby(\n",
    "    by=['plant_id', 'report_date', 'boiler_id', 'generator_id'])\n",
    "generation_w_bg_summed = gb2.agg({'net_generation_mwh': np.sum})\n",
    "generation_w_bg_summed.reset_index(inplace=True)\n",
    "generation_w_bg_summed.rename(\n",
    "    columns={'net_generation_mwh': 'net_generation_mwh_boiler_gen'},\n",
    "    inplace=True)\n",
    "\n",
    "# squish them together\n",
    "generation_w_boilers_summed = \\\n",
    "    generation_w_boilers_summed.merge(generation_w_bg_summed,\n",
    "                                      how='left',\n",
    "                                      on=['plant_id',\n",
    "                                          'report_date',\n",
    "                                          'boiler_id'])\n",
    "\n",
    "bg = bf9_summed.merge(bga8, how='left', on=['plant_id', 'boiler_id'])\n",
    "bg = bg.merge(generation_w_boilers_summed, how='left', on=[\n",
    "              'plant_id', 'report_date', 'boiler_id', 'generator_id'])\n",
    "\n",
    "# Use the proportion of the generation of each generator to allot mmBTU\n",
    "bg['proportion_of_gen_by_boil_gen'] = \\\n",
    "    bg['net_generation_mwh_boiler_gen'] / bg['net_generation_mwh_boiler']\n",
    "bg['fuel_consumed_mmbtu_per_gen'] = \\\n",
    "    bg['proportion_of_gen_by_boil_gen'] * bg['fuel_consumed_mmbtu']\n",
    "\n",
    "# Get yearly fuel_consumed_mmbtu by plant_id, year and generator_id\n",
    "bg_gb = bg.groupby(by=['plant_id',\n",
    "                       'report_date',\n",
    "                       'generator_id', \n",
    "                       'net_generation_mwh_boiler_gen',\n",
    "                       'net_generation_mwh_boiler',\n",
    "                       'proportion_of_gen_by_boil_gen'], as_index=False)\n",
    "bg_summed = bg_gb.agg({'fuel_consumed_mmbtu_per_gen': np.sum})\n",
    "bg_summed.reset_index(inplace=True)\n",
    "\n",
    "# Calculate heat rate\n",
    "heat_rate = bg_summed.merge(g9_summed, how='left', on=[\n",
    "                            'plant_id', 'report_date', 'generator_id'])\n",
    "heat_rate['heat_rate_mmbtu_mwh'] = \\\n",
    "    heat_rate['fuel_consumed_mmbtu_per_gen'] / \\\n",
    "    heat_rate['net_generation_mwh_boiler_gen']\n",
    "\n",
    "# Importing the plant association tag to filter out the\n",
    "# generators that are a part of plants that aren't in the bga table\n",
    "heat_rate = heat_rate.merge(gens[['plant_id',\n",
    "                                  'report_date',\n",
    "                                  'generator_id',\n",
    "                                  'complete_assn',\n",
    "                                  'plant_assn']],\n",
    "                            on=['plant_id',\n",
    "                                'report_date',\n",
    "                                'generator_id'])\n",
    "heat_rate_assn = heat_rate[heat_rate['complete_assn'] == True]\n",
    "\n",
    "# Append heat rates for associated and unassociated\n",
    "heat_rate_all = heat_rate_assn.append(heat_rate_unassn)\n",
    "heat_rate_all.sort_values(\n",
    "    by=['plant_id', 'report_date', 'generator_id'], inplace=True)"
   ]
  },
  {
   "cell_type": "code",
   "execution_count": 32,
   "metadata": {
    "collapsed": true,
    "scrolled": false
   },
   "outputs": [],
   "source": [
    "#CALCULATIONS FROM INSIDE OF FUEL_COST FUNCTION:\n",
    "\n",
    "net_gen = g9_summed.merge(g8_es, how='left', on=[\n",
    "                              'plant_id', 'generator_id'])\n",
    "\n",
    "# Merge this net_gen table with frc9_summed to have\n",
    "# fuel_cost_per_mmbtu_total associated with generators\n",
    "\n",
    "fuel_cost_per_mmbtu = net_gen.merge(frc9_summed,\n",
    "                                    how='outer',\n",
    "                                    on=['plant_id',\n",
    "                                        'report_date',\n",
    "                                        'energy_source'])"
   ]
  },
  {
   "cell_type": "markdown",
   "metadata": {},
   "source": [
    "## Generating Fuel Cost"
   ]
  },
  {
   "cell_type": "code",
   "execution_count": 33,
   "metadata": {
    "collapsed": true
   },
   "outputs": [],
   "source": [
    "fuel_cost = analysis.fuel_cost(g9_summed,g8_es,frc9_summed,heat_rate)"
   ]
  },
  {
   "cell_type": "code",
   "execution_count": 34,
   "metadata": {},
   "outputs": [
    {
     "data": {
      "text/html": [
       "<div>\n",
       "<style>\n",
       "    .dataframe thead tr:only-child th {\n",
       "        text-align: right;\n",
       "    }\n",
       "\n",
       "    .dataframe thead th {\n",
       "        text-align: left;\n",
       "    }\n",
       "\n",
       "    .dataframe tbody tr th {\n",
       "        vertical-align: top;\n",
       "    }\n",
       "</style>\n",
       "<table border=\"1\" class=\"dataframe\">\n",
       "  <thead>\n",
       "    <tr style=\"text-align: right;\">\n",
       "      <th></th>\n",
       "      <th>plant_id</th>\n",
       "      <th>report_date</th>\n",
       "      <th>generator_id</th>\n",
       "      <th>net_generation_mwh</th>\n",
       "      <th>energy_source</th>\n",
       "      <th>mmbtu</th>\n",
       "      <th>fuel_cost</th>\n",
       "      <th>fuel_cost_per_mmbtu_average</th>\n",
       "      <th>heat_rate_mmbtu_mwh</th>\n",
       "      <th>fuel_cost_per_mwh</th>\n",
       "    </tr>\n",
       "  </thead>\n",
       "  <tbody>\n",
       "    <tr>\n",
       "      <th>0</th>\n",
       "      <td>8</td>\n",
       "      <td>2009</td>\n",
       "      <td>10</td>\n",
       "      <td>3933248.0</td>\n",
       "      <td>Coal</td>\n",
       "      <td>5.691537e+07</td>\n",
       "      <td>2.192017e+08</td>\n",
       "      <td>3.851362</td>\n",
       "      <td>9.814333</td>\n",
       "      <td>37.798547</td>\n",
       "    </tr>\n",
       "    <tr>\n",
       "      <th>1</th>\n",
       "      <td>8</td>\n",
       "      <td>2009</td>\n",
       "      <td>6</td>\n",
       "      <td>98792.0</td>\n",
       "      <td>Coal</td>\n",
       "      <td>5.691537e+07</td>\n",
       "      <td>2.192017e+08</td>\n",
       "      <td>3.851362</td>\n",
       "      <td>12.920373</td>\n",
       "      <td>49.761033</td>\n",
       "    </tr>\n",
       "  </tbody>\n",
       "</table>\n",
       "</div>"
      ],
      "text/plain": [
       "   plant_id  report_date generator_id  net_generation_mwh energy_source  \\\n",
       "0         8         2009           10           3933248.0          Coal   \n",
       "1         8         2009            6             98792.0          Coal   \n",
       "\n",
       "          mmbtu     fuel_cost  fuel_cost_per_mmbtu_average  \\\n",
       "0  5.691537e+07  2.192017e+08                     3.851362   \n",
       "1  5.691537e+07  2.192017e+08                     3.851362   \n",
       "\n",
       "   heat_rate_mmbtu_mwh  fuel_cost_per_mwh  \n",
       "0             9.814333          37.798547  \n",
       "1            12.920373          49.761033  "
      ]
     },
     "execution_count": 34,
     "metadata": {},
     "output_type": "execute_result"
    }
   ],
   "source": [
    "fuel_cost.head(2)"
   ]
  },
  {
   "cell_type": "markdown",
   "metadata": {},
   "source": [
    "### Merge fields together"
   ]
  },
  {
   "cell_type": "code",
   "execution_count": 35,
   "metadata": {
    "collapsed": true
   },
   "outputs": [],
   "source": [
    "mcoe_by_generator = fuel_cost[['plant_id',\n",
    "                               'report_date',\n",
    "                               'generator_id',\n",
    "                               'energy_source',                               'mmbtu',\n",
    "                               'fuel_cost',\n",
    "                               'fuel_cost_per_mmbtu_average',\n",
    "                               'fuel_cost_per_mwh']].merge(heat_rate,\n",
    "                                                           on=['plant_id','report_date','generator_id'])"
   ]
  },
  {
   "cell_type": "code",
   "execution_count": 36,
   "metadata": {
    "collapsed": true
   },
   "outputs": [],
   "source": [
    "mcoe_by_generator = mcoe_by_generator.merge(capacity_factor.drop('net_generation_mwh', axis=1),\n",
    "                                            on=['plant_id','report_date','generator_id'])"
   ]
  },
  {
   "cell_type": "code",
   "execution_count": 37,
   "metadata": {
    "collapsed": true
   },
   "outputs": [],
   "source": [
    "mcoe_by_generator = mcoe_by_generator.merge(bf9_plant_summed, on=['plant_id','report_date'])"
   ]
  },
  {
   "cell_type": "code",
   "execution_count": 38,
   "metadata": {},
   "outputs": [
    {
     "data": {
      "text/html": [
       "<div>\n",
       "<style>\n",
       "    .dataframe thead tr:only-child th {\n",
       "        text-align: right;\n",
       "    }\n",
       "\n",
       "    .dataframe thead th {\n",
       "        text-align: left;\n",
       "    }\n",
       "\n",
       "    .dataframe tbody tr th {\n",
       "        vertical-align: top;\n",
       "    }\n",
       "</style>\n",
       "<table border=\"1\" class=\"dataframe\">\n",
       "  <thead>\n",
       "    <tr style=\"text-align: right;\">\n",
       "      <th></th>\n",
       "      <th>plant_id</th>\n",
       "      <th>report_date</th>\n",
       "      <th>generator_id</th>\n",
       "      <th>energy_source_x</th>\n",
       "      <th>mmbtu</th>\n",
       "      <th>fuel_cost</th>\n",
       "      <th>fuel_cost_per_mmbtu_average</th>\n",
       "      <th>fuel_cost_per_mwh</th>\n",
       "      <th>index</th>\n",
       "      <th>net_generation_mwh_boiler_gen</th>\n",
       "      <th>net_generation_mwh_boiler</th>\n",
       "      <th>proportion_of_gen_by_boil_gen</th>\n",
       "      <th>fuel_consumed_mmbtu_per_gen</th>\n",
       "      <th>net_generation_mwh</th>\n",
       "      <th>heat_rate_mmbtu_mwh</th>\n",
       "      <th>complete_assn</th>\n",
       "      <th>plant_assn</th>\n",
       "      <th>plant_name</th>\n",
       "      <th>operator_name</th>\n",
       "      <th>state</th>\n",
       "      <th>nameplate_capacity_mw</th>\n",
       "      <th>summer_capacity_mw</th>\n",
       "      <th>winter_capacity_mw</th>\n",
       "      <th>energy_source_y</th>\n",
       "      <th>capacity_factor</th>\n",
       "      <th>fuel_consumed_mmbtu</th>\n",
       "    </tr>\n",
       "  </thead>\n",
       "  <tbody>\n",
       "    <tr>\n",
       "      <th>0</th>\n",
       "      <td>8</td>\n",
       "      <td>2011</td>\n",
       "      <td>10</td>\n",
       "      <td>Coal</td>\n",
       "      <td>5.151514e+07</td>\n",
       "      <td>2.132583e+08</td>\n",
       "      <td>4.13972</td>\n",
       "      <td>40.567746</td>\n",
       "      <td>10</td>\n",
       "      <td>3348756.0</td>\n",
       "      <td>3348756.0</td>\n",
       "      <td>1.0</td>\n",
       "      <td>3.281658e+07</td>\n",
       "      <td>3348756.0</td>\n",
       "      <td>9.799634</td>\n",
       "      <td>True</td>\n",
       "      <td>True</td>\n",
       "      <td>Gorgas</td>\n",
       "      <td>Alabama Power Co</td>\n",
       "      <td>AL</td>\n",
       "      <td>788.8</td>\n",
       "      <td>703.0</td>\n",
       "      <td>703.0</td>\n",
       "      <td>Coal</td>\n",
       "      <td>0.484632</td>\n",
       "      <td>5.069400e+07</td>\n",
       "    </tr>\n",
       "    <tr>\n",
       "      <th>1</th>\n",
       "      <td>8</td>\n",
       "      <td>2011</td>\n",
       "      <td>6</td>\n",
       "      <td>Coal</td>\n",
       "      <td>5.151514e+07</td>\n",
       "      <td>2.132583e+08</td>\n",
       "      <td>4.13972</td>\n",
       "      <td>51.881910</td>\n",
       "      <td>11</td>\n",
       "      <td>240813.0</td>\n",
       "      <td>240813.0</td>\n",
       "      <td>1.0</td>\n",
       "      <td>3.018039e+06</td>\n",
       "      <td>240813.0</td>\n",
       "      <td>12.532709</td>\n",
       "      <td>True</td>\n",
       "      <td>True</td>\n",
       "      <td>Gorgas</td>\n",
       "      <td>Alabama Power Co</td>\n",
       "      <td>AL</td>\n",
       "      <td>125.0</td>\n",
       "      <td>103.0</td>\n",
       "      <td>103.0</td>\n",
       "      <td>Coal</td>\n",
       "      <td>0.219921</td>\n",
       "      <td>5.069400e+07</td>\n",
       "    </tr>\n",
       "  </tbody>\n",
       "</table>\n",
       "</div>"
      ],
      "text/plain": [
       "   plant_id  report_date generator_id energy_source_x         mmbtu  \\\n",
       "0         8         2011           10            Coal  5.151514e+07   \n",
       "1         8         2011            6            Coal  5.151514e+07   \n",
       "\n",
       "      fuel_cost  fuel_cost_per_mmbtu_average  fuel_cost_per_mwh  index  \\\n",
       "0  2.132583e+08                      4.13972          40.567746     10   \n",
       "1  2.132583e+08                      4.13972          51.881910     11   \n",
       "\n",
       "   net_generation_mwh_boiler_gen  net_generation_mwh_boiler  \\\n",
       "0                      3348756.0                  3348756.0   \n",
       "1                       240813.0                   240813.0   \n",
       "\n",
       "   proportion_of_gen_by_boil_gen  fuel_consumed_mmbtu_per_gen  \\\n",
       "0                            1.0                 3.281658e+07   \n",
       "1                            1.0                 3.018039e+06   \n",
       "\n",
       "   net_generation_mwh  heat_rate_mmbtu_mwh  complete_assn  plant_assn  \\\n",
       "0           3348756.0             9.799634           True        True   \n",
       "1            240813.0            12.532709           True        True   \n",
       "\n",
       "  plant_name     operator_name state  nameplate_capacity_mw  \\\n",
       "0     Gorgas  Alabama Power Co    AL                  788.8   \n",
       "1     Gorgas  Alabama Power Co    AL                  125.0   \n",
       "\n",
       "   summer_capacity_mw  winter_capacity_mw energy_source_y  capacity_factor  \\\n",
       "0               703.0               703.0            Coal         0.484632   \n",
       "1               103.0               103.0            Coal         0.219921   \n",
       "\n",
       "   fuel_consumed_mmbtu  \n",
       "0         5.069400e+07  \n",
       "1         5.069400e+07  "
      ]
     },
     "execution_count": 38,
     "metadata": {},
     "output_type": "execute_result"
    }
   ],
   "source": [
    "mcoe_by_generator.head(2)"
   ]
  },
  {
   "cell_type": "markdown",
   "metadata": {},
   "source": [
    "### Filter to include only plants >= 10 MW"
   ]
  },
  {
   "cell_type": "code",
   "execution_count": 39,
   "metadata": {
    "collapsed": true
   },
   "outputs": [],
   "source": [
    "# Now, let's grab only those plants larger than 10MW\n",
    "mcoe_by_generator = mcoe_by_generator[mcoe_by_generator['nameplate_capacity_mw']>=10]"
   ]
  },
  {
   "cell_type": "markdown",
   "metadata": {},
   "source": [
    "### Add PUDL plant IDs"
   ]
  },
  {
   "cell_type": "code",
   "execution_count": 40,
   "metadata": {
    "collapsed": true
   },
   "outputs": [],
   "source": [
    "mcoe_by_generator = mcoe_by_generator.merge(pudl_ids[['plant_id','plant_id_pudl']], on=['plant_id'])"
   ]
  },
  {
   "cell_type": "code",
   "execution_count": 41,
   "metadata": {
    "collapsed": true
   },
   "outputs": [],
   "source": [
    "mcoe_by_generator.rename(columns={'plant_id': 'plant_id_eia'}, inplace=True)"
   ]
  },
  {
   "cell_type": "markdown",
   "metadata": {},
   "source": [
    "## Aggregate at fuel cost and net gen at plant level for comparison with FERC"
   ]
  },
  {
   "cell_type": "code",
   "execution_count": 42,
   "metadata": {
    "collapsed": true
   },
   "outputs": [],
   "source": [
    "eia_fuel = analysis.yearly_sum_eia(frc9 , 'fuel_cost', columns=['plant_id','report_date'])\n",
    "fuel_summed = eia_fuel.reset_index()\n",
    "fuel_summed.rename(columns={'fuel_cost': 'fuel_cost_annual_eia'}, inplace=True)\n",
    "fuel_summed = fuel_summed.reset_index()"
   ]
  },
  {
   "cell_type": "code",
   "execution_count": 43,
   "metadata": {
    "collapsed": true,
    "scrolled": false
   },
   "outputs": [],
   "source": [
    "eia_netgen = mcoe_by_generator.groupby(by=['plant_id_eia','report_date'])\n",
    "netgen_summed = eia_netgen.agg({'net_generation_mwh':np.sum})\n",
    "netgen_summed.rename(columns={'net_generation_mwh': 'net_generation_mwh_plant_eia'}, inplace=True)\n",
    "netgen_summed = netgen_summed.reset_index()"
   ]
  },
  {
   "cell_type": "code",
   "execution_count": 44,
   "metadata": {
    "collapsed": true
   },
   "outputs": [],
   "source": [
    "mcoe_by_generator2 = mcoe_by_generator.merge(fuel_summed, how=\"left\", left_on=['plant_id_eia', 'report_date'], right_on=['plant_id', 'report_date'])"
   ]
  },
  {
   "cell_type": "code",
   "execution_count": 45,
   "metadata": {
    "collapsed": true
   },
   "outputs": [],
   "source": [
    "mcoe_by_generator3 = mcoe_by_generator2.merge(netgen_summed, how=\"left\", left_on=['plant_id_eia', 'report_date'], right_on=['plant_id_eia', 'report_date'])"
   ]
  },
  {
   "cell_type": "code",
   "execution_count": 46,
   "metadata": {
    "collapsed": true
   },
   "outputs": [],
   "source": [
    "mcoe_by_generator3.rename(columns={'energy_source_x': 'energy_source'},\n",
    "    inplace=True)\n",
    "\n",
    "#mcoe_by_generator3.drop('energy_source_y', axis=1, inplace=True)"
   ]
  },
  {
   "cell_type": "code",
   "execution_count": 47,
   "metadata": {
    "collapsed": true
   },
   "outputs": [],
   "source": [
    "mcoe_by_generator = mcoe_by_generator3"
   ]
  },
  {
   "cell_type": "code",
   "execution_count": 48,
   "metadata": {},
   "outputs": [
    {
     "data": {
      "text/html": [
       "<div>\n",
       "<style>\n",
       "    .dataframe thead tr:only-child th {\n",
       "        text-align: right;\n",
       "    }\n",
       "\n",
       "    .dataframe thead th {\n",
       "        text-align: left;\n",
       "    }\n",
       "\n",
       "    .dataframe tbody tr th {\n",
       "        vertical-align: top;\n",
       "    }\n",
       "</style>\n",
       "<table border=\"1\" class=\"dataframe\">\n",
       "  <thead>\n",
       "    <tr style=\"text-align: right;\">\n",
       "      <th></th>\n",
       "      <th>plant_id_eia</th>\n",
       "      <th>report_date</th>\n",
       "      <th>generator_id</th>\n",
       "      <th>energy_source</th>\n",
       "      <th>mmbtu</th>\n",
       "      <th>fuel_cost</th>\n",
       "      <th>fuel_cost_per_mmbtu_average</th>\n",
       "      <th>fuel_cost_per_mwh</th>\n",
       "      <th>index_x</th>\n",
       "      <th>net_generation_mwh_boiler_gen</th>\n",
       "      <th>net_generation_mwh_boiler</th>\n",
       "      <th>proportion_of_gen_by_boil_gen</th>\n",
       "      <th>fuel_consumed_mmbtu_per_gen</th>\n",
       "      <th>net_generation_mwh</th>\n",
       "      <th>heat_rate_mmbtu_mwh</th>\n",
       "      <th>complete_assn</th>\n",
       "      <th>plant_assn</th>\n",
       "      <th>plant_name</th>\n",
       "      <th>operator_name</th>\n",
       "      <th>state</th>\n",
       "      <th>nameplate_capacity_mw</th>\n",
       "      <th>summer_capacity_mw</th>\n",
       "      <th>winter_capacity_mw</th>\n",
       "      <th>energy_source_y</th>\n",
       "      <th>capacity_factor</th>\n",
       "      <th>fuel_consumed_mmbtu</th>\n",
       "      <th>plant_id_pudl</th>\n",
       "      <th>index_y</th>\n",
       "      <th>plant_id</th>\n",
       "      <th>fuel_cost_annual_eia</th>\n",
       "      <th>net_generation_mwh_plant_eia</th>\n",
       "    </tr>\n",
       "  </thead>\n",
       "  <tbody>\n",
       "    <tr>\n",
       "      <th>0</th>\n",
       "      <td>8</td>\n",
       "      <td>2011</td>\n",
       "      <td>10</td>\n",
       "      <td>Coal</td>\n",
       "      <td>5.151514e+07</td>\n",
       "      <td>2.132583e+08</td>\n",
       "      <td>4.13972</td>\n",
       "      <td>40.567746</td>\n",
       "      <td>10</td>\n",
       "      <td>3348756.0</td>\n",
       "      <td>3348756.0</td>\n",
       "      <td>1.0</td>\n",
       "      <td>3.281658e+07</td>\n",
       "      <td>3348756.0</td>\n",
       "      <td>9.799634</td>\n",
       "      <td>True</td>\n",
       "      <td>True</td>\n",
       "      <td>Gorgas</td>\n",
       "      <td>Alabama Power Co</td>\n",
       "      <td>AL</td>\n",
       "      <td>788.8</td>\n",
       "      <td>703.0</td>\n",
       "      <td>703.0</td>\n",
       "      <td>Coal</td>\n",
       "      <td>0.484632</td>\n",
       "      <td>5.069400e+07</td>\n",
       "      <td>227</td>\n",
       "      <td>2.0</td>\n",
       "      <td>8.0</td>\n",
       "      <td>2.132583e+08</td>\n",
       "      <td>4936430.0</td>\n",
       "    </tr>\n",
       "    <tr>\n",
       "      <th>1</th>\n",
       "      <td>8</td>\n",
       "      <td>2011</td>\n",
       "      <td>6</td>\n",
       "      <td>Coal</td>\n",
       "      <td>5.151514e+07</td>\n",
       "      <td>2.132583e+08</td>\n",
       "      <td>4.13972</td>\n",
       "      <td>51.881910</td>\n",
       "      <td>11</td>\n",
       "      <td>240813.0</td>\n",
       "      <td>240813.0</td>\n",
       "      <td>1.0</td>\n",
       "      <td>3.018039e+06</td>\n",
       "      <td>240813.0</td>\n",
       "      <td>12.532709</td>\n",
       "      <td>True</td>\n",
       "      <td>True</td>\n",
       "      <td>Gorgas</td>\n",
       "      <td>Alabama Power Co</td>\n",
       "      <td>AL</td>\n",
       "      <td>125.0</td>\n",
       "      <td>103.0</td>\n",
       "      <td>103.0</td>\n",
       "      <td>Coal</td>\n",
       "      <td>0.219921</td>\n",
       "      <td>5.069400e+07</td>\n",
       "      <td>227</td>\n",
       "      <td>2.0</td>\n",
       "      <td>8.0</td>\n",
       "      <td>2.132583e+08</td>\n",
       "      <td>4936430.0</td>\n",
       "    </tr>\n",
       "    <tr>\n",
       "      <th>2</th>\n",
       "      <td>8</td>\n",
       "      <td>2011</td>\n",
       "      <td>7</td>\n",
       "      <td>Coal</td>\n",
       "      <td>5.151514e+07</td>\n",
       "      <td>2.132583e+08</td>\n",
       "      <td>4.13972</td>\n",
       "      <td>47.555815</td>\n",
       "      <td>12</td>\n",
       "      <td>273543.0</td>\n",
       "      <td>273543.0</td>\n",
       "      <td>1.0</td>\n",
       "      <td>3.142376e+06</td>\n",
       "      <td>273543.0</td>\n",
       "      <td>11.487687</td>\n",
       "      <td>True</td>\n",
       "      <td>True</td>\n",
       "      <td>Gorgas</td>\n",
       "      <td>Alabama Power Co</td>\n",
       "      <td>AL</td>\n",
       "      <td>125.0</td>\n",
       "      <td>104.0</td>\n",
       "      <td>104.0</td>\n",
       "      <td>Coal</td>\n",
       "      <td>0.249811</td>\n",
       "      <td>5.069400e+07</td>\n",
       "      <td>227</td>\n",
       "      <td>2.0</td>\n",
       "      <td>8.0</td>\n",
       "      <td>2.132583e+08</td>\n",
       "      <td>4936430.0</td>\n",
       "    </tr>\n",
       "    <tr>\n",
       "      <th>3</th>\n",
       "      <td>8</td>\n",
       "      <td>2011</td>\n",
       "      <td>8</td>\n",
       "      <td>Coal</td>\n",
       "      <td>5.151514e+07</td>\n",
       "      <td>2.132583e+08</td>\n",
       "      <td>4.13972</td>\n",
       "      <td>45.240677</td>\n",
       "      <td>13</td>\n",
       "      <td>516932.0</td>\n",
       "      <td>516932.0</td>\n",
       "      <td>1.0</td>\n",
       "      <td>5.649259e+06</td>\n",
       "      <td>516932.0</td>\n",
       "      <td>10.928438</td>\n",
       "      <td>True</td>\n",
       "      <td>True</td>\n",
       "      <td>Gorgas</td>\n",
       "      <td>Alabama Power Co</td>\n",
       "      <td>AL</td>\n",
       "      <td>187.5</td>\n",
       "      <td>161.0</td>\n",
       "      <td>161.0</td>\n",
       "      <td>Coal</td>\n",
       "      <td>0.314723</td>\n",
       "      <td>5.069400e+07</td>\n",
       "      <td>227</td>\n",
       "      <td>2.0</td>\n",
       "      <td>8.0</td>\n",
       "      <td>2.132583e+08</td>\n",
       "      <td>4936430.0</td>\n",
       "    </tr>\n",
       "    <tr>\n",
       "      <th>4</th>\n",
       "      <td>8</td>\n",
       "      <td>2011</td>\n",
       "      <td>9</td>\n",
       "      <td>Coal</td>\n",
       "      <td>5.151514e+07</td>\n",
       "      <td>2.132583e+08</td>\n",
       "      <td>4.13972</td>\n",
       "      <td>45.146258</td>\n",
       "      <td>14</td>\n",
       "      <td>556386.0</td>\n",
       "      <td>556386.0</td>\n",
       "      <td>1.0</td>\n",
       "      <td>6.067740e+06</td>\n",
       "      <td>556386.0</td>\n",
       "      <td>10.905630</td>\n",
       "      <td>True</td>\n",
       "      <td>True</td>\n",
       "      <td>Gorgas</td>\n",
       "      <td>Alabama Power Co</td>\n",
       "      <td>AL</td>\n",
       "      <td>190.4</td>\n",
       "      <td>170.0</td>\n",
       "      <td>170.0</td>\n",
       "      <td>Coal</td>\n",
       "      <td>0.333584</td>\n",
       "      <td>5.069400e+07</td>\n",
       "      <td>227</td>\n",
       "      <td>2.0</td>\n",
       "      <td>8.0</td>\n",
       "      <td>2.132583e+08</td>\n",
       "      <td>4936430.0</td>\n",
       "    </tr>\n",
       "  </tbody>\n",
       "</table>\n",
       "</div>"
      ],
      "text/plain": [
       "   plant_id_eia  report_date generator_id energy_source         mmbtu  \\\n",
       "0             8         2011           10          Coal  5.151514e+07   \n",
       "1             8         2011            6          Coal  5.151514e+07   \n",
       "2             8         2011            7          Coal  5.151514e+07   \n",
       "3             8         2011            8          Coal  5.151514e+07   \n",
       "4             8         2011            9          Coal  5.151514e+07   \n",
       "\n",
       "      fuel_cost  fuel_cost_per_mmbtu_average  fuel_cost_per_mwh  index_x  \\\n",
       "0  2.132583e+08                      4.13972          40.567746       10   \n",
       "1  2.132583e+08                      4.13972          51.881910       11   \n",
       "2  2.132583e+08                      4.13972          47.555815       12   \n",
       "3  2.132583e+08                      4.13972          45.240677       13   \n",
       "4  2.132583e+08                      4.13972          45.146258       14   \n",
       "\n",
       "   net_generation_mwh_boiler_gen  net_generation_mwh_boiler  \\\n",
       "0                      3348756.0                  3348756.0   \n",
       "1                       240813.0                   240813.0   \n",
       "2                       273543.0                   273543.0   \n",
       "3                       516932.0                   516932.0   \n",
       "4                       556386.0                   556386.0   \n",
       "\n",
       "   proportion_of_gen_by_boil_gen  fuel_consumed_mmbtu_per_gen  \\\n",
       "0                            1.0                 3.281658e+07   \n",
       "1                            1.0                 3.018039e+06   \n",
       "2                            1.0                 3.142376e+06   \n",
       "3                            1.0                 5.649259e+06   \n",
       "4                            1.0                 6.067740e+06   \n",
       "\n",
       "   net_generation_mwh  heat_rate_mmbtu_mwh  complete_assn  plant_assn  \\\n",
       "0           3348756.0             9.799634           True        True   \n",
       "1            240813.0            12.532709           True        True   \n",
       "2            273543.0            11.487687           True        True   \n",
       "3            516932.0            10.928438           True        True   \n",
       "4            556386.0            10.905630           True        True   \n",
       "\n",
       "  plant_name     operator_name state  nameplate_capacity_mw  \\\n",
       "0     Gorgas  Alabama Power Co    AL                  788.8   \n",
       "1     Gorgas  Alabama Power Co    AL                  125.0   \n",
       "2     Gorgas  Alabama Power Co    AL                  125.0   \n",
       "3     Gorgas  Alabama Power Co    AL                  187.5   \n",
       "4     Gorgas  Alabama Power Co    AL                  190.4   \n",
       "\n",
       "   summer_capacity_mw  winter_capacity_mw energy_source_y  capacity_factor  \\\n",
       "0               703.0               703.0            Coal         0.484632   \n",
       "1               103.0               103.0            Coal         0.219921   \n",
       "2               104.0               104.0            Coal         0.249811   \n",
       "3               161.0               161.0            Coal         0.314723   \n",
       "4               170.0               170.0            Coal         0.333584   \n",
       "\n",
       "   fuel_consumed_mmbtu  plant_id_pudl  index_y  plant_id  \\\n",
       "0         5.069400e+07            227      2.0       8.0   \n",
       "1         5.069400e+07            227      2.0       8.0   \n",
       "2         5.069400e+07            227      2.0       8.0   \n",
       "3         5.069400e+07            227      2.0       8.0   \n",
       "4         5.069400e+07            227      2.0       8.0   \n",
       "\n",
       "   fuel_cost_annual_eia  net_generation_mwh_plant_eia  \n",
       "0          2.132583e+08                     4936430.0  \n",
       "1          2.132583e+08                     4936430.0  \n",
       "2          2.132583e+08                     4936430.0  \n",
       "3          2.132583e+08                     4936430.0  \n",
       "4          2.132583e+08                     4936430.0  "
      ]
     },
     "execution_count": 48,
     "metadata": {},
     "output_type": "execute_result"
    }
   ],
   "source": [
    "mcoe_by_generator3.head()"
   ]
  },
  {
   "cell_type": "markdown",
   "metadata": {},
   "source": [
    "## Export the data frame"
   ]
  },
  {
   "cell_type": "code",
   "execution_count": 49,
   "metadata": {},
   "outputs": [],
   "source": [
    "# rearrange columns\n",
    "mcoe_by_generator = mcoe_by_generator3[[\n",
    "    'plant_id_eia', \n",
    "    'plant_id_pudl',\n",
    "    'plant_name',\n",
    "    'operator_name', \n",
    "    'state', \n",
    "    'report_date', \n",
    "    'generator_id', \n",
    "    'energy_source',\n",
    "    'mmbtu',\n",
    "    'fuel_cost',\n",
    "    'fuel_cost_per_mmbtu_average',\n",
    "    'fuel_consumed_mmbtu',\n",
    "    'net_generation_mwh_boiler_gen',\n",
    "    'net_generation_mwh_boiler',\n",
    "    'proportion_of_gen_by_boil_gen',\n",
    "    'fuel_consumed_mmbtu_per_gen',\n",
    "    'fuel_cost_annual_eia',\n",
    "    'heat_rate_mmbtu_mwh', \n",
    "    'plant_assn', \n",
    "    'net_generation_mwh', \n",
    "    'net_generation_mwh_plant_eia',\n",
    "    'fuel_cost_per_mwh',\n",
    "    'nameplate_capacity_mw', \n",
    "    'summer_capacity_mw',\n",
    "    'winter_capacity_mw', \n",
    "    'capacity_factor']]"
   ]
  },
  {
   "cell_type": "markdown",
   "metadata": {},
   "source": [
    "# Pull in FERC data & identify plants with simple"
   ]
  },
  {
   "cell_type": "code",
   "execution_count": 50,
   "metadata": {
    "collapsed": true
   },
   "outputs": [],
   "source": [
    "simple_ferc = analysis.simple_ferc1_plant_ids(pudl_engine)"
   ]
  },
  {
   "cell_type": "code",
   "execution_count": 51,
   "metadata": {
    "collapsed": true
   },
   "outputs": [],
   "source": [
    "# convert simple ferc list into a pandas series for import to analysis.ferc_expenses() function\n",
    "simple_ferc = simple_ferc.iloc[:,0]"
   ]
  },
  {
   "cell_type": "code",
   "execution_count": 52,
   "metadata": {
    "scrolled": false
   },
   "outputs": [
    {
     "data": {
      "text/plain": [
       "pandas.core.series.Series"
      ]
     },
     "execution_count": 52,
     "metadata": {},
     "output_type": "execute_result"
    }
   ],
   "source": [
    "pd.options.display.max_rows = 999\n",
    "type(simple_ferc)"
   ]
  },
  {
   "cell_type": "code",
   "execution_count": 53,
   "metadata": {
    "collapsed": true
   },
   "outputs": [],
   "source": [
    "fp = analysis.get_steam_ferc1_df(pudl_engine)"
   ]
  },
  {
   "cell_type": "code",
   "execution_count": 54,
   "metadata": {
    "collapsed": true
   },
   "outputs": [],
   "source": [
    "# ferc_expenses returns:\n",
    "# ferc1_expns_corr: A dictionary of expense categories\n",
    "#             and their correlations to the plant's net electricity generation.\n",
    "# steam_df: a dataframe with all the operating expenses broken out for each simple FERC PUDL plant."
   ]
  },
  {
   "cell_type": "code",
   "execution_count": 55,
   "metadata": {
    "collapsed": true
   },
   "outputs": [],
   "source": [
    "ferc_expenses = analysis.ferc_expenses(pudl_engine, simple_ferc)\n",
    "ferc_expenses_df = ferc_expenses[1]"
   ]
  },
  {
   "cell_type": "code",
   "execution_count": 56,
   "metadata": {
    "scrolled": false
   },
   "outputs": [
    {
     "data": {
      "text/html": [
       "<div>\n",
       "<style>\n",
       "    .dataframe thead tr:only-child th {\n",
       "        text-align: right;\n",
       "    }\n",
       "\n",
       "    .dataframe thead th {\n",
       "        text-align: left;\n",
       "    }\n",
       "\n",
       "    .dataframe tbody tr th {\n",
       "        vertical-align: top;\n",
       "    }\n",
       "</style>\n",
       "<table border=\"1\" class=\"dataframe\">\n",
       "  <thead>\n",
       "    <tr style=\"text-align: right;\">\n",
       "      <th></th>\n",
       "      <th>report_year</th>\n",
       "      <th>respondent_id</th>\n",
       "      <th>util_id_pudl</th>\n",
       "      <th>respondent_name</th>\n",
       "      <th>plant_id_pudl</th>\n",
       "      <th>plant_name</th>\n",
       "      <th>total_capacity_mw</th>\n",
       "      <th>year_constructed</th>\n",
       "      <th>year_installed</th>\n",
       "      <th>peak_demand_mw</th>\n",
       "      <th>water_limited_mw</th>\n",
       "      <th>not_water_limited_mw</th>\n",
       "      <th>plant_hours</th>\n",
       "      <th>net_generation_mwh</th>\n",
       "      <th>expns_operations</th>\n",
       "      <th>expns_fuel</th>\n",
       "      <th>expns_coolants</th>\n",
       "      <th>expns_steam</th>\n",
       "      <th>expns_steam_other</th>\n",
       "      <th>expns_transfer</th>\n",
       "      <th>expns_electric</th>\n",
       "      <th>expns_misc_power</th>\n",
       "      <th>expns_rents</th>\n",
       "      <th>expns_allowances</th>\n",
       "      <th>expns_engineering</th>\n",
       "      <th>expns_structures</th>\n",
       "      <th>expns_boiler</th>\n",
       "      <th>expns_plants</th>\n",
       "      <th>expns_misc_steam</th>\n",
       "      <th>expns_production_total</th>\n",
       "      <th>expns_per_mwh</th>\n",
       "      <th>expns_total_nonfuel_production</th>\n",
       "      <th>expns_total_nonproduction</th>\n",
       "    </tr>\n",
       "  </thead>\n",
       "  <tbody>\n",
       "    <tr>\n",
       "      <th>4</th>\n",
       "      <td>2004</td>\n",
       "      <td>2</td>\n",
       "      <td>18</td>\n",
       "      <td>ALABAMA POWER COMPANY</td>\n",
       "      <td>227</td>\n",
       "      <td>Gorgas</td>\n",
       "      <td>1416.70</td>\n",
       "      <td>1929.0</td>\n",
       "      <td>1972.0</td>\n",
       "      <td>1233.0</td>\n",
       "      <td>0.0</td>\n",
       "      <td>1227.0</td>\n",
       "      <td>8784.0</td>\n",
       "      <td>7902681.0</td>\n",
       "      <td>4983970.0</td>\n",
       "      <td>138135187.0</td>\n",
       "      <td>0.0</td>\n",
       "      <td>2761582.0</td>\n",
       "      <td>0.0</td>\n",
       "      <td>0.0</td>\n",
       "      <td>1652067.0</td>\n",
       "      <td>9085207.0</td>\n",
       "      <td>0.0</td>\n",
       "      <td>4642951.0</td>\n",
       "      <td>2487427.0</td>\n",
       "      <td>3081447.0</td>\n",
       "      <td>16596930.0</td>\n",
       "      <td>3410896.0</td>\n",
       "      <td>588617.0</td>\n",
       "      <td>187426281.0</td>\n",
       "      <td>23.7</td>\n",
       "      <td>37423489.0</td>\n",
       "      <td>11867605.0</td>\n",
       "    </tr>\n",
       "    <tr>\n",
       "      <th>5</th>\n",
       "      <td>2004</td>\n",
       "      <td>2</td>\n",
       "      <td>18</td>\n",
       "      <td>ALABAMA POWER COMPANY</td>\n",
       "      <td>204</td>\n",
       "      <td>Gadsden</td>\n",
       "      <td>138.00</td>\n",
       "      <td>1949.0</td>\n",
       "      <td>1949.0</td>\n",
       "      <td>744.0</td>\n",
       "      <td>0.0</td>\n",
       "      <td>130.0</td>\n",
       "      <td>8692.0</td>\n",
       "      <td>506590.0</td>\n",
       "      <td>729463.0</td>\n",
       "      <td>13491128.0</td>\n",
       "      <td>0.0</td>\n",
       "      <td>885481.0</td>\n",
       "      <td>0.0</td>\n",
       "      <td>0.0</td>\n",
       "      <td>555542.0</td>\n",
       "      <td>1411726.0</td>\n",
       "      <td>9370.0</td>\n",
       "      <td>516904.0</td>\n",
       "      <td>367710.0</td>\n",
       "      <td>426909.0</td>\n",
       "      <td>1811727.0</td>\n",
       "      <td>400661.0</td>\n",
       "      <td>145879.0</td>\n",
       "      <td>20752500.0</td>\n",
       "      <td>41.0</td>\n",
       "      <td>5304214.0</td>\n",
       "      <td>1957158.0</td>\n",
       "    </tr>\n",
       "    <tr>\n",
       "      <th>8</th>\n",
       "      <td>2004</td>\n",
       "      <td>2</td>\n",
       "      <td>18</td>\n",
       "      <td>ALABAMA POWER COMPANY</td>\n",
       "      <td>293</td>\n",
       "      <td>Joseph M. Farley</td>\n",
       "      <td>1776.50</td>\n",
       "      <td>1977.0</td>\n",
       "      <td>1981.0</td>\n",
       "      <td>1488.0</td>\n",
       "      <td>0.0</td>\n",
       "      <td>1669.0</td>\n",
       "      <td>7789.0</td>\n",
       "      <td>13147985.0</td>\n",
       "      <td>51974819.0</td>\n",
       "      <td>60809385.0</td>\n",
       "      <td>680728.0</td>\n",
       "      <td>13526928.0</td>\n",
       "      <td>0.0</td>\n",
       "      <td>0.0</td>\n",
       "      <td>938119.0</td>\n",
       "      <td>22897542.0</td>\n",
       "      <td>871581.0</td>\n",
       "      <td>0.0</td>\n",
       "      <td>6927010.0</td>\n",
       "      <td>2502635.0</td>\n",
       "      <td>33326524.0</td>\n",
       "      <td>5633532.0</td>\n",
       "      <td>5408993.0</td>\n",
       "      <td>205497796.0</td>\n",
       "      <td>15.6</td>\n",
       "      <td>84814171.0</td>\n",
       "      <td>59874240.0</td>\n",
       "    </tr>\n",
       "    <tr>\n",
       "      <th>16</th>\n",
       "      <td>2004</td>\n",
       "      <td>2</td>\n",
       "      <td>18</td>\n",
       "      <td>ALABAMA POWER COMPANY</td>\n",
       "      <td>617</td>\n",
       "      <td>Washington County</td>\n",
       "      <td>122.58</td>\n",
       "      <td>1999.0</td>\n",
       "      <td>1999.0</td>\n",
       "      <td>122.0</td>\n",
       "      <td>0.0</td>\n",
       "      <td>123.0</td>\n",
       "      <td>744.0</td>\n",
       "      <td>713978.0</td>\n",
       "      <td>299747.0</td>\n",
       "      <td>49371051.0</td>\n",
       "      <td>0.0</td>\n",
       "      <td>663982.0</td>\n",
       "      <td>0.0</td>\n",
       "      <td>0.0</td>\n",
       "      <td>0.0</td>\n",
       "      <td>860112.0</td>\n",
       "      <td>0.0</td>\n",
       "      <td>0.0</td>\n",
       "      <td>262236.0</td>\n",
       "      <td>61030.0</td>\n",
       "      <td>0.0</td>\n",
       "      <td>2750855.0</td>\n",
       "      <td>62190.0</td>\n",
       "      <td>54331203.0</td>\n",
       "      <td>76.1</td>\n",
       "      <td>4598215.0</td>\n",
       "      <td>361937.0</td>\n",
       "    </tr>\n",
       "    <tr>\n",
       "      <th>18</th>\n",
       "      <td>2004</td>\n",
       "      <td>2</td>\n",
       "      <td>18</td>\n",
       "      <td>ALABAMA POWER COMPANY</td>\n",
       "      <td>580</td>\n",
       "      <td>Theodore</td>\n",
       "      <td>273.87</td>\n",
       "      <td>2000.0</td>\n",
       "      <td>2000.0</td>\n",
       "      <td>232.0</td>\n",
       "      <td>0.0</td>\n",
       "      <td>274.0</td>\n",
       "      <td>0.0</td>\n",
       "      <td>1290634.0</td>\n",
       "      <td>524021.0</td>\n",
       "      <td>69968406.0</td>\n",
       "      <td>0.0</td>\n",
       "      <td>730404.0</td>\n",
       "      <td>0.0</td>\n",
       "      <td>0.0</td>\n",
       "      <td>0.0</td>\n",
       "      <td>340009.0</td>\n",
       "      <td>0.0</td>\n",
       "      <td>0.0</td>\n",
       "      <td>168965.0</td>\n",
       "      <td>312938.0</td>\n",
       "      <td>0.0</td>\n",
       "      <td>1012093.0</td>\n",
       "      <td>48431.0</td>\n",
       "      <td>73105267.0</td>\n",
       "      <td>56.6</td>\n",
       "      <td>2564409.0</td>\n",
       "      <td>572452.0</td>\n",
       "    </tr>\n",
       "  </tbody>\n",
       "</table>\n",
       "</div>"
      ],
      "text/plain": [
       "    report_year  respondent_id  util_id_pudl        respondent_name  \\\n",
       "4          2004              2            18  ALABAMA POWER COMPANY   \n",
       "5          2004              2            18  ALABAMA POWER COMPANY   \n",
       "8          2004              2            18  ALABAMA POWER COMPANY   \n",
       "16         2004              2            18  ALABAMA POWER COMPANY   \n",
       "18         2004              2            18  ALABAMA POWER COMPANY   \n",
       "\n",
       "    plant_id_pudl         plant_name  total_capacity_mw  year_constructed  \\\n",
       "4             227             Gorgas            1416.70            1929.0   \n",
       "5             204            Gadsden             138.00            1949.0   \n",
       "8             293   Joseph M. Farley            1776.50            1977.0   \n",
       "16            617  Washington County             122.58            1999.0   \n",
       "18            580           Theodore             273.87            2000.0   \n",
       "\n",
       "    year_installed  peak_demand_mw  water_limited_mw  not_water_limited_mw  \\\n",
       "4           1972.0          1233.0               0.0                1227.0   \n",
       "5           1949.0           744.0               0.0                 130.0   \n",
       "8           1981.0          1488.0               0.0                1669.0   \n",
       "16          1999.0           122.0               0.0                 123.0   \n",
       "18          2000.0           232.0               0.0                 274.0   \n",
       "\n",
       "    plant_hours  net_generation_mwh  expns_operations   expns_fuel  \\\n",
       "4        8784.0           7902681.0         4983970.0  138135187.0   \n",
       "5        8692.0            506590.0          729463.0   13491128.0   \n",
       "8        7789.0          13147985.0        51974819.0   60809385.0   \n",
       "16        744.0            713978.0          299747.0   49371051.0   \n",
       "18          0.0           1290634.0          524021.0   69968406.0   \n",
       "\n",
       "    expns_coolants  expns_steam  expns_steam_other  expns_transfer  \\\n",
       "4              0.0    2761582.0                0.0             0.0   \n",
       "5              0.0     885481.0                0.0             0.0   \n",
       "8         680728.0   13526928.0                0.0             0.0   \n",
       "16             0.0     663982.0                0.0             0.0   \n",
       "18             0.0     730404.0                0.0             0.0   \n",
       "\n",
       "    expns_electric  expns_misc_power  expns_rents  expns_allowances  \\\n",
       "4        1652067.0         9085207.0          0.0         4642951.0   \n",
       "5         555542.0         1411726.0       9370.0          516904.0   \n",
       "8         938119.0        22897542.0     871581.0               0.0   \n",
       "16             0.0          860112.0          0.0               0.0   \n",
       "18             0.0          340009.0          0.0               0.0   \n",
       "\n",
       "    expns_engineering  expns_structures  expns_boiler  expns_plants  \\\n",
       "4           2487427.0         3081447.0    16596930.0     3410896.0   \n",
       "5            367710.0          426909.0     1811727.0      400661.0   \n",
       "8           6927010.0         2502635.0    33326524.0     5633532.0   \n",
       "16           262236.0           61030.0           0.0     2750855.0   \n",
       "18           168965.0          312938.0           0.0     1012093.0   \n",
       "\n",
       "    expns_misc_steam  expns_production_total  expns_per_mwh  \\\n",
       "4           588617.0             187426281.0           23.7   \n",
       "5           145879.0              20752500.0           41.0   \n",
       "8          5408993.0             205497796.0           15.6   \n",
       "16           62190.0              54331203.0           76.1   \n",
       "18           48431.0              73105267.0           56.6   \n",
       "\n",
       "    expns_total_nonfuel_production  expns_total_nonproduction  \n",
       "4                       37423489.0                 11867605.0  \n",
       "5                        5304214.0                  1957158.0  \n",
       "8                       84814171.0                 59874240.0  \n",
       "16                       4598215.0                   361937.0  \n",
       "18                       2564409.0                   572452.0  "
      ]
     },
     "execution_count": 56,
     "metadata": {},
     "output_type": "execute_result"
    }
   ],
   "source": [
    "ferc_expenses_df.head()"
   ]
  },
  {
   "cell_type": "code",
   "execution_count": 57,
   "metadata": {
    "collapsed": true
   },
   "outputs": [],
   "source": [
    "# create a correlation table to export\n",
    "corr = pd.DataFrame.from_dict(ferc_expenses[0], orient='index')\n",
    "corr.index.names = ['expense_variable']\n",
    "corr = corr.reset_index()\n",
    "corr = corr.rename(columns={0: 'correlation_with_net_generation_mwh_plant'})"
   ]
  },
  {
   "cell_type": "code",
   "execution_count": 58,
   "metadata": {
    "collapsed": true
   },
   "outputs": [],
   "source": [
    "# create a ferc_expenses data frame to merge with EIA data\n",
    "ferc_expenses_df = ferc_expenses[1]"
   ]
  },
  {
   "cell_type": "code",
   "execution_count": 59,
   "metadata": {
    "collapsed": true
   },
   "outputs": [],
   "source": [
    "ferc_expenses_df.rename(columns={'net_generation_mwh': 'net_generation_mwh_plant',\n",
    "                                 'plant_name': 'plant_name_ferc',\n",
    "                                 'respondent_id': 'respondent_id_ferc',\n",
    "                                 'respondent_name': 'respondent_name_ferc',\n",
    "                                 'total_capacity_mw': 'total_capacity_mw_plant'}, inplace=True)"
   ]
  },
  {
   "cell_type": "code",
   "execution_count": 60,
   "metadata": {
    "collapsed": true
   },
   "outputs": [],
   "source": [
    "mcoe_by_generator.rename(columns={'net_generation_mwh': 'net_generation_mwh_generator',\n",
    "                                  'plant_name': 'plant_name_eia',\n",
    "                                  'operator_name': 'operator_name_eia',\n",
    "                                  'nameplate_capacity_mw': 'nameplate_capacity_mw_generator',\n",
    "                                  'summer_capacity_mw': 'summer_capacity_mw_generator',\n",
    "                                  'winter_capacity_mw': 'winter_capacity_mw_generator'}, inplace=True)"
   ]
  },
  {
   "cell_type": "code",
   "execution_count": 61,
   "metadata": {
    "collapsed": true
   },
   "outputs": [],
   "source": [
    "# Left merge keeps all rows of mcoe_by_generator and duplicates values of ferc_expenses_df \n",
    "# for each combination of plant_id_pudl and report_date\n",
    "merged = mcoe_by_generator.merge(ferc_expenses_df, how=\"left\", left_on=['plant_id_pudl', 'report_date'], right_on=['plant_id_pudl', 'report_year'])"
   ]
  },
  {
   "cell_type": "code",
   "execution_count": 62,
   "metadata": {
    "collapsed": true
   },
   "outputs": [],
   "source": [
    "# remove the non-simple plants by dropping rows where plant_name_ferc = NA\n",
    "merged = merged.dropna(subset=['plant_name_ferc'])"
   ]
  },
  {
   "cell_type": "code",
   "execution_count": 63,
   "metadata": {
    "collapsed": true
   },
   "outputs": [],
   "source": [
    "# rearrange columns\n",
    "merged = merged[[\n",
    "    'plant_id_pudl', 'plant_id_eia', 'plant_name_eia',\n",
    "    'operator_name_eia', 'state', 'report_date', \n",
    "    'generator_id', \n",
    "    'energy_source', 'mmbtu',\n",
    "    'fuel_cost',\n",
    "    'fuel_cost_per_mmbtu_average',\n",
    "    'fuel_consumed_mmbtu', \n",
    "    'net_generation_mwh_boiler_gen',\n",
    "    'net_generation_mwh_boiler',\n",
    "    'proportion_of_gen_by_boil_gen',\n",
    "    'fuel_consumed_mmbtu_per_gen', 'fuel_cost_annual_eia',\n",
    "    'heat_rate_mmbtu_mwh', 'plant_assn', \n",
    "    'net_generation_mwh_generator', 'net_generation_mwh_plant_eia',\n",
    "    'fuel_cost_per_mwh', 'nameplate_capacity_mw_generator', \n",
    "    'summer_capacity_mw_generator', 'winter_capacity_mw_generator', 'capacity_factor',\n",
    "    'report_year', 'respondent_id_ferc', 'util_id_pudl', \n",
    "    'respondent_name_ferc', 'plant_name_ferc',\n",
    "    'total_capacity_mw_plant', 'year_constructed', 'year_installed',\n",
    "    'peak_demand_mw', 'water_limited_mw', 'not_water_limited_mw',\n",
    "    'plant_hours', 'net_generation_mwh_plant', 'expns_operations',\n",
    "    'expns_fuel', 'expns_coolants', 'expns_steam', 'expns_steam_other',\n",
    "    'expns_transfer', 'expns_electric', 'expns_misc_power', 'expns_rents',\n",
    "    'expns_allowances', 'expns_engineering', 'expns_structures',\n",
    "    'expns_boiler', 'expns_plants', 'expns_misc_steam',\n",
    "    'expns_production_total', 'expns_per_mwh',\n",
    "    'expns_total_nonfuel_production', 'expns_total_nonproduction']]"
   ]
  },
  {
   "cell_type": "code",
   "execution_count": 72,
   "metadata": {},
   "outputs": [
    {
     "data": {
      "text/plain": [
       "82"
      ]
     },
     "execution_count": 72,
     "metadata": {},
     "output_type": "execute_result"
    }
   ],
   "source": [
    "# number of plants in this data set\n",
    "len(merged.plant_id_pudl.unique())"
   ]
  },
  {
   "cell_type": "code",
   "execution_count": 66,
   "metadata": {},
   "outputs": [],
   "source": [
    "mcoe_annotations = pd.read_csv('mcoe_field_annotations_detailed.csv')\n",
    "mcoe_notes = pd.read_csv('mcoe_notes.csv')"
   ]
  },
  {
   "cell_type": "code",
   "execution_count": 67,
   "metadata": {
    "collapsed": true
   },
   "outputs": [],
   "source": [
    "# to export all the data\n",
    "xlsx_writer = pd.ExcelWriter('coal_plants_detailed_MCOE_by_generator_2011-2016.xlsx')\n",
    "merged.to_excel(xlsx_writer, sheet_name='MCOE by Generator', index=False, na_rep='NA')\n",
    "corr.to_excel(xlsx_writer, sheet_name='Expense Correlations', index=False, na_rep='NA')\n",
    "mcoe_annotations.to_excel(xlsx_writer, sheet_name='MCOE Annotations', index=False)\n",
    "mcoe_notes.to_excel(xlsx_writer, sheet_name='MCOE Notes', index=False)\n",
    "\n",
    "xlsx_writer.save()"
   ]
  },
  {
   "cell_type": "code",
   "execution_count": 70,
   "metadata": {},
   "outputs": [],
   "source": [
    "# to export all the data\n",
    "# xlsx_writer = pd.ExcelWriter('test_primary_fuel_cost_attribution.xlsx')\n",
    "# xlsx_writer = pd.ExcelWriter('test_plant_category_cost_attribution.xlsx')\n",
    "# xlsx_writer = pd.ExcelWriter('coal_plants_NSPC&MPI_detailed_MCOE_by_generator_2011-2016.xlsx')\n",
    "\n",
    "# test.to_excel(xlsx_writer, sheet_name='MCOE by Generator', index=False, na_rep='NA')\n",
    "# corr.to_excel(xlsx_writer, sheet_name='Expense Correlations', index=False, na_rep='NA')\n",
    "# mcoe_annotations.to_excel(xlsx_writer, sheet_name='MCOE Annotations', index=False)\n",
    "# mcoe_notes.to_excel(xlsx_writer, sheet_name='MCOE Notes', index=False)\n",
    "\n",
    "# xlsx_writer.save()"
   ]
  },
  {
   "cell_type": "code",
   "execution_count": null,
   "metadata": {},
   "outputs": [],
   "source": [
    "merged.head(3)"
   ]
  },
  {
   "cell_type": "code",
   "execution_count": 69,
   "metadata": {
    "collapsed": true
   },
   "outputs": [],
   "source": [
    "merged2 = merged.dropna(subset=['net_generation_mwh_plant_eia', 'net_generation_mwh_plant'])"
   ]
  },
  {
   "cell_type": "code",
   "execution_count": null,
   "metadata": {
    "scrolled": false
   },
   "outputs": [],
   "source": [
    "fuels = ['gas','oil','coal']\n",
    "fig, (ax) = plt.subplots(ncols=1, nrows=1)\n",
    "fig.set_figwidth(10)\n",
    "fig.set_figheight(10)\n",
    "fig.set_dpi(150)\n",
    "ax.loglog()\n",
    "plt.grid(b=True)\n",
    "R2 = np.corrcoef(merged2.net_generation_mwh_plant_eia, merged2.net_generation_mwh_plant)[0,1]**2\n",
    "ax.scatter(merged2.net_generation_mwh_plant_eia, merged2.net_generation_mwh_plant, s=10, color='blue')\n",
    "ax.legend(loc='upper left')\n",
    "plt.title(\"Annual net generation by plant, EIA 923 vs. FERC Form 1 ($r^2$={:.2f})\".format(R2))\n",
    "plt.xlabel(\"Net generation by PUDL plant from EIA923 (MWh)\")\n",
    "plt.ylabel(\"Net generation by PUDL plant from FERC1 (MWh)\")\n",
    "plt.show();"
   ]
  },
  {
   "cell_type": "code",
   "execution_count": null,
   "metadata": {
    "collapsed": true
   },
   "outputs": [],
   "source": [
    "merged3 = merged.dropna(subset=['fuel_cost_annual_eia', 'expns_fuel'])"
   ]
  },
  {
   "cell_type": "code",
   "execution_count": null,
   "metadata": {},
   "outputs": [],
   "source": [
    "fuels = ['gas','oil','coal']\n",
    "fig, (ax) = plt.subplots(ncols=1, nrows=1)\n",
    "fig.set_figwidth(10)\n",
    "fig.set_figheight(10)\n",
    "fig.set_dpi(150)\n",
    "ax.loglog()\n",
    "plt.grid(b=True)\n",
    "R2 = np.corrcoef(merged3.fuel_cost_annual_eia, merged3.expns_fuel)[0,1]**2\n",
    "ax.scatter(merged3.fuel_cost_annual_eia, merged3.expns_fuel, s=10, color='green')\n",
    "ax.legend(loc='upper left')\n",
    "plt.title(\"Fuel cost per year, EIA 923 vs. FERC Form 1, ($r^2$={:.2f})\".format(R2))\n",
    "plt.xlabel(\"Fuel cost per year, by PUDL plant from EIA923 ($)\")\n",
    "plt.ylabel(\"Fuel cost per year, by PUDL plant from FERC1 ($)\")\n",
    "plt.show();"
   ]
  },
  {
   "cell_type": "code",
   "execution_count": null,
   "metadata": {},
   "outputs": [],
   "source": [
    "plt.hist(merged.net_generation_mwh_plant_eia, range=(0,500000), bins=100, alpha=0.5, color='green', label=\"EIA\")\n",
    "plt.hist(merged.net_generation_mwh_plant, range=(0,500000), bins=100, alpha=0.5, color='blue', label='FERC')\n",
    "plt.xlabel(\"Total net generation per plant (MWh)\")\n",
    "plt.ylabel(\"Number of records\")\n",
    "plt.title(\"Net generation (MWh)\")\n",
    "plt.legend()"
   ]
  },
  {
   "cell_type": "code",
   "execution_count": null,
   "metadata": {},
   "outputs": [],
   "source": [
    "#quick look at spread in fuel_cost_per_mwh for these plants\n",
    "plt.hist(merged.fuel_cost_per_mwh, range=(0,200), bins=200, alpha=0.5, color='green')\n",
    "ferc_fuel_cost_per_mwh = merged.expns_fuel / merged.net_generation_mwh_plant\n",
    "plt.hist(ferc_fuel_cost_per_mwh, range=(0,200), bins=200, alpha=0.5, color='blue')\n",
    "plt.xlabel(\"Fuel Cost ($/mwh)\")\n",
    "plt.ylabel(\"Number of records\")\n",
    "plt.title(\"Cost of fuel\")\n"
   ]
  },
  {
   "cell_type": "markdown",
   "metadata": {},
   "source": [
    "## A few plots"
   ]
  },
  {
   "cell_type": "code",
   "execution_count": null,
   "metadata": {},
   "outputs": [],
   "source": [
    "# Take a look at heat rates from EIA\n",
    "plt.hist(heat_rate.heat_rate_mmbtu_mwh, range=[0,50],bins=100,weights=heat_rate.net_generation_mwh, alpha=0.5)\n",
    "#heat_rate['heat_rate_mmbtu_mwh'].plot(kind='hist', bins=100, range=[-20,70])\n",
    "plt.xlabel('Generator heat rate (MMBtu/MWh)')\n",
    "plt.ylabel(\"Generator records (weighted by net generation)\")\n",
    "plt.title(\"Heat rates\")\n",
    "plt.show()"
   ]
  },
  {
   "cell_type": "code",
   "execution_count": null,
   "metadata": {},
   "outputs": [],
   "source": [
    "#quick look at spread in fuel_cost_per_mmbtu\n",
    "plt.hist(mcoe_by_generator.fuel_cost_per_mmbtu_average, range=(-5,50), bins=200, alpha=0.5, color='green')\n",
    "plt.xlabel(\"Fuel Cost ($/mmBTU)\")\n",
    "plt.ylabel(\"Number of generator records\")\n",
    "plt.title(\"Cost of fuel\")\n",
    "plt.legend()"
   ]
  },
  {
   "cell_type": "code",
   "execution_count": null,
   "metadata": {},
   "outputs": [],
   "source": [
    "#quick look at capacity factors\n",
    "plt.hist(mcoe_by_generator.capacity_factor, range=(0,1.5), bins=200, alpha=0.5, color='blue')\n",
    "plt.xlabel(\"Capacity factor (Net generation/Nameplate capacity)\")\n",
    "plt.ylabel(\"Number of generator records\")\n",
    "plt.title(\"Capacity factors\")\n",
    "plt.legend()"
   ]
  },
  {
   "cell_type": "code",
   "execution_count": null,
   "metadata": {},
   "outputs": [],
   "source": [
    "#quick look at spread in fuel_cost_per_mwh for these plants\n",
    "plt.hist(merged.fuel_cost_per_mwh, range=(0,200), bins=200, alpha=0.5, color='green')\n",
    "plt.xlabel(\"Fuel Cost ($/mwh)\")\n",
    "plt.ylabel(\"Number of generator records\")\n",
    "plt.title(\"Cost of fuel\")\n",
    "plt.legend()"
   ]
  },
  {
   "cell_type": "code",
   "execution_count": null,
   "metadata": {
    "collapsed": true
   },
   "outputs": [],
   "source": []
  },
  {
   "cell_type": "code",
   "execution_count": null,
   "metadata": {
    "collapsed": true
   },
   "outputs": [],
   "source": []
  },
  {
   "cell_type": "code",
   "execution_count": null,
   "metadata": {
    "collapsed": true
   },
   "outputs": [],
   "source": []
  },
  {
   "cell_type": "code",
   "execution_count": null,
   "metadata": {
    "collapsed": true
   },
   "outputs": [],
   "source": []
  }
 ],
 "metadata": {
  "kernelspec": {
   "display_name": "Python 3",
   "language": "python",
   "name": "python3"
  },
  "language_info": {
   "codemirror_mode": {
    "name": "ipython",
    "version": 3
   },
   "file_extension": ".py",
   "mimetype": "text/x-python",
   "name": "python",
   "nbconvert_exporter": "python",
   "pygments_lexer": "ipython3",
   "version": "3.6.1"
  }
 },
 "nbformat": 4,
 "nbformat_minor": 2
}
